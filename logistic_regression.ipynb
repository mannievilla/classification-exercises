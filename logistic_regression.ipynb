{
 "cells": [
  {
   "cell_type": "markdown",
   "id": "e14335c4",
   "metadata": {},
   "source": [
    "# In these exercises, we'll continue working with the titanic dataset and building logistic regression models. Throughout this exercise, be sure you are training, evaluation, and comparing models on the train and validate datasets. The test dataset should only be used for your final model."
   ]
  },
  {
   "cell_type": "code",
   "execution_count": 1,
   "id": "3f75eaab",
   "metadata": {},
   "outputs": [],
   "source": [
    "import pydataset\n",
    "from env import get_db_url\n",
    "\n",
    "import pandas as pd\n",
    "import numpy as np\n",
    "\n",
    "from prepare import prep_titanic\n",
    "from prepare import titanic_split\n",
    "\n",
    "from sklearn.model_selection import train_test_split\n",
    "from sklearn.linear_model import LogisticRegression\n",
    "from sklearn.metrics import classification_report\n",
    "from sklearn.metrics import confusion_matrix\n",
    "\n",
    "import matplotlib.pyplot as plt\n",
    "import seaborn as sns\n",
    "\n",
    "from acquire import get_titanic_data"
   ]
  },
  {
   "cell_type": "code",
   "execution_count": 2,
   "id": "8d57ba06",
   "metadata": {},
   "outputs": [
    {
     "data": {
      "text/html": [
       "<div>\n",
       "<style scoped>\n",
       "    .dataframe tbody tr th:only-of-type {\n",
       "        vertical-align: middle;\n",
       "    }\n",
       "\n",
       "    .dataframe tbody tr th {\n",
       "        vertical-align: top;\n",
       "    }\n",
       "\n",
       "    .dataframe thead th {\n",
       "        text-align: right;\n",
       "    }\n",
       "</style>\n",
       "<table border=\"1\" class=\"dataframe\">\n",
       "  <thead>\n",
       "    <tr style=\"text-align: right;\">\n",
       "      <th></th>\n",
       "      <th>passenger_id</th>\n",
       "      <th>survived</th>\n",
       "      <th>pclass</th>\n",
       "      <th>sex</th>\n",
       "      <th>age</th>\n",
       "      <th>sibsp</th>\n",
       "      <th>parch</th>\n",
       "      <th>fare</th>\n",
       "      <th>embarked</th>\n",
       "      <th>alone</th>\n",
       "      <th>sex_male</th>\n",
       "      <th>embarked_Q</th>\n",
       "      <th>embarked_S</th>\n",
       "      <th>baseline_prediction</th>\n",
       "    </tr>\n",
       "  </thead>\n",
       "  <tbody>\n",
       "    <tr>\n",
       "      <th>0</th>\n",
       "      <td>0</td>\n",
       "      <td>0</td>\n",
       "      <td>3</td>\n",
       "      <td>male</td>\n",
       "      <td>22.0</td>\n",
       "      <td>1</td>\n",
       "      <td>0</td>\n",
       "      <td>7.2500</td>\n",
       "      <td>S</td>\n",
       "      <td>0</td>\n",
       "      <td>1</td>\n",
       "      <td>0</td>\n",
       "      <td>1</td>\n",
       "      <td>0</td>\n",
       "    </tr>\n",
       "    <tr>\n",
       "      <th>1</th>\n",
       "      <td>1</td>\n",
       "      <td>1</td>\n",
       "      <td>1</td>\n",
       "      <td>female</td>\n",
       "      <td>38.0</td>\n",
       "      <td>1</td>\n",
       "      <td>0</td>\n",
       "      <td>71.2833</td>\n",
       "      <td>C</td>\n",
       "      <td>0</td>\n",
       "      <td>0</td>\n",
       "      <td>0</td>\n",
       "      <td>0</td>\n",
       "      <td>0</td>\n",
       "    </tr>\n",
       "    <tr>\n",
       "      <th>2</th>\n",
       "      <td>2</td>\n",
       "      <td>1</td>\n",
       "      <td>3</td>\n",
       "      <td>female</td>\n",
       "      <td>26.0</td>\n",
       "      <td>0</td>\n",
       "      <td>0</td>\n",
       "      <td>7.9250</td>\n",
       "      <td>S</td>\n",
       "      <td>1</td>\n",
       "      <td>0</td>\n",
       "      <td>0</td>\n",
       "      <td>1</td>\n",
       "      <td>0</td>\n",
       "    </tr>\n",
       "    <tr>\n",
       "      <th>3</th>\n",
       "      <td>3</td>\n",
       "      <td>1</td>\n",
       "      <td>1</td>\n",
       "      <td>female</td>\n",
       "      <td>35.0</td>\n",
       "      <td>1</td>\n",
       "      <td>0</td>\n",
       "      <td>53.1000</td>\n",
       "      <td>S</td>\n",
       "      <td>0</td>\n",
       "      <td>0</td>\n",
       "      <td>0</td>\n",
       "      <td>1</td>\n",
       "      <td>0</td>\n",
       "    </tr>\n",
       "    <tr>\n",
       "      <th>4</th>\n",
       "      <td>4</td>\n",
       "      <td>0</td>\n",
       "      <td>3</td>\n",
       "      <td>male</td>\n",
       "      <td>35.0</td>\n",
       "      <td>0</td>\n",
       "      <td>0</td>\n",
       "      <td>8.0500</td>\n",
       "      <td>S</td>\n",
       "      <td>1</td>\n",
       "      <td>1</td>\n",
       "      <td>0</td>\n",
       "      <td>1</td>\n",
       "      <td>0</td>\n",
       "    </tr>\n",
       "  </tbody>\n",
       "</table>\n",
       "</div>"
      ],
      "text/plain": [
       "   passenger_id  survived  pclass     sex   age  sibsp  parch     fare  \\\n",
       "0             0         0       3    male  22.0      1      0   7.2500   \n",
       "1             1         1       1  female  38.0      1      0  71.2833   \n",
       "2             2         1       3  female  26.0      0      0   7.9250   \n",
       "3             3         1       1  female  35.0      1      0  53.1000   \n",
       "4             4         0       3    male  35.0      0      0   8.0500   \n",
       "\n",
       "  embarked  alone  sex_male  embarked_Q  embarked_S  baseline_prediction  \n",
       "0        S      0         1           0           1                    0  \n",
       "1        C      0         0           0           0                    0  \n",
       "2        S      1         0           0           1                    0  \n",
       "3        S      0         0           0           1                    0  \n",
       "4        S      1         1           0           1                    0  "
      ]
     },
     "execution_count": 2,
     "metadata": {},
     "output_type": "execute_result"
    }
   ],
   "source": [
    "df = prep_titanic()\n",
    "df['baseline_prediction'] = 0\n",
    "df.head()"
   ]
  },
  {
   "cell_type": "code",
   "execution_count": 3,
   "id": "2e0ae476",
   "metadata": {},
   "outputs": [
    {
     "data": {
      "text/plain": [
       "28.0"
      ]
     },
     "execution_count": 3,
     "metadata": {},
     "output_type": "execute_result"
    }
   ],
   "source": [
    "og_df = get_titanic_data()\n",
    "og_df.head(100)\n",
    "og_df.age[df['age'].notnull()].median()"
   ]
  },
  {
   "cell_type": "code",
   "execution_count": 4,
   "id": "8b079956",
   "metadata": {},
   "outputs": [],
   "source": [
    "df['age'] = df['age'].fillna(28.00)"
   ]
  },
  {
   "cell_type": "code",
   "execution_count": 5,
   "id": "b28ee6db",
   "metadata": {},
   "outputs": [
    {
     "data": {
      "text/plain": [
       "0    549\n",
       "1    342\n",
       "Name: survived, dtype: int64"
      ]
     },
     "execution_count": 5,
     "metadata": {},
     "output_type": "execute_result"
    }
   ],
   "source": [
    "df.survived.value_counts()"
   ]
  },
  {
   "cell_type": "markdown",
   "id": "154174d3",
   "metadata": {},
   "source": [
    "## Baseline Accuracy"
   ]
  },
  {
   "cell_type": "code",
   "execution_count": 6,
   "id": "c9a370ec",
   "metadata": {},
   "outputs": [
    {
     "data": {
      "text/plain": [
       "0.6161616161616161"
      ]
     },
     "execution_count": 6,
     "metadata": {},
     "output_type": "execute_result"
    }
   ],
   "source": [
    "baseline_accuracy = (df.survived == df.baseline_prediction).mean()\n",
    "baseline_accuracy"
   ]
  },
  {
   "cell_type": "code",
   "execution_count": 7,
   "id": "52cac76e",
   "metadata": {},
   "outputs": [],
   "source": [
    "df['fare'] = df['fare'].astype('float64')"
   ]
  },
  {
   "cell_type": "code",
   "execution_count": 8,
   "id": "965b2e3f",
   "metadata": {},
   "outputs": [],
   "source": [
    "# df.pclass.get_dummies()\n",
    "# Assuming df is your DataFrame\n",
    "dummy_df = pd.get_dummies(df['pclass'], prefix='pclass')\n",
    "\n",
    "# Concatenate the dummy variables with the original DataFrame\n",
    "df = pd.concat([df, dummy_df], axis=1)"
   ]
  },
  {
   "cell_type": "code",
   "execution_count": 9,
   "id": "dde2a964",
   "metadata": {},
   "outputs": [
    {
     "data": {
      "text/plain": [
       "Index(['passenger_id', 'survived', 'pclass', 'sex', 'age', 'sibsp', 'parch',\n",
       "       'fare', 'embarked', 'alone', 'sex_male', 'embarked_Q', 'embarked_S',\n",
       "       'baseline_prediction', 'pclass_1', 'pclass_2', 'pclass_3'],\n",
       "      dtype='object')"
      ]
     },
     "execution_count": 9,
     "metadata": {},
     "output_type": "execute_result"
    }
   ],
   "source": [
    "df.columns"
   ]
  },
  {
   "cell_type": "markdown",
   "id": "736e1921",
   "metadata": {},
   "source": [
    "## Train, Validate, Test"
   ]
  },
  {
   "cell_type": "code",
   "execution_count": 10,
   "id": "c54dd886",
   "metadata": {},
   "outputs": [],
   "source": [
    "df, train, validate, test = titanic_split(df)"
   ]
  },
  {
   "cell_type": "code",
   "execution_count": 11,
   "id": "f6ec74a8",
   "metadata": {},
   "outputs": [
    {
     "name": "stdout",
     "output_type": "stream",
     "text": [
      "<class 'pandas.core.frame.DataFrame'>\n",
      "Int64Index: 534 entries, 455 to 496\n",
      "Data columns (total 17 columns):\n",
      " #   Column               Non-Null Count  Dtype  \n",
      "---  ------               --------------  -----  \n",
      " 0   passenger_id         534 non-null    int64  \n",
      " 1   survived             534 non-null    int64  \n",
      " 2   pclass               534 non-null    int64  \n",
      " 3   sex                  534 non-null    object \n",
      " 4   age                  534 non-null    float64\n",
      " 5   sibsp                534 non-null    int64  \n",
      " 6   parch                534 non-null    int64  \n",
      " 7   fare                 534 non-null    float64\n",
      " 8   embarked             534 non-null    object \n",
      " 9   alone                534 non-null    int64  \n",
      " 10  sex_male             534 non-null    uint8  \n",
      " 11  embarked_Q           534 non-null    uint8  \n",
      " 12  embarked_S           534 non-null    uint8  \n",
      " 13  baseline_prediction  534 non-null    int64  \n",
      " 14  pclass_1             534 non-null    uint8  \n",
      " 15  pclass_2             534 non-null    uint8  \n",
      " 16  pclass_3             534 non-null    uint8  \n",
      "dtypes: float64(2), int64(7), object(2), uint8(6)\n",
      "memory usage: 53.2+ KB\n",
      "<class 'pandas.core.frame.DataFrame'>\n",
      "Int64Index: 178 entries, 176 to 837\n",
      "Data columns (total 17 columns):\n",
      " #   Column               Non-Null Count  Dtype  \n",
      "---  ------               --------------  -----  \n",
      " 0   passenger_id         178 non-null    int64  \n",
      " 1   survived             178 non-null    int64  \n",
      " 2   pclass               178 non-null    int64  \n",
      " 3   sex                  178 non-null    object \n",
      " 4   age                  178 non-null    float64\n",
      " 5   sibsp                178 non-null    int64  \n",
      " 6   parch                178 non-null    int64  \n",
      " 7   fare                 178 non-null    float64\n",
      " 8   embarked             178 non-null    object \n",
      " 9   alone                178 non-null    int64  \n",
      " 10  sex_male             178 non-null    uint8  \n",
      " 11  embarked_Q           178 non-null    uint8  \n",
      " 12  embarked_S           178 non-null    uint8  \n",
      " 13  baseline_prediction  178 non-null    int64  \n",
      " 14  pclass_1             178 non-null    uint8  \n",
      " 15  pclass_2             178 non-null    uint8  \n",
      " 16  pclass_3             178 non-null    uint8  \n",
      "dtypes: float64(2), int64(7), object(2), uint8(6)\n",
      "memory usage: 17.7+ KB\n",
      "<class 'pandas.core.frame.DataFrame'>\n",
      "Int64Index: 179 entries, 561 to 53\n",
      "Data columns (total 17 columns):\n",
      " #   Column               Non-Null Count  Dtype  \n",
      "---  ------               --------------  -----  \n",
      " 0   passenger_id         179 non-null    int64  \n",
      " 1   survived             179 non-null    int64  \n",
      " 2   pclass               179 non-null    int64  \n",
      " 3   sex                  179 non-null    object \n",
      " 4   age                  179 non-null    float64\n",
      " 5   sibsp                179 non-null    int64  \n",
      " 6   parch                179 non-null    int64  \n",
      " 7   fare                 179 non-null    float64\n",
      " 8   embarked             179 non-null    object \n",
      " 9   alone                179 non-null    int64  \n",
      " 10  sex_male             179 non-null    uint8  \n",
      " 11  embarked_Q           179 non-null    uint8  \n",
      " 12  embarked_S           179 non-null    uint8  \n",
      " 13  baseline_prediction  179 non-null    int64  \n",
      " 14  pclass_1             179 non-null    uint8  \n",
      " 15  pclass_2             179 non-null    uint8  \n",
      " 16  pclass_3             179 non-null    uint8  \n",
      "dtypes: float64(2), int64(7), object(2), uint8(6)\n",
      "memory usage: 17.8+ KB\n"
     ]
    },
    {
     "data": {
      "text/plain": [
       "(None, None, None)"
      ]
     },
     "execution_count": 11,
     "metadata": {},
     "output_type": "execute_result"
    }
   ],
   "source": [
    "# inspect\n",
    "train.info(), validate.info(), test.info()"
   ]
  },
  {
   "cell_type": "markdown",
   "id": "c1d281b7",
   "metadata": {},
   "source": [
    "## * For all of the models you create, choose a threshold that optimizes for accuracy."
   ]
  },
  {
   "cell_type": "markdown",
   "id": "1bfffa09",
   "metadata": {},
   "source": [
    "# Create a new notebook, logistic_regression, use it to answer the following questions:"
   ]
  },
  {
   "cell_type": "markdown",
   "id": "666a651d",
   "metadata": {},
   "source": [
    "## 1. Create a model that includes only age, fare, and pclass. Does this model perform better than your baseline?"
   ]
  },
  {
   "cell_type": "markdown",
   "id": "4b7f01d1",
   "metadata": {},
   "source": [
    "## Removing the lesser columns"
   ]
  },
  {
   "cell_type": "code",
   "execution_count": 12,
   "id": "9cd3112a",
   "metadata": {},
   "outputs": [],
   "source": [
    "# create X & y version of train/validate/test\n",
    "# where X contains the features we want to use and y is a series with just the target variable\n",
    "\n",
    "X_train = train.drop(columns=['passenger_id', 'survived', 'sex', 'sibsp', 'parch', 'embarked', 'alone', 'sex_male', 'embarked_Q', \n",
    "        'embarked_S', 'baseline_prediction', 'pclass_1', 'pclass_2', 'pclass_3'])\n",
    "y_train = train.survived\n",
    "X_validate = validate.drop(columns=['passenger_id', 'survived', 'sex', 'sibsp', 'parch', 'embarked', 'alone', 'sex_male', 'embarked_Q', \n",
    "        'embarked_S', 'baseline_prediction', 'pclass_1', 'pclass_2', 'pclass_3'])\n",
    "y_validate = validate.survived\n",
    "X_test = test.drop(columns=['passenger_id', 'survived', 'sex',  'sibsp', 'parch', 'embarked', 'alone', 'sex_male', 'embarked_Q', \n",
    "        'embarked_S', 'baseline_prediction', 'pclass_1', 'pclass_2', 'pclass_3'])\n",
    "y_test = test.survived"
   ]
  },
  {
   "cell_type": "code",
   "execution_count": 13,
   "id": "3d2619d2",
   "metadata": {},
   "outputs": [],
   "source": [
    "def Log_Regression(c, k, X, y):\n",
    "    # c=C\n",
    "    # k=sclaing\n",
    "    logit = LogisticRegression(C=c, \n",
    "                            class_weight={0:1, 1:99}, \n",
    "                            random_state=123, \n",
    "                            intercept_scaling=k, \n",
    "                            solver='lbfgs')\n",
    "\n",
    "    \n",
    "    logit.fit(X, y)\n",
    "    \n",
    "    y_trn_pred = logit.predict(X)\n",
    "    \n",
    "    y_val_pred = logit.predict(X_validate)\n",
    "    \n",
    "    y_trn_proba = logit.predict_proba(X)\n",
    "    \n",
    "    y_val_proba = logit.predict_proba(X_validate)\n",
    "    \n",
    "    \n",
    "    return y_trn_pred, y_val_pred, y_trn_proba, c, logit"
   ]
  },
  {
   "cell_type": "code",
   "execution_count": 14,
   "id": "49794228",
   "metadata": {},
   "outputs": [],
   "source": [
    "y_trn_pred, y_val_pred, y_trn_proba, c, logit = Log_Regression(1, 1, X_train, y_train)"
   ]
  },
  {
   "cell_type": "markdown",
   "id": "f2553a6b",
   "metadata": {},
   "source": [
    "## X_train Accuracy VS Baseline Accuracy"
   ]
  },
  {
   "cell_type": "code",
   "execution_count": 15,
   "id": "2c043b76",
   "metadata": {},
   "outputs": [
    {
     "data": {
      "text/plain": [
       "Index(['pclass', 'age', 'fare'], dtype='object')"
      ]
     },
     "execution_count": 15,
     "metadata": {},
     "output_type": "execute_result"
    }
   ],
   "source": [
    "X_train.columns"
   ]
  },
  {
   "cell_type": "code",
   "execution_count": 16,
   "id": "c3f5e466",
   "metadata": {
    "scrolled": true
   },
   "outputs": [
    {
     "data": {
      "text/plain": [
       "(0.3838951310861423, 0.6161616161616161)"
      ]
     },
     "execution_count": 16,
     "metadata": {},
     "output_type": "execute_result"
    }
   ],
   "source": [
    "trn_score = logit.score(X_train, y_train)\n",
    "trn_score, baseline_accuracy"
   ]
  },
  {
   "cell_type": "markdown",
   "id": "8626e159",
   "metadata": {},
   "source": [
    "### * conclusion: This model preforms less than baseline."
   ]
  },
  {
   "cell_type": "markdown",
   "id": "ef7f1d8a",
   "metadata": {},
   "source": [
    "## 2. Include sex in your model as well. Note that you'll need to encode or create a dummy variable of this feature before including it in a model."
   ]
  },
  {
   "cell_type": "code",
   "execution_count": 17,
   "id": "dff54ba1",
   "metadata": {},
   "outputs": [],
   "source": [
    "X_train['sex_male'] = df['sex_male']\n",
    "X_validate['sex_male'] = df['sex_male']\n",
    "X_test['sex_male'] = df['sex_male']"
   ]
  },
  {
   "cell_type": "code",
   "execution_count": 18,
   "id": "8830f1b9",
   "metadata": {},
   "outputs": [
    {
     "data": {
      "text/plain": [
       "(Index(['pclass', 'age', 'fare', 'sex_male'], dtype='object'),\n",
       " Index(['pclass', 'age', 'fare', 'sex_male'], dtype='object'),\n",
       " Index(['pclass', 'age', 'fare', 'sex_male'], dtype='object'))"
      ]
     },
     "execution_count": 18,
     "metadata": {},
     "output_type": "execute_result"
    }
   ],
   "source": [
    "X_train.columns, X_validate.columns, X_test.columns"
   ]
  },
  {
   "cell_type": "markdown",
   "id": "ec0088cf",
   "metadata": {},
   "source": [
    "## X_train Accuracy VS Baseline Accuracy"
   ]
  },
  {
   "cell_type": "code",
   "execution_count": 20,
   "id": "2661a85a",
   "metadata": {},
   "outputs": [],
   "source": [
    "y_trn_pred, y_val_pred, y_trn_proba, c, logit = Log_Regression(1, 1, X_train, y_train)"
   ]
  },
  {
   "cell_type": "code",
   "execution_count": 21,
   "id": "c8e6fdfa",
   "metadata": {},
   "outputs": [
    {
     "data": {
      "text/plain": [
       "(0.3838951310861423, 0.6161616161616161)"
      ]
     },
     "execution_count": 21,
     "metadata": {},
     "output_type": "execute_result"
    }
   ],
   "source": [
    "trn_score = logit.score(X_train, y_train)\n",
    "trn_score, baseline_accuracy"
   ]
  },
  {
   "cell_type": "markdown",
   "id": "fed4d18b",
   "metadata": {},
   "source": [
    "## 3. Try out other combinations of features and models."
   ]
  },
  {
   "cell_type": "markdown",
   "id": "3b2ed746",
   "metadata": {},
   "source": [
    "### * Make all possible combnations"
   ]
  },
  {
   "cell_type": "code",
   "execution_count": null,
   "id": "4ec93f9e",
   "metadata": {},
   "outputs": [],
   "source": []
  },
  {
   "cell_type": "code",
   "execution_count": 29,
   "id": "afce2bcc",
   "metadata": {},
   "outputs": [
    {
     "name": "stdout",
     "output_type": "stream",
     "text": [
      "Training Dataset Model Coefficient of 1,\n",
      "Model's Accuracy: 0.3838951310861423\n",
      "Difference between Model and Basleine Accuracy: -0.23226648507547382\n",
      "Train Classification Report\n",
      "              precision    recall  f1-score   support\n",
      "\n",
      "           0       0.00      0.00      0.00       329\n",
      "           1       0.38      1.00      0.55       205\n",
      "\n",
      "    accuracy                           0.38       534\n",
      "   macro avg       0.19      0.50      0.28       534\n",
      "weighted avg       0.15      0.38      0.21       534\n",
      "\n",
      "\n",
      "           VS             \n",
      "\n",
      "Validation Dataset Model Coefficient of 1,\n",
      "Model's Accuracy: 0.38202247191011235\n",
      "Difference between Model and Basleine Accuracy: -0.23413914425150378\n",
      "Validate Classification Report\n",
      "              precision    recall  f1-score   support\n",
      "\n",
      "           0       0.00      0.00      0.00       110\n",
      "           1       0.38      1.00      0.55        68\n",
      "\n",
      "    accuracy                           0.38       178\n",
      "   macro avg       0.19      0.50      0.28       178\n",
      "weighted avg       0.15      0.38      0.21       178\n",
      "\n",
      "\n",
      "Difference bewtween Training and Validate:0.0018726591760299671\n",
      "\n",
      "----------------------------------------------------\n",
      "\n",
      "Training Dataset Model Coefficient of 1,\n",
      "Model's Accuracy: 0.3838951310861423\n",
      "Difference between Model and Basleine Accuracy: -0.23226648507547382\n",
      "Train Classification Report\n",
      "              precision    recall  f1-score   support\n",
      "\n",
      "           0       0.00      0.00      0.00       329\n",
      "           1       0.38      1.00      0.55       205\n",
      "\n",
      "    accuracy                           0.38       534\n",
      "   macro avg       0.19      0.50      0.28       534\n",
      "weighted avg       0.15      0.38      0.21       534\n",
      "\n",
      "\n",
      "           VS             \n",
      "\n",
      "Validation Dataset Model Coefficient of 1,\n",
      "Model's Accuracy: 0.38202247191011235\n",
      "Difference between Model and Basleine Accuracy: -0.23413914425150378\n",
      "Validate Classification Report\n",
      "              precision    recall  f1-score   support\n",
      "\n",
      "           0       0.00      0.00      0.00       110\n",
      "           1       0.38      1.00      0.55        68\n",
      "\n",
      "    accuracy                           0.38       178\n",
      "   macro avg       0.19      0.50      0.28       178\n",
      "weighted avg       0.15      0.38      0.21       178\n",
      "\n",
      "\n",
      "Difference bewtween Training and Validate:0.0018726591760299671\n",
      "\n",
      "----------------------------------------------------\n",
      "\n",
      "Training Dataset Model Coefficient of 1,\n",
      "Model's Accuracy: 0.3838951310861423\n",
      "Difference between Model and Basleine Accuracy: -0.23226648507547382\n",
      "Train Classification Report\n",
      "              precision    recall  f1-score   support\n",
      "\n",
      "           0       0.00      0.00      0.00       329\n",
      "           1       0.38      1.00      0.55       205\n",
      "\n",
      "    accuracy                           0.38       534\n",
      "   macro avg       0.19      0.50      0.28       534\n",
      "weighted avg       0.15      0.38      0.21       534\n",
      "\n",
      "\n",
      "           VS             \n",
      "\n",
      "Validation Dataset Model Coefficient of 1,\n",
      "Model's Accuracy: 0.38202247191011235\n",
      "Difference between Model and Basleine Accuracy: -0.23413914425150378\n",
      "Validate Classification Report\n",
      "              precision    recall  f1-score   support\n",
      "\n",
      "           0       0.00      0.00      0.00       110\n",
      "           1       0.38      1.00      0.55        68\n",
      "\n",
      "    accuracy                           0.38       178\n",
      "   macro avg       0.19      0.50      0.28       178\n",
      "weighted avg       0.15      0.38      0.21       178\n",
      "\n",
      "\n",
      "Difference bewtween Training and Validate:0.0018726591760299671\n",
      "\n",
      "----------------------------------------------------\n",
      "\n",
      "Training Dataset Model Coefficient of 1,\n",
      "Model's Accuracy: 0.3838951310861423\n",
      "Difference between Model and Basleine Accuracy: -0.23226648507547382\n",
      "Train Classification Report\n",
      "              precision    recall  f1-score   support\n",
      "\n",
      "           0       0.00      0.00      0.00       329\n",
      "           1       0.38      1.00      0.55       205\n",
      "\n",
      "    accuracy                           0.38       534\n",
      "   macro avg       0.19      0.50      0.28       534\n",
      "weighted avg       0.15      0.38      0.21       534\n",
      "\n",
      "\n",
      "           VS             \n",
      "\n",
      "Validation Dataset Model Coefficient of 1,\n",
      "Model's Accuracy: 0.38202247191011235\n",
      "Difference between Model and Basleine Accuracy: -0.23413914425150378\n",
      "Validate Classification Report\n",
      "              precision    recall  f1-score   support\n",
      "\n",
      "           0       0.00      0.00      0.00       110\n",
      "           1       0.38      1.00      0.55        68\n",
      "\n",
      "    accuracy                           0.38       178\n",
      "   macro avg       0.19      0.50      0.28       178\n",
      "weighted avg       0.15      0.38      0.21       178\n",
      "\n",
      "\n",
      "Difference bewtween Training and Validate:0.0018726591760299671\n",
      "\n",
      "----------------------------------------------------\n",
      "\n",
      "Training Dataset Model Coefficient of 1,\n",
      "Model's Accuracy: 0.3838951310861423\n",
      "Difference between Model and Basleine Accuracy: -0.23226648507547382\n",
      "Train Classification Report\n",
      "              precision    recall  f1-score   support\n",
      "\n",
      "           0       0.00      0.00      0.00       329\n",
      "           1       0.38      1.00      0.55       205\n",
      "\n",
      "    accuracy                           0.38       534\n",
      "   macro avg       0.19      0.50      0.28       534\n",
      "weighted avg       0.15      0.38      0.21       534\n",
      "\n",
      "\n",
      "           VS             \n",
      "\n",
      "Validation Dataset Model Coefficient of 1,\n",
      "Model's Accuracy: 0.38202247191011235\n",
      "Difference between Model and Basleine Accuracy: -0.23413914425150378\n",
      "Validate Classification Report\n",
      "              precision    recall  f1-score   support\n",
      "\n",
      "           0       0.00      0.00      0.00       110\n",
      "           1       0.38      1.00      0.55        68\n",
      "\n",
      "    accuracy                           0.38       178\n",
      "   macro avg       0.19      0.50      0.28       178\n",
      "weighted avg       0.15      0.38      0.21       178\n",
      "\n",
      "\n",
      "Difference bewtween Training and Validate:0.0018726591760299671\n",
      "\n",
      "----------------------------------------------------\n",
      "\n",
      "Training Dataset Model Coefficient of 1,\n",
      "Model's Accuracy: 0.3838951310861423\n",
      "Difference between Model and Basleine Accuracy: -0.23226648507547382\n",
      "Train Classification Report\n",
      "              precision    recall  f1-score   support\n",
      "\n",
      "           0       0.00      0.00      0.00       329\n",
      "           1       0.38      1.00      0.55       205\n",
      "\n",
      "    accuracy                           0.38       534\n",
      "   macro avg       0.19      0.50      0.28       534\n",
      "weighted avg       0.15      0.38      0.21       534\n",
      "\n",
      "\n",
      "           VS             \n",
      "\n",
      "Validation Dataset Model Coefficient of 1,\n",
      "Model's Accuracy: 0.38202247191011235\n",
      "Difference between Model and Basleine Accuracy: -0.23413914425150378\n",
      "Validate Classification Report\n",
      "              precision    recall  f1-score   support\n",
      "\n",
      "           0       0.00      0.00      0.00       110\n",
      "           1       0.38      1.00      0.55        68\n",
      "\n",
      "    accuracy                           0.38       178\n",
      "   macro avg       0.19      0.50      0.28       178\n",
      "weighted avg       0.15      0.38      0.21       178\n",
      "\n",
      "\n",
      "Difference bewtween Training and Validate:0.0018726591760299671\n",
      "\n",
      "----------------------------------------------------\n",
      "\n",
      "Training Dataset Model Coefficient of 1,\n",
      "Model's Accuracy: 0.3838951310861423\n",
      "Difference between Model and Basleine Accuracy: -0.23226648507547382\n",
      "Train Classification Report\n",
      "              precision    recall  f1-score   support\n",
      "\n",
      "           0       0.00      0.00      0.00       329\n",
      "           1       0.38      1.00      0.55       205\n",
      "\n",
      "    accuracy                           0.38       534\n",
      "   macro avg       0.19      0.50      0.28       534\n",
      "weighted avg       0.15      0.38      0.21       534\n",
      "\n",
      "\n",
      "           VS             \n",
      "\n",
      "Validation Dataset Model Coefficient of 1,\n",
      "Model's Accuracy: 0.38202247191011235\n",
      "Difference between Model and Basleine Accuracy: -0.23413914425150378\n",
      "Validate Classification Report\n",
      "              precision    recall  f1-score   support\n",
      "\n",
      "           0       0.00      0.00      0.00       110\n",
      "           1       0.38      1.00      0.55        68\n",
      "\n",
      "    accuracy                           0.38       178\n",
      "   macro avg       0.19      0.50      0.28       178\n",
      "weighted avg       0.15      0.38      0.21       178\n",
      "\n",
      "\n",
      "Difference bewtween Training and Validate:0.0018726591760299671\n",
      "\n",
      "----------------------------------------------------\n",
      "\n",
      "\n",
      "Top Model #1\n",
      "*************FINAL ANALYSIS*************\n",
      "\n",
      "Top performing Training Model:\n",
      "        Max Depth:1\n",
      "        Accuracy:0.3838951310861423\n",
      "        \n",
      "Top performing Validation Model:\n",
      "\n",
      "        Max Depth:1\n",
      "        Accuracy:0.38202247191011235\n",
      "        Difference:0.0018726591760299671\n"
     ]
    },
    {
     "name": "stderr",
     "output_type": "stream",
     "text": [
      "/opt/homebrew/anaconda3/lib/python3.10/site-packages/sklearn/metrics/_classification.py:1344: UndefinedMetricWarning: Precision and F-score are ill-defined and being set to 0.0 in labels with no predicted samples. Use `zero_division` parameter to control this behavior.\n",
      "  _warn_prf(average, modifier, msg_start, len(result))\n",
      "/opt/homebrew/anaconda3/lib/python3.10/site-packages/sklearn/metrics/_classification.py:1344: UndefinedMetricWarning: Precision and F-score are ill-defined and being set to 0.0 in labels with no predicted samples. Use `zero_division` parameter to control this behavior.\n",
      "  _warn_prf(average, modifier, msg_start, len(result))\n",
      "/opt/homebrew/anaconda3/lib/python3.10/site-packages/sklearn/metrics/_classification.py:1344: UndefinedMetricWarning: Precision and F-score are ill-defined and being set to 0.0 in labels with no predicted samples. Use `zero_division` parameter to control this behavior.\n",
      "  _warn_prf(average, modifier, msg_start, len(result))\n",
      "/opt/homebrew/anaconda3/lib/python3.10/site-packages/sklearn/metrics/_classification.py:1344: UndefinedMetricWarning: Precision and F-score are ill-defined and being set to 0.0 in labels with no predicted samples. Use `zero_division` parameter to control this behavior.\n",
      "  _warn_prf(average, modifier, msg_start, len(result))\n",
      "/opt/homebrew/anaconda3/lib/python3.10/site-packages/sklearn/metrics/_classification.py:1344: UndefinedMetricWarning: Precision and F-score are ill-defined and being set to 0.0 in labels with no predicted samples. Use `zero_division` parameter to control this behavior.\n",
      "  _warn_prf(average, modifier, msg_start, len(result))\n",
      "/opt/homebrew/anaconda3/lib/python3.10/site-packages/sklearn/metrics/_classification.py:1344: UndefinedMetricWarning: Precision and F-score are ill-defined and being set to 0.0 in labels with no predicted samples. Use `zero_division` parameter to control this behavior.\n",
      "  _warn_prf(average, modifier, msg_start, len(result))\n",
      "/opt/homebrew/anaconda3/lib/python3.10/site-packages/sklearn/metrics/_classification.py:1344: UndefinedMetricWarning: Precision and F-score are ill-defined and being set to 0.0 in labels with no predicted samples. Use `zero_division` parameter to control this behavior.\n",
      "  _warn_prf(average, modifier, msg_start, len(result))\n",
      "/opt/homebrew/anaconda3/lib/python3.10/site-packages/sklearn/metrics/_classification.py:1344: UndefinedMetricWarning: Precision and F-score are ill-defined and being set to 0.0 in labels with no predicted samples. Use `zero_division` parameter to control this behavior.\n",
      "  _warn_prf(average, modifier, msg_start, len(result))\n",
      "/opt/homebrew/anaconda3/lib/python3.10/site-packages/sklearn/metrics/_classification.py:1344: UndefinedMetricWarning: Precision and F-score are ill-defined and being set to 0.0 in labels with no predicted samples. Use `zero_division` parameter to control this behavior.\n",
      "  _warn_prf(average, modifier, msg_start, len(result))\n",
      "/opt/homebrew/anaconda3/lib/python3.10/site-packages/sklearn/metrics/_classification.py:1344: UndefinedMetricWarning: Precision and F-score are ill-defined and being set to 0.0 in labels with no predicted samples. Use `zero_division` parameter to control this behavior.\n",
      "  _warn_prf(average, modifier, msg_start, len(result))\n",
      "/opt/homebrew/anaconda3/lib/python3.10/site-packages/sklearn/metrics/_classification.py:1344: UndefinedMetricWarning: Precision and F-score are ill-defined and being set to 0.0 in labels with no predicted samples. Use `zero_division` parameter to control this behavior.\n",
      "  _warn_prf(average, modifier, msg_start, len(result))\n",
      "/opt/homebrew/anaconda3/lib/python3.10/site-packages/sklearn/metrics/_classification.py:1344: UndefinedMetricWarning: Precision and F-score are ill-defined and being set to 0.0 in labels with no predicted samples. Use `zero_division` parameter to control this behavior.\n",
      "  _warn_prf(average, modifier, msg_start, len(result))\n",
      "/opt/homebrew/anaconda3/lib/python3.10/site-packages/sklearn/metrics/_classification.py:1344: UndefinedMetricWarning: Precision and F-score are ill-defined and being set to 0.0 in labels with no predicted samples. Use `zero_division` parameter to control this behavior.\n",
      "  _warn_prf(average, modifier, msg_start, len(result))\n",
      "/opt/homebrew/anaconda3/lib/python3.10/site-packages/sklearn/metrics/_classification.py:1344: UndefinedMetricWarning: Precision and F-score are ill-defined and being set to 0.0 in labels with no predicted samples. Use `zero_division` parameter to control this behavior.\n",
      "  _warn_prf(average, modifier, msg_start, len(result))\n",
      "/opt/homebrew/anaconda3/lib/python3.10/site-packages/sklearn/metrics/_classification.py:1344: UndefinedMetricWarning: Precision and F-score are ill-defined and being set to 0.0 in labels with no predicted samples. Use `zero_division` parameter to control this behavior.\n",
      "  _warn_prf(average, modifier, msg_start, len(result))\n",
      "/opt/homebrew/anaconda3/lib/python3.10/site-packages/sklearn/metrics/_classification.py:1344: UndefinedMetricWarning: Precision and F-score are ill-defined and being set to 0.0 in labels with no predicted samples. Use `zero_division` parameter to control this behavior.\n",
      "  _warn_prf(average, modifier, msg_start, len(result))\n",
      "/opt/homebrew/anaconda3/lib/python3.10/site-packages/sklearn/metrics/_classification.py:1344: UndefinedMetricWarning: Precision and F-score are ill-defined and being set to 0.0 in labels with no predicted samples. Use `zero_division` parameter to control this behavior.\n",
      "  _warn_prf(average, modifier, msg_start, len(result))\n",
      "/opt/homebrew/anaconda3/lib/python3.10/site-packages/sklearn/metrics/_classification.py:1344: UndefinedMetricWarning: Precision and F-score are ill-defined and being set to 0.0 in labels with no predicted samples. Use `zero_division` parameter to control this behavior.\n",
      "  _warn_prf(average, modifier, msg_start, len(result))\n",
      "/opt/homebrew/anaconda3/lib/python3.10/site-packages/sklearn/metrics/_classification.py:1344: UndefinedMetricWarning: Precision and F-score are ill-defined and being set to 0.0 in labels with no predicted samples. Use `zero_division` parameter to control this behavior.\n",
      "  _warn_prf(average, modifier, msg_start, len(result))\n",
      "/opt/homebrew/anaconda3/lib/python3.10/site-packages/sklearn/metrics/_classification.py:1344: UndefinedMetricWarning: Precision and F-score are ill-defined and being set to 0.0 in labels with no predicted samples. Use `zero_division` parameter to control this behavior.\n",
      "  _warn_prf(average, modifier, msg_start, len(result))\n",
      "/opt/homebrew/anaconda3/lib/python3.10/site-packages/sklearn/metrics/_classification.py:1344: UndefinedMetricWarning: Precision and F-score are ill-defined and being set to 0.0 in labels with no predicted samples. Use `zero_division` parameter to control this behavior.\n",
      "  _warn_prf(average, modifier, msg_start, len(result))\n",
      "/opt/homebrew/anaconda3/lib/python3.10/site-packages/sklearn/metrics/_classification.py:1344: UndefinedMetricWarning: Precision and F-score are ill-defined and being set to 0.0 in labels with no predicted samples. Use `zero_division` parameter to control this behavior.\n",
      "  _warn_prf(average, modifier, msg_start, len(result))\n",
      "/opt/homebrew/anaconda3/lib/python3.10/site-packages/sklearn/metrics/_classification.py:1344: UndefinedMetricWarning: Precision and F-score are ill-defined and being set to 0.0 in labels with no predicted samples. Use `zero_division` parameter to control this behavior.\n",
      "  _warn_prf(average, modifier, msg_start, len(result))\n",
      "/opt/homebrew/anaconda3/lib/python3.10/site-packages/sklearn/metrics/_classification.py:1344: UndefinedMetricWarning: Precision and F-score are ill-defined and being set to 0.0 in labels with no predicted samples. Use `zero_division` parameter to control this behavior.\n",
      "  _warn_prf(average, modifier, msg_start, len(result))\n",
      "/opt/homebrew/anaconda3/lib/python3.10/site-packages/sklearn/metrics/_classification.py:1344: UndefinedMetricWarning: Precision and F-score are ill-defined and being set to 0.0 in labels with no predicted samples. Use `zero_division` parameter to control this behavior.\n",
      "  _warn_prf(average, modifier, msg_start, len(result))\n",
      "/opt/homebrew/anaconda3/lib/python3.10/site-packages/sklearn/metrics/_classification.py:1344: UndefinedMetricWarning: Precision and F-score are ill-defined and being set to 0.0 in labels with no predicted samples. Use `zero_division` parameter to control this behavior.\n",
      "  _warn_prf(average, modifier, msg_start, len(result))\n",
      "/opt/homebrew/anaconda3/lib/python3.10/site-packages/sklearn/metrics/_classification.py:1344: UndefinedMetricWarning: Precision and F-score are ill-defined and being set to 0.0 in labels with no predicted samples. Use `zero_division` parameter to control this behavior.\n",
      "  _warn_prf(average, modifier, msg_start, len(result))\n",
      "/opt/homebrew/anaconda3/lib/python3.10/site-packages/sklearn/metrics/_classification.py:1344: UndefinedMetricWarning: Precision and F-score are ill-defined and being set to 0.0 in labels with no predicted samples. Use `zero_division` parameter to control this behavior.\n",
      "  _warn_prf(average, modifier, msg_start, len(result))\n",
      "/opt/homebrew/anaconda3/lib/python3.10/site-packages/sklearn/metrics/_classification.py:1344: UndefinedMetricWarning: Precision and F-score are ill-defined and being set to 0.0 in labels with no predicted samples. Use `zero_division` parameter to control this behavior.\n",
      "  _warn_prf(average, modifier, msg_start, len(result))\n",
      "/opt/homebrew/anaconda3/lib/python3.10/site-packages/sklearn/metrics/_classification.py:1344: UndefinedMetricWarning: Precision and F-score are ill-defined and being set to 0.0 in labels with no predicted samples. Use `zero_division` parameter to control this behavior.\n",
      "  _warn_prf(average, modifier, msg_start, len(result))\n",
      "/opt/homebrew/anaconda3/lib/python3.10/site-packages/sklearn/metrics/_classification.py:1344: UndefinedMetricWarning: Precision and F-score are ill-defined and being set to 0.0 in labels with no predicted samples. Use `zero_division` parameter to control this behavior.\n",
      "  _warn_prf(average, modifier, msg_start, len(result))\n",
      "/opt/homebrew/anaconda3/lib/python3.10/site-packages/sklearn/metrics/_classification.py:1344: UndefinedMetricWarning: Precision and F-score are ill-defined and being set to 0.0 in labels with no predicted samples. Use `zero_division` parameter to control this behavior.\n",
      "  _warn_prf(average, modifier, msg_start, len(result))\n",
      "/opt/homebrew/anaconda3/lib/python3.10/site-packages/sklearn/metrics/_classification.py:1344: UndefinedMetricWarning: Precision and F-score are ill-defined and being set to 0.0 in labels with no predicted samples. Use `zero_division` parameter to control this behavior.\n",
      "  _warn_prf(average, modifier, msg_start, len(result))\n",
      "/opt/homebrew/anaconda3/lib/python3.10/site-packages/sklearn/metrics/_classification.py:1344: UndefinedMetricWarning: Precision and F-score are ill-defined and being set to 0.0 in labels with no predicted samples. Use `zero_division` parameter to control this behavior.\n",
      "  _warn_prf(average, modifier, msg_start, len(result))\n",
      "/opt/homebrew/anaconda3/lib/python3.10/site-packages/sklearn/metrics/_classification.py:1344: UndefinedMetricWarning: Precision and F-score are ill-defined and being set to 0.0 in labels with no predicted samples. Use `zero_division` parameter to control this behavior.\n",
      "  _warn_prf(average, modifier, msg_start, len(result))\n",
      "/opt/homebrew/anaconda3/lib/python3.10/site-packages/sklearn/metrics/_classification.py:1344: UndefinedMetricWarning: Precision and F-score are ill-defined and being set to 0.0 in labels with no predicted samples. Use `zero_division` parameter to control this behavior.\n",
      "  _warn_prf(average, modifier, msg_start, len(result))\n",
      "/opt/homebrew/anaconda3/lib/python3.10/site-packages/sklearn/metrics/_classification.py:1344: UndefinedMetricWarning: Precision and F-score are ill-defined and being set to 0.0 in labels with no predicted samples. Use `zero_division` parameter to control this behavior.\n",
      "  _warn_prf(average, modifier, msg_start, len(result))\n",
      "/opt/homebrew/anaconda3/lib/python3.10/site-packages/sklearn/metrics/_classification.py:1344: UndefinedMetricWarning: Precision and F-score are ill-defined and being set to 0.0 in labels with no predicted samples. Use `zero_division` parameter to control this behavior.\n",
      "  _warn_prf(average, modifier, msg_start, len(result))\n",
      "/opt/homebrew/anaconda3/lib/python3.10/site-packages/sklearn/metrics/_classification.py:1344: UndefinedMetricWarning: Precision and F-score are ill-defined and being set to 0.0 in labels with no predicted samples. Use `zero_division` parameter to control this behavior.\n",
      "  _warn_prf(average, modifier, msg_start, len(result))\n",
      "/opt/homebrew/anaconda3/lib/python3.10/site-packages/sklearn/metrics/_classification.py:1344: UndefinedMetricWarning: Precision and F-score are ill-defined and being set to 0.0 in labels with no predicted samples. Use `zero_division` parameter to control this behavior.\n",
      "  _warn_prf(average, modifier, msg_start, len(result))\n",
      "/opt/homebrew/anaconda3/lib/python3.10/site-packages/sklearn/metrics/_classification.py:1344: UndefinedMetricWarning: Precision and F-score are ill-defined and being set to 0.0 in labels with no predicted samples. Use `zero_division` parameter to control this behavior.\n",
      "  _warn_prf(average, modifier, msg_start, len(result))\n",
      "/opt/homebrew/anaconda3/lib/python3.10/site-packages/sklearn/metrics/_classification.py:1344: UndefinedMetricWarning: Precision and F-score are ill-defined and being set to 0.0 in labels with no predicted samples. Use `zero_division` parameter to control this behavior.\n",
      "  _warn_prf(average, modifier, msg_start, len(result))\n"
     ]
    }
   ],
   "source": [
    "c = [.001, .01, .1, 1, 10, 100, 1000]\n",
    "\n",
    "\n",
    "# storing my values to use them to create dictiojnaries containg \n",
    "# all the collected data for head to head comaprison\n",
    "coefficient_list = []\n",
    "train_score_list = [] \n",
    "val_score_list = []\n",
    "trn_report_list = []\n",
    "val_report_list = []\n",
    "diff_list = []\n",
    "\n",
    "for c in c:\n",
    "        \n",
    "    y_trn_pred, y_val_pred, y_trn_proba, c, logit = Log_Regression(1, 1, X_train, y_train)\n",
    "#         trn_score, trn_cm, trn_cmdf, trn_report = decision_metrics(X_train, y_train, y_pred, k, l)\n",
    "#         val_score, val_cm, val_cmdf, val_report = decision_metrics(X_validate, y_validate, y_pred, k, l)\n",
    "    # Compute score\n",
    "    trn_score = logit.score(X_train, y_train)\n",
    "    val_score = logit.score(X_validate, y_validate)\n",
    "    trn_report = classification_report(y_train, y_trn_pred)\n",
    "    val_report = classification_report(y_validate, y_val_pred)\n",
    "#         trn_report_list.append(trn_report)\n",
    "    val_report_list.append(val_report)\n",
    "    train_score_list.append(trn_score)\n",
    "    val_score_list.append(val_score)\n",
    "    coefficient_list.append(c)\n",
    "\n",
    "\n",
    "    print(f'Training Dataset Model Coefficient of {c},')\n",
    "\n",
    "    # Print the model's accuracy and other information\n",
    "    print(f\"Model's Accuracy: {trn_score}\")\n",
    "    print(f\"Difference between Model and Basleine Accuracy: {trn_score - baseline_accuracy}\")\n",
    "    print('Train Classification Report')\n",
    "    print(trn_report)\n",
    "    print()\n",
    "    print('           VS             ')\n",
    "    print()\n",
    "    print(f'Validation Dataset Model Coefficient of {c},')\n",
    "    print(f\"Model's Accuracy: {val_score}\")\n",
    "    print(f\"Difference between Model and Basleine Accuracy: {val_score - baseline_accuracy}\")\n",
    "    print('Validate Classification Report')\n",
    "    print(val_report)\n",
    "    print()\n",
    "    print(f'Difference bewtween Training and Validate:{trn_score-val_score}')\n",
    "    #print(val_report)\n",
    "    print()\n",
    "    print('----------------------------------------------------')\n",
    "    print()\n",
    "\n",
    "    # Increment 'c' for the next iteration\n",
    "    c *= 10\n",
    "\n",
    "    diff = trn_score-val_score\n",
    "    diff_list.append(diff)\n",
    "\n",
    "# create dictionaries for my data collection\n",
    "train_dict = {x : y for x, y in zip(coefficient_list,  train_score_list)}\n",
    "val_dict = {x : y for x, y in zip(coefficient_list, val_score_list)}\n",
    "diff_dict = {x : y for x, y in zip(coefficient_list, diff_list)}\n",
    "\n",
    "model_number = 1\n",
    "for key, value in diff_dict.items():\n",
    "    if value == min(diff_dict.values()):\n",
    "        print()\n",
    "        print(f'Top Model #{model_number}')\n",
    "        print('*************FINAL ANALYSIS*************')\n",
    "        print()\n",
    "        print(f'''Top performing Training Model:\n",
    "        Max Depth:{key}\n",
    "        Accuracy:{max(train_dict.values())}\n",
    "        \n",
    "Top performing Validation Model:\n",
    "\n",
    "        Max Depth:{key}\n",
    "        Accuracy:{max(val_dict.values())}\n",
    "        Difference:{min(diff_dict.values())}''')\n",
    "        model_number+=1"
   ]
  },
  {
   "cell_type": "code",
   "execution_count": null,
   "id": "9e949a27",
   "metadata": {},
   "outputs": [],
   "source": []
  },
  {
   "cell_type": "code",
   "execution_count": null,
   "id": "7360456d",
   "metadata": {},
   "outputs": [],
   "source": []
  },
  {
   "cell_type": "code",
   "execution_count": null,
   "id": "28228bf1",
   "metadata": {},
   "outputs": [],
   "source": []
  },
  {
   "cell_type": "code",
   "execution_count": null,
   "id": "1075dcca",
   "metadata": {},
   "outputs": [],
   "source": []
  },
  {
   "cell_type": "code",
   "execution_count": null,
   "id": "74eb16ce",
   "metadata": {},
   "outputs": [],
   "source": []
  },
  {
   "cell_type": "code",
   "execution_count": null,
   "id": "3a629c08",
   "metadata": {},
   "outputs": [],
   "source": []
  },
  {
   "cell_type": "code",
   "execution_count": null,
   "id": "fc157b2d",
   "metadata": {},
   "outputs": [],
   "source": []
  },
  {
   "cell_type": "code",
   "execution_count": null,
   "id": "9d7f5e9b",
   "metadata": {},
   "outputs": [],
   "source": []
  },
  {
   "cell_type": "markdown",
   "id": "735d4936",
   "metadata": {},
   "source": [
    "## 4. Use you best 3 models to predict and evaluate on your validate sample."
   ]
  },
  {
   "cell_type": "code",
   "execution_count": null,
   "id": "2e30e774",
   "metadata": {},
   "outputs": [],
   "source": []
  },
  {
   "cell_type": "markdown",
   "id": "40161388",
   "metadata": {},
   "source": [
    "## 5. Choose you best model from the validation performation, and evaluate it on the test dataset. How do the performance metrics compare to validate? to train?"
   ]
  },
  {
   "cell_type": "code",
   "execution_count": null,
   "id": "8086dabd",
   "metadata": {},
   "outputs": [],
   "source": []
  }
 ],
 "metadata": {
  "kernelspec": {
   "display_name": "Python 3 (ipykernel)",
   "language": "python",
   "name": "python3"
  },
  "language_info": {
   "codemirror_mode": {
    "name": "ipython",
    "version": 3
   },
   "file_extension": ".py",
   "mimetype": "text/x-python",
   "name": "python",
   "nbconvert_exporter": "python",
   "pygments_lexer": "ipython3",
   "version": "3.10.9"
  }
 },
 "nbformat": 4,
 "nbformat_minor": 5
}
