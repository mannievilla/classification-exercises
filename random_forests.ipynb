{
 "cells": [
  {
   "cell_type": "markdown",
   "id": "637ab174",
   "metadata": {},
   "source": [
    "## 1. Fit the Random Forest classifier to your training sample and transform (i.e. make predictions on the training sample) setting the random_state accordingly and setting min_samples_leaf = 1 and max_depth = 10."
   ]
  },
  {
   "cell_type": "code",
   "execution_count": 1,
   "id": "d5d84fed",
   "metadata": {},
   "outputs": [],
   "source": [
    "import pydataset\n",
    "from env import get_db_url\n",
    "\n",
    "import pandas as pd\n",
    "import numpy as np\n",
    "\n",
    "from prepare import prep_titanic\n",
    "from prepare import titanic_split\n",
    "\n",
    "from sklearn.model_selection import train_test_split\n",
    "from sklearn.ensemble import RandomForestClassifier\n",
    "from sklearn.metrics import classification_report\n",
    "from sklearn.metrics import confusion_matrix\n",
    "\n",
    "import matplotlib.pyplot as plt\n",
    "import seaborn as sns\n"
   ]
  },
  {
   "cell_type": "code",
   "execution_count": 2,
   "id": "c28fb6f9",
   "metadata": {
    "scrolled": true
   },
   "outputs": [
    {
     "data": {
      "text/html": [
       "<div>\n",
       "<style scoped>\n",
       "    .dataframe tbody tr th:only-of-type {\n",
       "        vertical-align: middle;\n",
       "    }\n",
       "\n",
       "    .dataframe tbody tr th {\n",
       "        vertical-align: top;\n",
       "    }\n",
       "\n",
       "    .dataframe thead th {\n",
       "        text-align: right;\n",
       "    }\n",
       "</style>\n",
       "<table border=\"1\" class=\"dataframe\">\n",
       "  <thead>\n",
       "    <tr style=\"text-align: right;\">\n",
       "      <th></th>\n",
       "      <th>passenger_id</th>\n",
       "      <th>survived</th>\n",
       "      <th>pclass</th>\n",
       "      <th>sex</th>\n",
       "      <th>sibsp</th>\n",
       "      <th>parch</th>\n",
       "      <th>fare</th>\n",
       "      <th>embarked</th>\n",
       "      <th>alone</th>\n",
       "      <th>sex_male</th>\n",
       "      <th>embarked_Q</th>\n",
       "      <th>embarked_S</th>\n",
       "      <th>baseline_prediction</th>\n",
       "    </tr>\n",
       "  </thead>\n",
       "  <tbody>\n",
       "    <tr>\n",
       "      <th>0</th>\n",
       "      <td>0</td>\n",
       "      <td>0</td>\n",
       "      <td>3</td>\n",
       "      <td>male</td>\n",
       "      <td>1</td>\n",
       "      <td>0</td>\n",
       "      <td>7.2500</td>\n",
       "      <td>S</td>\n",
       "      <td>0</td>\n",
       "      <td>1</td>\n",
       "      <td>0</td>\n",
       "      <td>1</td>\n",
       "      <td>0</td>\n",
       "    </tr>\n",
       "    <tr>\n",
       "      <th>1</th>\n",
       "      <td>1</td>\n",
       "      <td>1</td>\n",
       "      <td>1</td>\n",
       "      <td>female</td>\n",
       "      <td>1</td>\n",
       "      <td>0</td>\n",
       "      <td>71.2833</td>\n",
       "      <td>C</td>\n",
       "      <td>0</td>\n",
       "      <td>0</td>\n",
       "      <td>0</td>\n",
       "      <td>0</td>\n",
       "      <td>0</td>\n",
       "    </tr>\n",
       "    <tr>\n",
       "      <th>2</th>\n",
       "      <td>2</td>\n",
       "      <td>1</td>\n",
       "      <td>3</td>\n",
       "      <td>female</td>\n",
       "      <td>0</td>\n",
       "      <td>0</td>\n",
       "      <td>7.9250</td>\n",
       "      <td>S</td>\n",
       "      <td>1</td>\n",
       "      <td>0</td>\n",
       "      <td>0</td>\n",
       "      <td>1</td>\n",
       "      <td>0</td>\n",
       "    </tr>\n",
       "    <tr>\n",
       "      <th>3</th>\n",
       "      <td>3</td>\n",
       "      <td>1</td>\n",
       "      <td>1</td>\n",
       "      <td>female</td>\n",
       "      <td>1</td>\n",
       "      <td>0</td>\n",
       "      <td>53.1000</td>\n",
       "      <td>S</td>\n",
       "      <td>0</td>\n",
       "      <td>0</td>\n",
       "      <td>0</td>\n",
       "      <td>1</td>\n",
       "      <td>0</td>\n",
       "    </tr>\n",
       "    <tr>\n",
       "      <th>4</th>\n",
       "      <td>4</td>\n",
       "      <td>0</td>\n",
       "      <td>3</td>\n",
       "      <td>male</td>\n",
       "      <td>0</td>\n",
       "      <td>0</td>\n",
       "      <td>8.0500</td>\n",
       "      <td>S</td>\n",
       "      <td>1</td>\n",
       "      <td>1</td>\n",
       "      <td>0</td>\n",
       "      <td>1</td>\n",
       "      <td>0</td>\n",
       "    </tr>\n",
       "  </tbody>\n",
       "</table>\n",
       "</div>"
      ],
      "text/plain": [
       "   passenger_id  survived  pclass     sex  sibsp  parch     fare embarked  \\\n",
       "0             0         0       3    male      1      0   7.2500        S   \n",
       "1             1         1       1  female      1      0  71.2833        C   \n",
       "2             2         1       3  female      0      0   7.9250        S   \n",
       "3             3         1       1  female      1      0  53.1000        S   \n",
       "4             4         0       3    male      0      0   8.0500        S   \n",
       "\n",
       "   alone  sex_male  embarked_Q  embarked_S  baseline_prediction  \n",
       "0      0         1           0           1                    0  \n",
       "1      0         0           0           0                    0  \n",
       "2      1         0           0           1                    0  \n",
       "3      0         0           0           1                    0  \n",
       "4      1         1           0           1                    0  "
      ]
     },
     "execution_count": 2,
     "metadata": {},
     "output_type": "execute_result"
    }
   ],
   "source": [
    "df = prep_titanic()\n",
    "df['baseline_prediction'] = 0\n",
    "df.head()"
   ]
  },
  {
   "cell_type": "code",
   "execution_count": 3,
   "id": "8b4b738d",
   "metadata": {},
   "outputs": [
    {
     "data": {
      "text/plain": [
       "0    549\n",
       "1    342\n",
       "Name: survived, dtype: int64"
      ]
     },
     "execution_count": 3,
     "metadata": {},
     "output_type": "execute_result"
    }
   ],
   "source": [
    "df.survived.value_counts()"
   ]
  },
  {
   "cell_type": "markdown",
   "id": "c538581b",
   "metadata": {},
   "source": [
    "## Baseline Accuracy"
   ]
  },
  {
   "cell_type": "code",
   "execution_count": 4,
   "id": "a42ff782",
   "metadata": {},
   "outputs": [
    {
     "data": {
      "text/plain": [
       "0.6161616161616161"
      ]
     },
     "execution_count": 4,
     "metadata": {},
     "output_type": "execute_result"
    }
   ],
   "source": [
    "baseline_accuracy = (df.survived == df.baseline_prediction).mean()\n",
    "baseline_accuracy"
   ]
  },
  {
   "cell_type": "markdown",
   "id": "bf202135",
   "metadata": {},
   "source": [
    "## Cleaning the Data a little further"
   ]
  },
  {
   "cell_type": "code",
   "execution_count": 5,
   "id": "7c5e7d11",
   "metadata": {},
   "outputs": [],
   "source": [
    "df['fare'] = df['fare'].astype('float64')"
   ]
  },
  {
   "cell_type": "code",
   "execution_count": 6,
   "id": "3cd59cf0",
   "metadata": {},
   "outputs": [],
   "source": [
    "bins = [0, 25, 105, 205, 405, 600]\n",
    "labels = [1, 2, 3, 4, 5]\n",
    "df['fare_bin'] = pd.cut(df['fare'], bins=bins, labels=labels)"
   ]
  },
  {
   "cell_type": "code",
   "execution_count": 7,
   "id": "fd5a3ef3",
   "metadata": {},
   "outputs": [],
   "source": [
    "# df.pclass.get_dummies()\n",
    "# Assuming df is your DataFrame\n",
    "dummy_df = pd.get_dummies(df['pclass'], prefix='pclass')\n",
    "\n",
    "# Concatenate the dummy variables with the original DataFrame\n",
    "df = pd.concat([df, dummy_df], axis=1)"
   ]
  },
  {
   "cell_type": "code",
   "execution_count": 8,
   "id": "4afa24e1",
   "metadata": {},
   "outputs": [
    {
     "data": {
      "text/plain": [
       "Index(['passenger_id', 'survived', 'pclass', 'sex', 'sibsp', 'parch', 'fare',\n",
       "       'embarked', 'alone', 'sex_male', 'embarked_Q', 'embarked_S',\n",
       "       'baseline_prediction', 'fare_bin', 'pclass_1', 'pclass_2', 'pclass_3'],\n",
       "      dtype='object')"
      ]
     },
     "execution_count": 8,
     "metadata": {},
     "output_type": "execute_result"
    }
   ],
   "source": [
    "df.columns"
   ]
  },
  {
   "cell_type": "code",
   "execution_count": 9,
   "id": "3a5f38f7",
   "metadata": {},
   "outputs": [
    {
     "data": {
      "text/plain": [
       "passenger_id              int64\n",
       "survived                  int64\n",
       "pclass                    int64\n",
       "sex                      object\n",
       "sibsp                     int64\n",
       "parch                     int64\n",
       "fare                    float64\n",
       "embarked                 object\n",
       "alone                     int64\n",
       "sex_male                  uint8\n",
       "embarked_Q                uint8\n",
       "embarked_S                uint8\n",
       "baseline_prediction       int64\n",
       "fare_bin               category\n",
       "pclass_1                  uint8\n",
       "pclass_2                  uint8\n",
       "pclass_3                  uint8\n",
       "dtype: object"
      ]
     },
     "execution_count": 9,
     "metadata": {},
     "output_type": "execute_result"
    }
   ],
   "source": [
    "df.dtypes"
   ]
  },
  {
   "cell_type": "markdown",
   "id": "6da301df",
   "metadata": {},
   "source": [
    "## Train, Validate, Test"
   ]
  },
  {
   "cell_type": "code",
   "execution_count": 10,
   "id": "e60a62c9",
   "metadata": {},
   "outputs": [],
   "source": [
    "df, train, validate, test = titanic_split(df)"
   ]
  },
  {
   "cell_type": "code",
   "execution_count": 11,
   "id": "399add75",
   "metadata": {},
   "outputs": [
    {
     "name": "stdout",
     "output_type": "stream",
     "text": [
      "<class 'pandas.core.frame.DataFrame'>\n",
      "Int64Index: 534 entries, 455 to 496\n",
      "Data columns (total 17 columns):\n",
      " #   Column               Non-Null Count  Dtype   \n",
      "---  ------               --------------  -----   \n",
      " 0   passenger_id         534 non-null    int64   \n",
      " 1   survived             534 non-null    int64   \n",
      " 2   pclass               534 non-null    int64   \n",
      " 3   sex                  534 non-null    object  \n",
      " 4   sibsp                534 non-null    int64   \n",
      " 5   parch                534 non-null    int64   \n",
      " 6   fare                 534 non-null    float64 \n",
      " 7   embarked             534 non-null    object  \n",
      " 8   alone                534 non-null    int64   \n",
      " 9   sex_male             534 non-null    uint8   \n",
      " 10  embarked_Q           534 non-null    uint8   \n",
      " 11  embarked_S           534 non-null    uint8   \n",
      " 12  baseline_prediction  534 non-null    int64   \n",
      " 13  fare_bin             525 non-null    category\n",
      " 14  pclass_1             534 non-null    uint8   \n",
      " 15  pclass_2             534 non-null    uint8   \n",
      " 16  pclass_3             534 non-null    uint8   \n",
      "dtypes: category(1), float64(1), int64(7), object(2), uint8(6)\n",
      "memory usage: 49.7+ KB\n",
      "<class 'pandas.core.frame.DataFrame'>\n",
      "Int64Index: 178 entries, 176 to 837\n",
      "Data columns (total 17 columns):\n",
      " #   Column               Non-Null Count  Dtype   \n",
      "---  ------               --------------  -----   \n",
      " 0   passenger_id         178 non-null    int64   \n",
      " 1   survived             178 non-null    int64   \n",
      " 2   pclass               178 non-null    int64   \n",
      " 3   sex                  178 non-null    object  \n",
      " 4   sibsp                178 non-null    int64   \n",
      " 5   parch                178 non-null    int64   \n",
      " 6   fare                 178 non-null    float64 \n",
      " 7   embarked             178 non-null    object  \n",
      " 8   alone                178 non-null    int64   \n",
      " 9   sex_male             178 non-null    uint8   \n",
      " 10  embarked_Q           178 non-null    uint8   \n",
      " 11  embarked_S           178 non-null    uint8   \n",
      " 12  baseline_prediction  178 non-null    int64   \n",
      " 13  fare_bin             175 non-null    category\n",
      " 14  pclass_1             178 non-null    uint8   \n",
      " 15  pclass_2             178 non-null    uint8   \n",
      " 16  pclass_3             178 non-null    uint8   \n",
      "dtypes: category(1), float64(1), int64(7), object(2), uint8(6)\n",
      "memory usage: 16.7+ KB\n",
      "<class 'pandas.core.frame.DataFrame'>\n",
      "Int64Index: 179 entries, 561 to 53\n",
      "Data columns (total 17 columns):\n",
      " #   Column               Non-Null Count  Dtype   \n",
      "---  ------               --------------  -----   \n",
      " 0   passenger_id         179 non-null    int64   \n",
      " 1   survived             179 non-null    int64   \n",
      " 2   pclass               179 non-null    int64   \n",
      " 3   sex                  179 non-null    object  \n",
      " 4   sibsp                179 non-null    int64   \n",
      " 5   parch                179 non-null    int64   \n",
      " 6   fare                 179 non-null    float64 \n",
      " 7   embarked             179 non-null    object  \n",
      " 8   alone                179 non-null    int64   \n",
      " 9   sex_male             179 non-null    uint8   \n",
      " 10  embarked_Q           179 non-null    uint8   \n",
      " 11  embarked_S           179 non-null    uint8   \n",
      " 12  baseline_prediction  179 non-null    int64   \n",
      " 13  fare_bin             176 non-null    category\n",
      " 14  pclass_1             179 non-null    uint8   \n",
      " 15  pclass_2             179 non-null    uint8   \n",
      " 16  pclass_3             179 non-null    uint8   \n",
      "dtypes: category(1), float64(1), int64(7), object(2), uint8(6)\n",
      "memory usage: 16.8+ KB\n"
     ]
    },
    {
     "data": {
      "text/plain": [
       "(None, None, None)"
      ]
     },
     "execution_count": 11,
     "metadata": {},
     "output_type": "execute_result"
    }
   ],
   "source": [
    "# inspect\n",
    "train.info(), validate.info(), test.info()"
   ]
  },
  {
   "cell_type": "markdown",
   "id": "6e910729",
   "metadata": {},
   "source": [
    "## Removing the lesser columns"
   ]
  },
  {
   "cell_type": "code",
   "execution_count": 12,
   "id": "c5122236",
   "metadata": {},
   "outputs": [],
   "source": [
    "# create X & y version of train/validate/test\n",
    "# where X contains the features we want to use and y is a series with just the target variable\n",
    "\n",
    "X_train = train.drop(columns=['passenger_id', 'survived', 'sex', 'fare', 'embarked', 'embarked_Q', \n",
    "        'embarked_S', 'baseline_prediction'])\n",
    "y_train = train.survived\n",
    "X_validate = validate.drop(columns=['passenger_id', 'survived', 'sex',  'fare', 'embarked', 'embarked_Q', \n",
    "        'embarked_S', 'baseline_prediction'])\n",
    "y_validate = validate.survived\n",
    "X_test = test.drop(columns=['passenger_id', 'survived', 'sex', 'fare', 'embarked', 'embarked_Q', \n",
    "        'embarked_S', 'baseline_prediction'])\n",
    "y_test = test.survived"
   ]
  },
  {
   "cell_type": "code",
   "execution_count": 13,
   "id": "f69dc0f5",
   "metadata": {},
   "outputs": [
    {
     "data": {
      "text/plain": [
       "((534, 9), (534,), (178, 9), (178,))"
      ]
     },
     "execution_count": 13,
     "metadata": {},
     "output_type": "execute_result"
    }
   ],
   "source": [
    "X_train.shape, y_train.shape, X_validate.shape, y_validate.shape"
   ]
  },
  {
   "cell_type": "markdown",
   "id": "f0789ccb",
   "metadata": {},
   "source": [
    "## Columns to train and validate"
   ]
  },
  {
   "cell_type": "code",
   "execution_count": 14,
   "id": "a556fd0e",
   "metadata": {
    "scrolled": true
   },
   "outputs": [
    {
     "name": "stdout",
     "output_type": "stream",
     "text": [
      "train:\n",
      "['passenger_id', 'survived', 'pclass', 'sex', 'sibsp', 'parch', 'fare', 'embarked', 'alone', 'sex_male', 'embarked_Q', 'embarked_S', 'baseline_prediction', 'fare_bin', 'pclass_1', 'pclass_2', 'pclass_3'] \n",
      "_____________________________________________\n",
      "X_train:\n",
      "['pclass', 'sibsp', 'parch', 'alone', 'sex_male', 'fare_bin', 'pclass_1', 'pclass_2', 'pclass_3']\n",
      "_____________________________________________\n",
      "X_validate:\n",
      "['pclass', 'sibsp', 'parch', 'alone', 'sex_male', 'fare_bin', 'pclass_1', 'pclass_2', 'pclass_3']\n",
      "\n"
     ]
    }
   ],
   "source": [
    "#Compare df columns\n",
    "\n",
    "print(f\"\"\"train:\n",
    "{train.columns.to_list()} \n",
    "_____________________________________________\n",
    "X_train:\n",
    "{X_train.columns.to_list()}\n",
    "_____________________________________________\n",
    "X_validate:\n",
    "{X_validate.columns.to_list()}\n",
    "\"\"\")"
   ]
  },
  {
   "cell_type": "markdown",
   "id": "3e8e3957",
   "metadata": {},
   "source": [
    "## Creating A function to Fit and Transom my data"
   ]
  },
  {
   "cell_type": "code",
   "execution_count": 15,
   "id": "4328ef75",
   "metadata": {},
   "outputs": [],
   "source": [
    "def RandomForest(k, l, X, y):\n",
    "    # k=max_depth\n",
    "    # l=min_samples_leaf\n",
    "    rf = RandomForestClassifier(bootstrap=True, \n",
    "                            class_weight=None, \n",
    "                            criterion='gini',\n",
    "                            min_samples_leaf=l,\n",
    "                            n_estimators=100,\n",
    "                            max_depth=k, \n",
    "                            random_state=123)\n",
    "\n",
    "    \n",
    "    rf.fit(X, y)\n",
    "    \n",
    "    y_trn_pred = rf.predict(X)\n",
    "    \n",
    "    y_trn_proba = rf.predict_proba(X)\n",
    "    \n",
    "    \n",
    "    return y_trn_pred, y_trn_proba, k, l, rf"
   ]
  },
  {
   "cell_type": "code",
   "execution_count": 16,
   "id": "59526ab6",
   "metadata": {},
   "outputs": [],
   "source": [
    "y_pred, y_proba, k, l, rf = RandomForest(10, 1, X_train, y_train)"
   ]
  },
  {
   "cell_type": "code",
   "execution_count": 17,
   "id": "ee352b29",
   "metadata": {},
   "outputs": [
    {
     "data": {
      "text/plain": [
       "array([0, 1, 0, 0, 0, 0, 1, 0, 0, 1, 0, 0, 0, 0, 0, 0, 1, 0, 0, 0, 1, 1,\n",
       "       0, 0, 0, 0, 0, 0, 1, 0, 0, 0, 0, 0, 1, 0, 0, 0, 0, 1, 1, 0, 0, 1,\n",
       "       0, 0, 0, 1, 0, 0, 0, 0, 0, 1, 0, 0, 0, 1, 0, 1, 0, 0, 0, 0, 1, 1,\n",
       "       0, 1, 0, 0, 0, 1, 0, 1, 0, 0, 0, 1, 0, 0, 1, 0, 0, 1, 0, 0, 0, 1,\n",
       "       0, 0, 1, 0, 0, 0, 1, 1, 0, 0, 0, 1, 0, 1, 0, 0, 1, 1, 1, 1, 0, 0,\n",
       "       0, 0, 1, 0, 0, 1, 1, 0, 0, 0, 1, 0, 1, 0, 1, 0, 0, 0, 0, 1, 0, 1,\n",
       "       0, 0, 0, 0, 1, 0, 1, 1, 0, 0, 0, 0, 0, 1, 0, 1, 0, 1, 1, 0, 0, 0,\n",
       "       0, 0, 0, 0, 0, 0, 0, 0, 1, 0, 0, 0, 0, 1, 0, 0, 1, 0, 1, 1, 1, 1,\n",
       "       1, 0, 0, 1, 0, 0, 0, 0, 1, 0, 1, 1, 1, 0, 0, 0, 0, 1, 0, 1, 0, 0,\n",
       "       0, 1, 1, 0, 0, 0, 1, 1, 0, 0, 1, 0, 0, 1, 0, 0, 0, 0, 1, 0, 1, 0,\n",
       "       0, 0, 0, 0, 0, 1, 0, 1, 0, 0, 0, 1, 1, 1, 0, 1, 1, 0, 1, 0, 0, 1,\n",
       "       1, 1, 0, 0, 1, 1, 0, 0, 0, 0, 0, 0, 1, 1, 0, 0, 0, 0, 1, 1, 1, 1,\n",
       "       1, 0, 1, 0, 0, 0, 1, 0, 0, 1, 1, 0, 0, 0, 0, 1, 0, 1, 1, 0, 1, 0,\n",
       "       1, 1, 0, 0, 0, 1, 0, 0, 0, 0, 0, 0, 1, 0, 0, 0, 0, 0, 0, 0, 0, 0,\n",
       "       1, 1, 0, 0, 0, 1, 0, 0, 0, 0, 0, 1, 0, 0, 0, 1, 0, 0, 0, 0, 0, 0,\n",
       "       0, 1, 0, 0, 1, 0, 0, 0, 1, 0, 0, 0, 1, 0, 0, 0, 0, 0, 1, 0, 0, 0,\n",
       "       1, 0, 0, 0, 0, 1, 1, 1, 1, 0, 1, 1, 0, 1, 0, 0, 0, 1, 0, 1, 0, 0,\n",
       "       1, 1, 1, 1, 1, 1, 0, 0, 0, 0, 0, 0, 0, 0, 1, 1, 1, 1, 1, 0, 0, 0,\n",
       "       1, 0, 1, 0, 0, 0, 0, 0, 1, 0, 0, 0, 0, 0, 0, 0, 0, 1, 0, 1, 0, 1,\n",
       "       1, 0, 0, 0, 1, 0, 0, 1, 0, 0, 0, 1, 0, 1, 0, 1, 0, 0, 0, 0, 0, 0,\n",
       "       0, 1, 0, 1, 0, 0, 1, 0, 0, 0, 0, 0, 0, 0, 1, 0, 1, 1, 0, 0, 0, 0,\n",
       "       0, 1, 1, 0, 1, 1, 1, 1, 1, 0, 1, 0, 0, 0, 0, 1, 1, 1, 0, 0, 1, 0,\n",
       "       0, 1, 0, 0, 0, 1, 0, 0, 1, 1, 0, 0, 0, 1, 0, 0, 1, 1, 0, 0, 0, 0,\n",
       "       0, 0, 1, 0, 0, 0, 1, 0, 0, 0, 0, 0, 0, 1, 0, 1, 1, 1, 0, 1, 0, 0,\n",
       "       0, 0, 1, 0, 0, 1])"
      ]
     },
     "execution_count": 17,
     "metadata": {},
     "output_type": "execute_result"
    }
   ],
   "source": [
    "y_pred"
   ]
  },
  {
   "cell_type": "markdown",
   "id": "ce2e5db8",
   "metadata": {},
   "source": [
    "## 2. Evaluate your results using the model score, confusion matrix, and classification report.\n"
   ]
  },
  {
   "cell_type": "markdown",
   "id": "0925573e",
   "metadata": {},
   "source": [
    "## Creating a Functionn to produce metrics"
   ]
  },
  {
   "cell_type": "code",
   "execution_count": 18,
   "id": "c24912b0",
   "metadata": {},
   "outputs": [],
   "source": [
    "def decision_metrics(X, y, y_pred, k, l ):\n",
    "\n",
    "    score = rf.score(X, y)\n",
    "    cm = confusion_matrix(y, y_pred)\n",
    "    \n",
    "    cmdf = pd.DataFrame(cm, index=['Actual 0', 'Actual 1'], \n",
    "                   columns=['Pred 0', 'Pred 1'])\n",
    "    \n",
    "    report = classification_report(y, y_pred)\n",
    "    \n",
    "    return score, cm, cmdf, report"
   ]
  },
  {
   "cell_type": "markdown",
   "id": "9ea63ab1",
   "metadata": {},
   "source": [
    "## Training:\n",
    "### Extracting the variables from the function and creating a list "
   ]
  },
  {
   "cell_type": "code",
   "execution_count": 19,
   "id": "9d125324",
   "metadata": {},
   "outputs": [],
   "source": [
    "score, cm, cmdf, report = decision_metrics(X_train, y_train, y_pred, k, l)\n",
    "metric_list = [score, cm, cmdf, report]"
   ]
  },
  {
   "cell_type": "markdown",
   "id": "95a60c89",
   "metadata": {},
   "source": [
    "### Using the list to print out clearly"
   ]
  },
  {
   "cell_type": "code",
   "execution_count": 20,
   "id": "b3f2695d",
   "metadata": {},
   "outputs": [
    {
     "name": "stdout",
     "output_type": "stream",
     "text": [
      "Model with Max Depth 10,\n",
      "And Leaf level at 1 :\n",
      "\n",
      "The train score for the model is:\n",
      "0.8520599250936329\n",
      "--------\n",
      "Confusion Matrix:\n",
      "[[302  27]\n",
      " [ 52 153]]\n",
      "--------\n",
      "Confusion Matrix DataFrame:\n"
     ]
    },
    {
     "data": {
      "text/html": [
       "<div>\n",
       "<style scoped>\n",
       "    .dataframe tbody tr th:only-of-type {\n",
       "        vertical-align: middle;\n",
       "    }\n",
       "\n",
       "    .dataframe tbody tr th {\n",
       "        vertical-align: top;\n",
       "    }\n",
       "\n",
       "    .dataframe thead th {\n",
       "        text-align: right;\n",
       "    }\n",
       "</style>\n",
       "<table border=\"1\" class=\"dataframe\">\n",
       "  <thead>\n",
       "    <tr style=\"text-align: right;\">\n",
       "      <th></th>\n",
       "      <th>Pred 0</th>\n",
       "      <th>Pred 1</th>\n",
       "    </tr>\n",
       "  </thead>\n",
       "  <tbody>\n",
       "    <tr>\n",
       "      <th>Actual 0</th>\n",
       "      <td>302</td>\n",
       "      <td>27</td>\n",
       "    </tr>\n",
       "    <tr>\n",
       "      <th>Actual 1</th>\n",
       "      <td>52</td>\n",
       "      <td>153</td>\n",
       "    </tr>\n",
       "  </tbody>\n",
       "</table>\n",
       "</div>"
      ],
      "text/plain": [
       "          Pred 0  Pred 1\n",
       "Actual 0     302      27\n",
       "Actual 1      52     153"
      ]
     },
     "metadata": {},
     "output_type": "display_data"
    },
    {
     "name": "stdout",
     "output_type": "stream",
     "text": [
      "--------\n",
      "Classification Report:\n",
      "              precision    recall  f1-score   support\n",
      "\n",
      "           0       0.85      0.92      0.88       329\n",
      "           1       0.85      0.75      0.79       205\n",
      "\n",
      "    accuracy                           0.85       534\n",
      "   macro avg       0.85      0.83      0.84       534\n",
      "weighted avg       0.85      0.85      0.85       534\n",
      "\n",
      "--------\n"
     ]
    }
   ],
   "source": [
    "list = ['The train score for the model is:', 'Confusion Matrix:', 'Confusion Matrix DataFrame:', 'Classification Report:']\n",
    "print(f'Model with Max Depth {k},')\n",
    "print(f'And Leaf level at {l} :')\n",
    "print()\n",
    "for i, metric in enumerate(metric_list): # to add number to a tuple ex.: (o, seq[0]), (1, seq[1])\n",
    "    if i == 2:\n",
    "        print(list[2])\n",
    "        display(metric)\n",
    "        print('--------')\n",
    "    else:\n",
    "        print(list[i])\n",
    "        print(metric)\n",
    "        print('--------')"
   ]
  },
  {
   "cell_type": "markdown",
   "id": "8fa28aa0",
   "metadata": {},
   "source": [
    "## 3. Print and clearly label the following: Accuracy, true positive rate, false positive rate, true negative rate, false negative rate, precision, recall, f1-score, and support.\n"
   ]
  },
  {
   "cell_type": "code",
   "execution_count": 21,
   "id": "1f55a910",
   "metadata": {},
   "outputs": [],
   "source": [
    "def print_cm_metrics(cm):    \n",
    "    tn, fp, fn, tp = cm.ravel()\n",
    "\n",
    "    accuracy = (tp + tn)/(tn + fp + fn + tp)\n",
    "\n",
    "    true_positive_rate = tp/(tp + fn)\n",
    "    false_positive_rate = fp/(fp + tn)\n",
    "    true_negative_rate = tn/(tn + fp)\n",
    "    false_negative_rate = fn/(fn + tp)\n",
    "\n",
    "    precision = tp/(tp + fp)\n",
    "    recall = tp/(tp + fn)\n",
    "    f1_score = 2*(precision*recall)/(precision+recall)\n",
    "\n",
    "    support_pos = tp + fn\n",
    "    support_neg = fp + tn\n",
    "\n",
    "    dict = {\n",
    "        'metric' : ['accuracy'\n",
    "                    ,'true_positive_rate'\n",
    "                    ,'false_positive_rate'\n",
    "                    ,'true_negative_rate'\n",
    "                    ,'false_negative_rate'\n",
    "                    ,'precision'\n",
    "                    ,'recall'\n",
    "                    ,'f1_score'\n",
    "                    ,'support_pos'\n",
    "                    ,'support_neg']\n",
    "        ,'score' : [accuracy\n",
    "                    ,true_positive_rate\n",
    "                    ,false_positive_rate\n",
    "                    ,true_negative_rate\n",
    "                    ,false_negative_rate\n",
    "                    ,precision\n",
    "                    ,recall\n",
    "                    ,f1_score\n",
    "                    ,support_pos\n",
    "                    ,support_neg]\n",
    "    }\n",
    "\n",
    "    return pd.DataFrame(dict)"
   ]
  },
  {
   "cell_type": "code",
   "execution_count": 22,
   "id": "73e3e983",
   "metadata": {},
   "outputs": [
    {
     "data": {
      "text/html": [
       "<div>\n",
       "<style scoped>\n",
       "    .dataframe tbody tr th:only-of-type {\n",
       "        vertical-align: middle;\n",
       "    }\n",
       "\n",
       "    .dataframe tbody tr th {\n",
       "        vertical-align: top;\n",
       "    }\n",
       "\n",
       "    .dataframe thead th {\n",
       "        text-align: right;\n",
       "    }\n",
       "</style>\n",
       "<table border=\"1\" class=\"dataframe\">\n",
       "  <thead>\n",
       "    <tr style=\"text-align: right;\">\n",
       "      <th></th>\n",
       "      <th>metric</th>\n",
       "      <th>score</th>\n",
       "    </tr>\n",
       "  </thead>\n",
       "  <tbody>\n",
       "    <tr>\n",
       "      <th>0</th>\n",
       "      <td>accuracy</td>\n",
       "      <td>0.852060</td>\n",
       "    </tr>\n",
       "    <tr>\n",
       "      <th>1</th>\n",
       "      <td>true_positive_rate</td>\n",
       "      <td>0.746341</td>\n",
       "    </tr>\n",
       "    <tr>\n",
       "      <th>2</th>\n",
       "      <td>false_positive_rate</td>\n",
       "      <td>0.082067</td>\n",
       "    </tr>\n",
       "    <tr>\n",
       "      <th>3</th>\n",
       "      <td>true_negative_rate</td>\n",
       "      <td>0.917933</td>\n",
       "    </tr>\n",
       "    <tr>\n",
       "      <th>4</th>\n",
       "      <td>false_negative_rate</td>\n",
       "      <td>0.253659</td>\n",
       "    </tr>\n",
       "    <tr>\n",
       "      <th>5</th>\n",
       "      <td>precision</td>\n",
       "      <td>0.850000</td>\n",
       "    </tr>\n",
       "    <tr>\n",
       "      <th>6</th>\n",
       "      <td>recall</td>\n",
       "      <td>0.746341</td>\n",
       "    </tr>\n",
       "    <tr>\n",
       "      <th>7</th>\n",
       "      <td>f1_score</td>\n",
       "      <td>0.794805</td>\n",
       "    </tr>\n",
       "    <tr>\n",
       "      <th>8</th>\n",
       "      <td>support_pos</td>\n",
       "      <td>205.000000</td>\n",
       "    </tr>\n",
       "    <tr>\n",
       "      <th>9</th>\n",
       "      <td>support_neg</td>\n",
       "      <td>329.000000</td>\n",
       "    </tr>\n",
       "  </tbody>\n",
       "</table>\n",
       "</div>"
      ],
      "text/plain": [
       "                metric       score\n",
       "0             accuracy    0.852060\n",
       "1   true_positive_rate    0.746341\n",
       "2  false_positive_rate    0.082067\n",
       "3   true_negative_rate    0.917933\n",
       "4  false_negative_rate    0.253659\n",
       "5            precision    0.850000\n",
       "6               recall    0.746341\n",
       "7             f1_score    0.794805\n",
       "8          support_pos  205.000000\n",
       "9          support_neg  329.000000"
      ]
     },
     "execution_count": 22,
     "metadata": {},
     "output_type": "execute_result"
    }
   ],
   "source": [
    "print_cm_metrics(cm)"
   ]
  },
  {
   "cell_type": "code",
   "execution_count": 23,
   "id": "5160d584",
   "metadata": {},
   "outputs": [
    {
     "name": "stdout",
     "output_type": "stream",
     "text": [
      "              precision    recall  f1-score   support\n",
      "\n",
      "           0       0.85      0.92      0.88       329\n",
      "           1       0.85      0.75      0.79       205\n",
      "\n",
      "    accuracy                           0.85       534\n",
      "   macro avg       0.85      0.83      0.84       534\n",
      "weighted avg       0.85      0.85      0.85       534\n",
      "\n"
     ]
    }
   ],
   "source": [
    "trn_report = classification_report(y_train, y_pred)\n",
    "print(trn_report)"
   ]
  },
  {
   "cell_type": "markdown",
   "id": "a1734e54",
   "metadata": {},
   "source": [
    "## 4. Run through steps increasing your min_samples_leaf and decreasing your max_depth."
   ]
  },
  {
   "cell_type": "code",
   "execution_count": 24,
   "id": "2423fbe3",
   "metadata": {
    "scrolled": true
   },
   "outputs": [
    {
     "name": "stdout",
     "output_type": "stream",
     "text": [
      "Training Dataset Model with Max Depth of 10,\n",
      "And Leaf Level of 1:\n",
      "Model's Accuracy: 0.8520599250936329\n",
      "Difference between Model and Basleine Accuracy: 0.2358983089320168\n",
      "Train Classification Report\n",
      "              precision    recall  f1-score   support\n",
      "\n",
      "           0       0.85      0.92      0.88       329\n",
      "           1       0.85      0.75      0.79       205\n",
      "\n",
      "    accuracy                           0.85       534\n",
      "   macro avg       0.85      0.83      0.84       534\n",
      "weighted avg       0.85      0.85      0.85       534\n",
      "\n",
      "\n",
      "           VS             \n",
      "\n",
      "Validation Dataset Model with Max Depth of 10,\n",
      "And Leaf Level of 1:\n",
      "Model's Accuracy: 0.7865168539325843\n",
      "Difference between Model and Basleine Accuracy: 0.17035523777096817\n",
      "Validate Classification Report\n",
      "              precision    recall  f1-score   support\n",
      "\n",
      "           0       0.82      0.85      0.83       110\n",
      "           1       0.73      0.69      0.71        68\n",
      "\n",
      "    accuracy                           0.79       178\n",
      "   macro avg       0.78      0.77      0.77       178\n",
      "weighted avg       0.78      0.79      0.79       178\n",
      "\n",
      "\n",
      "Difference bewtween Training and Validate:0.06554307116104863\n",
      "\n",
      "----------------------------------------------------\n",
      "\n",
      "Training Dataset Model with Max Depth of 9,\n",
      "And Leaf Level of 2:\n",
      "Model's Accuracy: 0.8314606741573034\n",
      "Difference between Model and Basleine Accuracy: 0.21529905799568727\n",
      "Train Classification Report\n",
      "              precision    recall  f1-score   support\n",
      "\n",
      "           0       0.83      0.91      0.87       329\n",
      "           1       0.83      0.71      0.76       205\n",
      "\n",
      "    accuracy                           0.83       534\n",
      "   macro avg       0.83      0.81      0.82       534\n",
      "weighted avg       0.83      0.83      0.83       534\n",
      "\n",
      "\n",
      "           VS             \n",
      "\n",
      "Validation Dataset Model with Max Depth of 9,\n",
      "And Leaf Level of 2:\n",
      "Model's Accuracy: 0.7921348314606742\n",
      "Difference between Model and Basleine Accuracy: 0.17597321529905807\n",
      "Validate Classification Report\n",
      "              precision    recall  f1-score   support\n",
      "\n",
      "           0       0.81      0.86      0.84       110\n",
      "           1       0.75      0.68      0.71        68\n",
      "\n",
      "    accuracy                           0.79       178\n",
      "   macro avg       0.78      0.77      0.78       178\n",
      "weighted avg       0.79      0.79      0.79       178\n",
      "\n",
      "\n",
      "Difference bewtween Training and Validate:0.0393258426966292\n",
      "\n",
      "----------------------------------------------------\n",
      "\n",
      "Training Dataset Model with Max Depth of 8,\n",
      "And Leaf Level of 3:\n",
      "Model's Accuracy: 0.8295880149812734\n",
      "Difference between Model and Basleine Accuracy: 0.2134263988196573\n",
      "Train Classification Report\n",
      "              precision    recall  f1-score   support\n",
      "\n",
      "           0       0.83      0.91      0.87       329\n",
      "           1       0.82      0.71      0.76       205\n",
      "\n",
      "    accuracy                           0.83       534\n",
      "   macro avg       0.83      0.81      0.81       534\n",
      "weighted avg       0.83      0.83      0.83       534\n",
      "\n",
      "\n",
      "           VS             \n",
      "\n",
      "Validation Dataset Model with Max Depth of 8,\n",
      "And Leaf Level of 3:\n",
      "Model's Accuracy: 0.8033707865168539\n",
      "Difference between Model and Basleine Accuracy: 0.18720917035523776\n",
      "Validate Classification Report\n",
      "              precision    recall  f1-score   support\n",
      "\n",
      "           0       0.82      0.87      0.85       110\n",
      "           1       0.77      0.69      0.73        68\n",
      "\n",
      "    accuracy                           0.80       178\n",
      "   macro avg       0.80      0.78      0.79       178\n",
      "weighted avg       0.80      0.80      0.80       178\n",
      "\n",
      "\n",
      "Difference bewtween Training and Validate:0.02621722846441954\n",
      "\n",
      "----------------------------------------------------\n",
      "\n",
      "Training Dataset Model with Max Depth of 7,\n",
      "And Leaf Level of 4:\n",
      "Model's Accuracy: 0.8164794007490637\n",
      "Difference between Model and Basleine Accuracy: 0.20031778458744753\n",
      "Train Classification Report\n",
      "              precision    recall  f1-score   support\n",
      "\n",
      "           0       0.83      0.88      0.86       329\n",
      "           1       0.79      0.71      0.75       205\n",
      "\n",
      "    accuracy                           0.82       534\n",
      "   macro avg       0.81      0.80      0.80       534\n",
      "weighted avg       0.81      0.82      0.81       534\n",
      "\n",
      "\n",
      "           VS             \n",
      "\n",
      "Validation Dataset Model with Max Depth of 7,\n",
      "And Leaf Level of 4:\n",
      "Model's Accuracy: 0.8033707865168539\n",
      "Difference between Model and Basleine Accuracy: 0.18720917035523776\n",
      "Validate Classification Report\n",
      "              precision    recall  f1-score   support\n",
      "\n",
      "           0       0.83      0.86      0.84       110\n",
      "           1       0.76      0.71      0.73        68\n",
      "\n",
      "    accuracy                           0.80       178\n",
      "   macro avg       0.79      0.78      0.79       178\n",
      "weighted avg       0.80      0.80      0.80       178\n",
      "\n",
      "\n",
      "Difference bewtween Training and Validate:0.01310861423220977\n",
      "\n",
      "----------------------------------------------------\n",
      "\n",
      "Training Dataset Model with Max Depth of 6,\n",
      "And Leaf Level of 5:\n",
      "Model's Accuracy: 0.8146067415730337\n",
      "Difference between Model and Basleine Accuracy: 0.19844512541141757\n",
      "Train Classification Report\n",
      "              precision    recall  f1-score   support\n",
      "\n",
      "           0       0.82      0.90      0.86       329\n",
      "           1       0.81      0.67      0.74       205\n",
      "\n",
      "    accuracy                           0.81       534\n",
      "   macro avg       0.81      0.79      0.80       534\n",
      "weighted avg       0.81      0.81      0.81       534\n",
      "\n",
      "\n",
      "           VS             \n",
      "\n",
      "Validation Dataset Model with Max Depth of 6,\n",
      "And Leaf Level of 5:\n",
      "Model's Accuracy: 0.7921348314606742\n",
      "Difference between Model and Basleine Accuracy: 0.17597321529905807\n",
      "Validate Classification Report\n",
      "              precision    recall  f1-score   support\n",
      "\n",
      "           0       0.81      0.86      0.84       110\n",
      "           1       0.75      0.68      0.71        68\n",
      "\n",
      "    accuracy                           0.79       178\n",
      "   macro avg       0.78      0.77      0.78       178\n",
      "weighted avg       0.79      0.79      0.79       178\n",
      "\n",
      "\n",
      "Difference bewtween Training and Validate:0.022471910112359494\n",
      "\n",
      "----------------------------------------------------\n",
      "\n",
      "Training Dataset Model with Max Depth of 5,\n",
      "And Leaf Level of 6:\n",
      "Model's Accuracy: 0.8164794007490637\n",
      "Difference between Model and Basleine Accuracy: 0.20031778458744753\n",
      "Train Classification Report\n",
      "              precision    recall  f1-score   support\n",
      "\n",
      "           0       0.83      0.88      0.86       329\n",
      "           1       0.79      0.71      0.75       205\n",
      "\n",
      "    accuracy                           0.82       534\n",
      "   macro avg       0.81      0.80      0.80       534\n",
      "weighted avg       0.81      0.82      0.81       534\n",
      "\n",
      "\n",
      "           VS             \n",
      "\n",
      "Validation Dataset Model with Max Depth of 5,\n",
      "And Leaf Level of 6:\n",
      "Model's Accuracy: 0.8033707865168539\n",
      "Difference between Model and Basleine Accuracy: 0.18720917035523776\n",
      "Validate Classification Report\n",
      "              precision    recall  f1-score   support\n",
      "\n",
      "           0       0.83      0.86      0.84       110\n",
      "           1       0.76      0.71      0.73        68\n",
      "\n",
      "    accuracy                           0.80       178\n",
      "   macro avg       0.79      0.78      0.79       178\n",
      "weighted avg       0.80      0.80      0.80       178\n",
      "\n",
      "\n",
      "Difference bewtween Training and Validate:0.01310861423220977\n",
      "\n",
      "----------------------------------------------------\n",
      "\n",
      "Training Dataset Model with Max Depth of 4,\n",
      "And Leaf Level of 7:\n",
      "Model's Accuracy: 0.8146067415730337\n",
      "Difference between Model and Basleine Accuracy: 0.19844512541141757\n",
      "Train Classification Report\n",
      "              precision    recall  f1-score   support\n",
      "\n",
      "           0       0.83      0.88      0.85       329\n",
      "           1       0.78      0.71      0.75       205\n",
      "\n",
      "    accuracy                           0.81       534\n",
      "   macro avg       0.81      0.80      0.80       534\n",
      "weighted avg       0.81      0.81      0.81       534\n",
      "\n",
      "\n",
      "           VS             \n",
      "\n",
      "Validation Dataset Model with Max Depth of 4,\n",
      "And Leaf Level of 7:\n",
      "Model's Accuracy: 0.7921348314606742\n",
      "Difference between Model and Basleine Accuracy: 0.17597321529905807\n",
      "Validate Classification Report\n",
      "              precision    recall  f1-score   support\n",
      "\n",
      "           0       0.82      0.85      0.83       110\n",
      "           1       0.74      0.71      0.72        68\n",
      "\n",
      "    accuracy                           0.79       178\n",
      "   macro avg       0.78      0.78      0.78       178\n",
      "weighted avg       0.79      0.79      0.79       178\n",
      "\n",
      "\n",
      "Difference bewtween Training and Validate:0.022471910112359494\n",
      "\n",
      "----------------------------------------------------\n",
      "\n"
     ]
    },
    {
     "name": "stdout",
     "output_type": "stream",
     "text": [
      "Training Dataset Model with Max Depth of 3,\n",
      "And Leaf Level of 8:\n",
      "Model's Accuracy: 0.7883895131086143\n",
      "Difference between Model and Basleine Accuracy: 0.17222789694699814\n",
      "Train Classification Report\n",
      "              precision    recall  f1-score   support\n",
      "\n",
      "           0       0.75      0.98      0.85       329\n",
      "           1       0.94      0.48      0.63       205\n",
      "\n",
      "    accuracy                           0.79       534\n",
      "   macro avg       0.85      0.73      0.74       534\n",
      "weighted avg       0.82      0.79      0.77       534\n",
      "\n",
      "\n",
      "           VS             \n",
      "\n",
      "Validation Dataset Model with Max Depth of 3,\n",
      "And Leaf Level of 8:\n",
      "Model's Accuracy: 0.7640449438202247\n",
      "Difference between Model and Basleine Accuracy: 0.14788332765860857\n",
      "Validate Classification Report\n",
      "              precision    recall  f1-score   support\n",
      "\n",
      "           0       0.74      0.95      0.83       110\n",
      "           1       0.84      0.47      0.60        68\n",
      "\n",
      "    accuracy                           0.76       178\n",
      "   macro avg       0.79      0.71      0.72       178\n",
      "weighted avg       0.78      0.76      0.74       178\n",
      "\n",
      "\n",
      "Difference bewtween Training and Validate:0.024344569288389573\n",
      "\n",
      "----------------------------------------------------\n",
      "\n",
      "Training Dataset Model with Max Depth of 2,\n",
      "And Leaf Level of 9:\n",
      "Model's Accuracy: 0.7846441947565543\n",
      "Difference between Model and Basleine Accuracy: 0.1684825785949382\n",
      "Train Classification Report\n",
      "              precision    recall  f1-score   support\n",
      "\n",
      "           0       0.75      0.99      0.85       329\n",
      "           1       0.96      0.46      0.62       205\n",
      "\n",
      "    accuracy                           0.78       534\n",
      "   macro avg       0.85      0.72      0.74       534\n",
      "weighted avg       0.83      0.78      0.76       534\n",
      "\n",
      "\n",
      "           VS             \n",
      "\n",
      "Validation Dataset Model with Max Depth of 2,\n",
      "And Leaf Level of 9:\n",
      "Model's Accuracy: 0.7696629213483146\n",
      "Difference between Model and Basleine Accuracy: 0.15350130518669847\n",
      "Validate Classification Report\n",
      "              precision    recall  f1-score   support\n",
      "\n",
      "           0       0.74      0.96      0.84       110\n",
      "           1       0.89      0.46      0.60        68\n",
      "\n",
      "    accuracy                           0.77       178\n",
      "   macro avg       0.81      0.71      0.72       178\n",
      "weighted avg       0.80      0.77      0.75       178\n",
      "\n",
      "\n",
      "Difference bewtween Training and Validate:0.014981273408239737\n",
      "\n",
      "----------------------------------------------------\n",
      "\n",
      "Training Dataset Model with Max Depth of 1,\n",
      "And Leaf Level of 10:\n",
      "Model's Accuracy: 0.7846441947565543\n",
      "Difference between Model and Basleine Accuracy: 0.1684825785949382\n",
      "Train Classification Report\n",
      "              precision    recall  f1-score   support\n",
      "\n",
      "           0       0.75      0.99      0.85       329\n",
      "           1       0.96      0.46      0.62       205\n",
      "\n",
      "    accuracy                           0.78       534\n",
      "   macro avg       0.85      0.72      0.74       534\n",
      "weighted avg       0.83      0.78      0.76       534\n",
      "\n",
      "\n",
      "           VS             \n",
      "\n",
      "Validation Dataset Model with Max Depth of 1,\n",
      "And Leaf Level of 10:\n",
      "Model's Accuracy: 0.7696629213483146\n",
      "Difference between Model and Basleine Accuracy: 0.15350130518669847\n",
      "Validate Classification Report\n",
      "              precision    recall  f1-score   support\n",
      "\n",
      "           0       0.74      0.96      0.84       110\n",
      "           1       0.89      0.46      0.60        68\n",
      "\n",
      "    accuracy                           0.77       178\n",
      "   macro avg       0.81      0.71      0.72       178\n",
      "weighted avg       0.80      0.77      0.75       178\n",
      "\n",
      "\n",
      "Difference bewtween Training and Validate:0.014981273408239737\n",
      "\n",
      "----------------------------------------------------\n",
      "\n",
      "\n",
      "Top Model #1\n",
      "*************FINAL ANALYSIS*************\n",
      "\n",
      "Top performing Training Model:\n",
      "        Max Depth:7\n",
      "        Leaf Level:4\n",
      "        Accuracy:0.8520599250936329\n",
      "        \n",
      "Top performing Validation Model:\n",
      "\n",
      "        Max Depth:7\n",
      "        Leaf Level:4\n",
      "        Accuracy:0.8033707865168539\n",
      "        Difference:0.01310861423220977\n",
      "\n",
      "Top Model #2\n",
      "*************FINAL ANALYSIS*************\n",
      "\n",
      "Top performing Training Model:\n",
      "        Max Depth:5\n",
      "        Leaf Level:6\n",
      "        Accuracy:0.8520599250936329\n",
      "        \n",
      "Top performing Validation Model:\n",
      "\n",
      "        Max Depth:5\n",
      "        Leaf Level:6\n",
      "        Accuracy:0.8033707865168539\n",
      "        Difference:0.01310861423220977\n"
     ]
    }
   ],
   "source": [
    "i = 10\n",
    "j = 1\n",
    "\n",
    "# storing my values to use them to create dictiojnaries containg \n",
    "# all the collected data for head to head comaprison\n",
    "train_depth = []\n",
    "leaf_lvl = []\n",
    "train_score_list = [] \n",
    "val_score_list = []\n",
    "trn_report_list = []\n",
    "val_report_list = []\n",
    "diff_list = []\n",
    "\n",
    "while j < 11:\n",
    "        \n",
    "        y_pred, y_proba, k, l, rf = RandomForest(i, j, X_train, y_train)\n",
    "#         trn_score, trn_cm, trn_cmdf, trn_report = decision_metrics(X_train, y_train, y_pred, k, l)\n",
    "#         val_score, val_cm, val_cmdf, val_report = decision_metrics(X_validate, y_validate, y_pred, k, l)\n",
    "        # Compute score\n",
    "        trn_score = rf.score(X_train, y_train)\n",
    "        val_score = rf.score(X_validate, y_validate)\n",
    "        trn_report = classification_report(y_train, y_pred)\n",
    "        y_val_pred = rf.predict(X_validate)\n",
    "        val_report = classification_report(y_validate, y_val_pred)\n",
    "#         trn_report_list.append(trn_report)\n",
    "        val_report_list.append(val_report)\n",
    "        train_score_list.append(trn_score)\n",
    "        val_score_list.append(val_score)\n",
    "        train_depth.append(i)\n",
    "        leaf_lvl.append(j)\n",
    "        \n",
    "        print(f'Training Dataset Model with Max Depth of {i},')\n",
    "        print(f'And Leaf Level of {j}:')\n",
    "        \n",
    "        # Print the model's accuracy and other information\n",
    "        print(f\"Model's Accuracy: {trn_score}\")\n",
    "        print(f\"Difference between Model and Basleine Accuracy: {trn_score - baseline_accuracy}\")\n",
    "        print('Train Classification Report')\n",
    "        print(trn_report)\n",
    "        print()\n",
    "        print('           VS             ')\n",
    "        print()\n",
    "        print(f'Validation Dataset Model with Max Depth of {i},')\n",
    "        print(f'And Leaf Level of {j}:')\n",
    "        print(f\"Model's Accuracy: {val_score}\")\n",
    "        print(f\"Difference between Model and Basleine Accuracy: {val_score - baseline_accuracy}\")\n",
    "        print('Validate Classification Report')\n",
    "        print(val_report)\n",
    "        print()\n",
    "        print(f'Difference bewtween Training and Validate:{trn_score-val_score}')\n",
    "        #print(val_report)\n",
    "        print()\n",
    "        print('----------------------------------------------------')\n",
    "        print()\n",
    "\n",
    "        # Increment 'i' and 'j' for the next iteration\n",
    "        i -= 1\n",
    "        j += 1\n",
    "        diff = trn_score-val_score\n",
    "        diff_list.append(diff)\n",
    "\n",
    "# create dictionaries for my data collection\n",
    "train_dict = {(x, y): z for x, y, z in zip(train_depth, leaf_lvl, train_score_list)}\n",
    "val_dict = {(x, y): z for x, y, z in zip(train_depth, leaf_lvl, val_score_list)}\n",
    "diff_dict = {(x, y): z for x, y, z in zip(train_depth, leaf_lvl, diff_list)}\n",
    "\n",
    "model_number = 1\n",
    "for key, value in diff_dict.items():\n",
    "    if value == min(diff_dict.values()):\n",
    "        print()\n",
    "        print(f'Top Model #{model_number}')\n",
    "        print('*************FINAL ANALYSIS*************')\n",
    "        print()\n",
    "        print(f'''Top performing Training Model:\n",
    "        Max Depth:{key[0]}\n",
    "        Leaf Level:{key[1]}\n",
    "        Accuracy:{max(train_dict.values())}\n",
    "        \n",
    "Top performing Validation Model:\n",
    "\n",
    "        Max Depth:{key[0]}\n",
    "        Leaf Level:{key[1]}\n",
    "        Accuracy:{max(val_dict.values())}\n",
    "        Difference:{min(diff_dict.values())}''')\n",
    "        model_number+=1"
   ]
  },
  {
   "cell_type": "markdown",
   "id": "62118f3b",
   "metadata": {},
   "source": [
    "### Checking results individually before implementing in Final Report"
   ]
  },
  {
   "cell_type": "code",
   "execution_count": 25,
   "id": "3b5acbe2",
   "metadata": {
    "scrolled": true
   },
   "outputs": [
    {
     "data": {
      "text/plain": [
       "(0.8520599250936329,\n",
       " 0.8033707865168539,\n",
       " dict_keys([(10, 1), (9, 2), (8, 3), (7, 4), (6, 5), (5, 6), (4, 7), (3, 8), (2, 9), (1, 10)]))"
      ]
     },
     "execution_count": 25,
     "metadata": {},
     "output_type": "execute_result"
    }
   ],
   "source": [
    "max(train_dict.values()), max(val_dict.values()), diff_dict.keys()"
   ]
  },
  {
   "cell_type": "code",
   "execution_count": 26,
   "id": "18fa66cf",
   "metadata": {},
   "outputs": [
    {
     "name": "stdout",
     "output_type": "stream",
     "text": [
      "dict_keys([(10, 1), (9, 2), (8, 3), (7, 4), (6, 5), (5, 6), (4, 7), (3, 8), (2, 9), (1, 10)])\n"
     ]
    }
   ],
   "source": [
    "print(diff_dict.keys())"
   ]
  },
  {
   "cell_type": "code",
   "execution_count": 27,
   "id": "ae1fc5b8",
   "metadata": {},
   "outputs": [
    {
     "name": "stdout",
     "output_type": "stream",
     "text": [
      "(7, 4)\n",
      "7\n",
      "0.01310861423220977\n",
      "0.8033707865168539\n",
      "0.8520599250936329\n",
      "(5, 6)\n",
      "5\n",
      "0.01310861423220977\n",
      "0.8033707865168539\n",
      "0.8520599250936329\n"
     ]
    }
   ],
   "source": [
    "for key, value in diff_dict.items():\n",
    "    if value == min(diff_dict.values()):\n",
    "        print(key)\n",
    "        print(key[0])\n",
    "        print(min(diff_dict.values()))\n",
    "        print(max(val_dict.values()))\n",
    "        print(max(train_dict.values()))\n",
    "#01310861423220977"
   ]
  },
  {
   "cell_type": "markdown",
   "id": "d39693bc",
   "metadata": {},
   "source": [
    "## 5. What are the differences in the evaluation metrics? Which performs better on your in-sample data? Why?"
   ]
  },
  {
   "cell_type": "code",
   "execution_count": 28,
   "id": "e98559b5",
   "metadata": {},
   "outputs": [],
   "source": [
    "key_values = []\n",
    "for key, value in diff_dict.items():\n",
    "    key=key[0]\n",
    "    key_values.append(key)"
   ]
  },
  {
   "cell_type": "code",
   "execution_count": 29,
   "id": "3b06a367",
   "metadata": {},
   "outputs": [],
   "source": [
    "train_values = train_dict.values()"
   ]
  },
  {
   "cell_type": "code",
   "execution_count": 30,
   "id": "564ebeee",
   "metadata": {},
   "outputs": [],
   "source": [
    "validate_values = val_dict.values()"
   ]
  },
  {
   "cell_type": "code",
   "execution_count": 31,
   "id": "4a99c4d7",
   "metadata": {},
   "outputs": [],
   "source": [
    "diff_values = diff_dict.values()"
   ]
  },
  {
   "cell_type": "code",
   "execution_count": 32,
   "id": "b52c9863",
   "metadata": {},
   "outputs": [],
   "source": [
    "df = pd.DataFrame({'depth':key_values, 'train_acc':train_values, 'validate_acc':validate_values, 'difference':diff_values})\n"
   ]
  },
  {
   "cell_type": "code",
   "execution_count": 33,
   "id": "857c9bf3",
   "metadata": {},
   "outputs": [
    {
     "data": {
      "image/png": "[encoded data removed]",
      "text/plain": [
       "<Figure size 1600x900 with 1 Axes>"
      ]
     },
     "metadata": {},
     "output_type": "display_data"
    }
   ],
   "source": [
    "df.set_index('depth').plot(figsize = (16,9))\n",
    "plt.ylabel('Accuracy')\n",
    "plt.xticks(np.arange(0,10,1))\n",
    "plt.grid()"
   ]
  },
  {
   "cell_type": "code",
   "execution_count": null,
   "id": "a7299363",
   "metadata": {},
   "outputs": [],
   "source": []
  }
 ],
 "metadata": {
  "kernelspec": {
   "display_name": "Python 3 (ipykernel)",
   "language": "python",
   "name": "python3"
  },
  "language_info": {
   "codemirror_mode": {
    "name": "ipython",
    "version": 3
   },
   "file_extension": ".py",
   "mimetype": "text/x-python",
   "name": "python",
   "nbconvert_exporter": "python",
   "pygments_lexer": "ipython3",
   "version": "3.10.9"
  }
 },
 "nbformat": 4,
 "nbformat_minor": 5
}
