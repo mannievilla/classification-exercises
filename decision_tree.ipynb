{
 "cells": [
  {
   "cell_type": "markdown",
   "id": "44891e4c",
   "metadata": {},
   "source": [
    "## Using the titanic data, in your classification-exercises repository, create a notebook, decision_tree.ipynb where you will do the following:"
   ]
  },
  {
   "cell_type": "code",
   "execution_count": 1,
   "id": "fcae2673",
   "metadata": {},
   "outputs": [],
   "source": [
    "import pydataset\n",
    "from env import get_db_url\n",
    "\n",
    "import pandas as pd\n",
    "import numpy as np\n",
    "\n",
    "from prepare import prep_titanic\n",
    "from prepare import titanic_split\n",
    "\n",
    "from sklearn.model_selection import train_test_split\n",
    "from sklearn.tree import DecisionTreeClassifier, plot_tree\n",
    "from sklearn.metrics import classification_report\n",
    "from sklearn.metrics import confusion_matrix\n",
    "\n",
    "import matplotlib.pyplot as plt\n",
    "import seaborn as sns\n",
    "\n",
    "#import graphviz\n",
    "#from graphviz import Graph"
   ]
  },
  {
   "cell_type": "code",
   "execution_count": 2,
   "id": "ce4410a6",
   "metadata": {},
   "outputs": [
    {
     "data": {
      "text/html": [
       "<div>\n",
       "<style scoped>\n",
       "    .dataframe tbody tr th:only-of-type {\n",
       "        vertical-align: middle;\n",
       "    }\n",
       "\n",
       "    .dataframe tbody tr th {\n",
       "        vertical-align: top;\n",
       "    }\n",
       "\n",
       "    .dataframe thead th {\n",
       "        text-align: right;\n",
       "    }\n",
       "</style>\n",
       "<table border=\"1\" class=\"dataframe\">\n",
       "  <thead>\n",
       "    <tr style=\"text-align: right;\">\n",
       "      <th></th>\n",
       "      <th>passenger_id</th>\n",
       "      <th>survived</th>\n",
       "      <th>pclass</th>\n",
       "      <th>sex</th>\n",
       "      <th>sibsp</th>\n",
       "      <th>parch</th>\n",
       "      <th>fare</th>\n",
       "      <th>embarked</th>\n",
       "      <th>alone</th>\n",
       "      <th>sex_male</th>\n",
       "      <th>embarked_Q</th>\n",
       "      <th>embarked_S</th>\n",
       "      <th>baseline_prediction</th>\n",
       "    </tr>\n",
       "  </thead>\n",
       "  <tbody>\n",
       "    <tr>\n",
       "      <th>0</th>\n",
       "      <td>0</td>\n",
       "      <td>0</td>\n",
       "      <td>3</td>\n",
       "      <td>male</td>\n",
       "      <td>1</td>\n",
       "      <td>0</td>\n",
       "      <td>7.2500</td>\n",
       "      <td>S</td>\n",
       "      <td>0</td>\n",
       "      <td>1</td>\n",
       "      <td>0</td>\n",
       "      <td>1</td>\n",
       "      <td>0</td>\n",
       "    </tr>\n",
       "    <tr>\n",
       "      <th>1</th>\n",
       "      <td>1</td>\n",
       "      <td>1</td>\n",
       "      <td>1</td>\n",
       "      <td>female</td>\n",
       "      <td>1</td>\n",
       "      <td>0</td>\n",
       "      <td>71.2833</td>\n",
       "      <td>C</td>\n",
       "      <td>0</td>\n",
       "      <td>0</td>\n",
       "      <td>0</td>\n",
       "      <td>0</td>\n",
       "      <td>0</td>\n",
       "    </tr>\n",
       "    <tr>\n",
       "      <th>2</th>\n",
       "      <td>2</td>\n",
       "      <td>1</td>\n",
       "      <td>3</td>\n",
       "      <td>female</td>\n",
       "      <td>0</td>\n",
       "      <td>0</td>\n",
       "      <td>7.9250</td>\n",
       "      <td>S</td>\n",
       "      <td>1</td>\n",
       "      <td>0</td>\n",
       "      <td>0</td>\n",
       "      <td>1</td>\n",
       "      <td>0</td>\n",
       "    </tr>\n",
       "    <tr>\n",
       "      <th>3</th>\n",
       "      <td>3</td>\n",
       "      <td>1</td>\n",
       "      <td>1</td>\n",
       "      <td>female</td>\n",
       "      <td>1</td>\n",
       "      <td>0</td>\n",
       "      <td>53.1000</td>\n",
       "      <td>S</td>\n",
       "      <td>0</td>\n",
       "      <td>0</td>\n",
       "      <td>0</td>\n",
       "      <td>1</td>\n",
       "      <td>0</td>\n",
       "    </tr>\n",
       "    <tr>\n",
       "      <th>4</th>\n",
       "      <td>4</td>\n",
       "      <td>0</td>\n",
       "      <td>3</td>\n",
       "      <td>male</td>\n",
       "      <td>0</td>\n",
       "      <td>0</td>\n",
       "      <td>8.0500</td>\n",
       "      <td>S</td>\n",
       "      <td>1</td>\n",
       "      <td>1</td>\n",
       "      <td>0</td>\n",
       "      <td>1</td>\n",
       "      <td>0</td>\n",
       "    </tr>\n",
       "  </tbody>\n",
       "</table>\n",
       "</div>"
      ],
      "text/plain": [
       "   passenger_id  survived  pclass     sex  sibsp  parch     fare embarked  \\\n",
       "0             0         0       3    male      1      0   7.2500        S   \n",
       "1             1         1       1  female      1      0  71.2833        C   \n",
       "2             2         1       3  female      0      0   7.9250        S   \n",
       "3             3         1       1  female      1      0  53.1000        S   \n",
       "4             4         0       3    male      0      0   8.0500        S   \n",
       "\n",
       "   alone  sex_male  embarked_Q  embarked_S  baseline_prediction  \n",
       "0      0         1           0           1                    0  \n",
       "1      0         0           0           0                    0  \n",
       "2      1         0           0           1                    0  \n",
       "3      0         0           0           1                    0  \n",
       "4      1         1           0           1                    0  "
      ]
     },
     "execution_count": 2,
     "metadata": {},
     "output_type": "execute_result"
    }
   ],
   "source": [
    "df = prep_titanic()\n",
    "df['baseline_prediction'] = 0\n",
    "df.head()"
   ]
  },
  {
   "cell_type": "code",
   "execution_count": 3,
   "id": "ce52ced9",
   "metadata": {},
   "outputs": [],
   "source": [
    "df, train, validate, test = titanic_split(df)"
   ]
  },
  {
   "cell_type": "markdown",
   "id": "5045af94",
   "metadata": {},
   "source": [
    "<hr style=\"border: 2px solid #000000;\">"
   ]
  },
  {
   "cell_type": "code",
   "execution_count": 4,
   "id": "47e44562",
   "metadata": {},
   "outputs": [
    {
     "data": {
      "text/plain": [
       "((534, 13), (178, 13), (179, 13))"
      ]
     },
     "execution_count": 4,
     "metadata": {},
     "output_type": "execute_result"
    }
   ],
   "source": [
    "# inspect size\n",
    "train.shape, validate.shape, test.shape"
   ]
  },
  {
   "cell_type": "code",
   "execution_count": 5,
   "id": "571ae72f",
   "metadata": {},
   "outputs": [
    {
     "name": "stdout",
     "output_type": "stream",
     "text": [
      "<class 'pandas.core.frame.DataFrame'>\n",
      "Int64Index: 534 entries, 455 to 496\n",
      "Data columns (total 13 columns):\n",
      " #   Column               Non-Null Count  Dtype  \n",
      "---  ------               --------------  -----  \n",
      " 0   passenger_id         534 non-null    int64  \n",
      " 1   survived             534 non-null    int64  \n",
      " 2   pclass               534 non-null    int64  \n",
      " 3   sex                  534 non-null    object \n",
      " 4   sibsp                534 non-null    int64  \n",
      " 5   parch                534 non-null    int64  \n",
      " 6   fare                 534 non-null    float64\n",
      " 7   embarked             534 non-null    object \n",
      " 8   alone                534 non-null    int64  \n",
      " 9   sex_male             534 non-null    uint8  \n",
      " 10  embarked_Q           534 non-null    uint8  \n",
      " 11  embarked_S           534 non-null    uint8  \n",
      " 12  baseline_prediction  534 non-null    int64  \n",
      "dtypes: float64(1), int64(7), object(2), uint8(3)\n",
      "memory usage: 47.5+ KB\n",
      "<class 'pandas.core.frame.DataFrame'>\n",
      "Int64Index: 178 entries, 176 to 837\n",
      "Data columns (total 13 columns):\n",
      " #   Column               Non-Null Count  Dtype  \n",
      "---  ------               --------------  -----  \n",
      " 0   passenger_id         178 non-null    int64  \n",
      " 1   survived             178 non-null    int64  \n",
      " 2   pclass               178 non-null    int64  \n",
      " 3   sex                  178 non-null    object \n",
      " 4   sibsp                178 non-null    int64  \n",
      " 5   parch                178 non-null    int64  \n",
      " 6   fare                 178 non-null    float64\n",
      " 7   embarked             178 non-null    object \n",
      " 8   alone                178 non-null    int64  \n",
      " 9   sex_male             178 non-null    uint8  \n",
      " 10  embarked_Q           178 non-null    uint8  \n",
      " 11  embarked_S           178 non-null    uint8  \n",
      " 12  baseline_prediction  178 non-null    int64  \n",
      "dtypes: float64(1), int64(7), object(2), uint8(3)\n",
      "memory usage: 15.8+ KB\n",
      "<class 'pandas.core.frame.DataFrame'>\n",
      "Int64Index: 179 entries, 561 to 53\n",
      "Data columns (total 13 columns):\n",
      " #   Column               Non-Null Count  Dtype  \n",
      "---  ------               --------------  -----  \n",
      " 0   passenger_id         179 non-null    int64  \n",
      " 1   survived             179 non-null    int64  \n",
      " 2   pclass               179 non-null    int64  \n",
      " 3   sex                  179 non-null    object \n",
      " 4   sibsp                179 non-null    int64  \n",
      " 5   parch                179 non-null    int64  \n",
      " 6   fare                 179 non-null    float64\n",
      " 7   embarked             179 non-null    object \n",
      " 8   alone                179 non-null    int64  \n",
      " 9   sex_male             179 non-null    uint8  \n",
      " 10  embarked_Q           179 non-null    uint8  \n",
      " 11  embarked_S           179 non-null    uint8  \n",
      " 12  baseline_prediction  179 non-null    int64  \n",
      "dtypes: float64(1), int64(7), object(2), uint8(3)\n",
      "memory usage: 15.9+ KB\n"
     ]
    },
    {
     "data": {
      "text/plain": [
       "(None, None, None)"
      ]
     },
     "execution_count": 5,
     "metadata": {},
     "output_type": "execute_result"
    }
   ],
   "source": [
    "# inspect\n",
    "train.info(), validate.info(), test.info()"
   ]
  },
  {
   "cell_type": "markdown",
   "id": "cbb87dcf",
   "metadata": {},
   "source": [
    "### 1. What is your baseline prediction? What is your baseline accuracy? remember: your baseline prediction for a classification problem is predicting the most prevelant class in the training dataset (the mode). When you make those predictions, what is your accuracy? This is your baseline accuracy."
   ]
  },
  {
   "cell_type": "code",
   "execution_count": 6,
   "id": "29fcf5de",
   "metadata": {
    "scrolled": true
   },
   "outputs": [
    {
     "data": {
      "text/html": [
       "<div>\n",
       "<style scoped>\n",
       "    .dataframe tbody tr th:only-of-type {\n",
       "        vertical-align: middle;\n",
       "    }\n",
       "\n",
       "    .dataframe tbody tr th {\n",
       "        vertical-align: top;\n",
       "    }\n",
       "\n",
       "    .dataframe thead th {\n",
       "        text-align: right;\n",
       "    }\n",
       "</style>\n",
       "<table border=\"1\" class=\"dataframe\">\n",
       "  <thead>\n",
       "    <tr style=\"text-align: right;\">\n",
       "      <th></th>\n",
       "      <th>passenger_id</th>\n",
       "      <th>survived</th>\n",
       "      <th>pclass</th>\n",
       "      <th>sex</th>\n",
       "      <th>sibsp</th>\n",
       "      <th>parch</th>\n",
       "      <th>fare</th>\n",
       "      <th>embarked</th>\n",
       "      <th>alone</th>\n",
       "      <th>sex_male</th>\n",
       "      <th>embarked_Q</th>\n",
       "      <th>embarked_S</th>\n",
       "      <th>baseline_prediction</th>\n",
       "    </tr>\n",
       "  </thead>\n",
       "  <tbody>\n",
       "    <tr>\n",
       "      <th>0</th>\n",
       "      <td>0</td>\n",
       "      <td>0</td>\n",
       "      <td>3</td>\n",
       "      <td>male</td>\n",
       "      <td>1</td>\n",
       "      <td>0</td>\n",
       "      <td>7.2500</td>\n",
       "      <td>S</td>\n",
       "      <td>0</td>\n",
       "      <td>1</td>\n",
       "      <td>0</td>\n",
       "      <td>1</td>\n",
       "      <td>0</td>\n",
       "    </tr>\n",
       "    <tr>\n",
       "      <th>1</th>\n",
       "      <td>1</td>\n",
       "      <td>1</td>\n",
       "      <td>1</td>\n",
       "      <td>female</td>\n",
       "      <td>1</td>\n",
       "      <td>0</td>\n",
       "      <td>71.2833</td>\n",
       "      <td>C</td>\n",
       "      <td>0</td>\n",
       "      <td>0</td>\n",
       "      <td>0</td>\n",
       "      <td>0</td>\n",
       "      <td>0</td>\n",
       "    </tr>\n",
       "    <tr>\n",
       "      <th>2</th>\n",
       "      <td>2</td>\n",
       "      <td>1</td>\n",
       "      <td>3</td>\n",
       "      <td>female</td>\n",
       "      <td>0</td>\n",
       "      <td>0</td>\n",
       "      <td>7.9250</td>\n",
       "      <td>S</td>\n",
       "      <td>1</td>\n",
       "      <td>0</td>\n",
       "      <td>0</td>\n",
       "      <td>1</td>\n",
       "      <td>0</td>\n",
       "    </tr>\n",
       "    <tr>\n",
       "      <th>3</th>\n",
       "      <td>3</td>\n",
       "      <td>1</td>\n",
       "      <td>1</td>\n",
       "      <td>female</td>\n",
       "      <td>1</td>\n",
       "      <td>0</td>\n",
       "      <td>53.1000</td>\n",
       "      <td>S</td>\n",
       "      <td>0</td>\n",
       "      <td>0</td>\n",
       "      <td>0</td>\n",
       "      <td>1</td>\n",
       "      <td>0</td>\n",
       "    </tr>\n",
       "    <tr>\n",
       "      <th>4</th>\n",
       "      <td>4</td>\n",
       "      <td>0</td>\n",
       "      <td>3</td>\n",
       "      <td>male</td>\n",
       "      <td>0</td>\n",
       "      <td>0</td>\n",
       "      <td>8.0500</td>\n",
       "      <td>S</td>\n",
       "      <td>1</td>\n",
       "      <td>1</td>\n",
       "      <td>0</td>\n",
       "      <td>1</td>\n",
       "      <td>0</td>\n",
       "    </tr>\n",
       "  </tbody>\n",
       "</table>\n",
       "</div>"
      ],
      "text/plain": [
       "   passenger_id  survived  pclass     sex  sibsp  parch     fare embarked  \\\n",
       "0             0         0       3    male      1      0   7.2500        S   \n",
       "1             1         1       1  female      1      0  71.2833        C   \n",
       "2             2         1       3  female      0      0   7.9250        S   \n",
       "3             3         1       1  female      1      0  53.1000        S   \n",
       "4             4         0       3    male      0      0   8.0500        S   \n",
       "\n",
       "   alone  sex_male  embarked_Q  embarked_S  baseline_prediction  \n",
       "0      0         1           0           1                    0  \n",
       "1      0         0           0           0                    0  \n",
       "2      1         0           0           1                    0  \n",
       "3      0         0           0           1                    0  \n",
       "4      1         1           0           1                    0  "
      ]
     },
     "execution_count": 6,
     "metadata": {},
     "output_type": "execute_result"
    }
   ],
   "source": [
    "df.head()"
   ]
  },
  {
   "cell_type": "markdown",
   "id": "35d16d39",
   "metadata": {},
   "source": [
    "### Chekcing to the count for survived passengers. \n",
    "* The value 0 means False and 1 means True."
   ]
  },
  {
   "cell_type": "code",
   "execution_count": 7,
   "id": "fc6108e5",
   "metadata": {
    "scrolled": false
   },
   "outputs": [
    {
     "data": {
      "text/plain": [
       "0    549\n",
       "1    342\n",
       "Name: survived, dtype: int64"
      ]
     },
     "execution_count": 7,
     "metadata": {},
     "output_type": "execute_result"
    }
   ],
   "source": [
    "df.survived.value_counts()"
   ]
  },
  {
   "cell_type": "code",
   "execution_count": 8,
   "id": "fced20e8",
   "metadata": {},
   "outputs": [
    {
     "data": {
      "text/html": [
       "<div>\n",
       "<style scoped>\n",
       "    .dataframe tbody tr th:only-of-type {\n",
       "        vertical-align: middle;\n",
       "    }\n",
       "\n",
       "    .dataframe tbody tr th {\n",
       "        vertical-align: top;\n",
       "    }\n",
       "\n",
       "    .dataframe thead th {\n",
       "        text-align: right;\n",
       "    }\n",
       "</style>\n",
       "<table border=\"1\" class=\"dataframe\">\n",
       "  <thead>\n",
       "    <tr style=\"text-align: right;\">\n",
       "      <th></th>\n",
       "      <th>passenger_id</th>\n",
       "      <th>survived</th>\n",
       "      <th>pclass</th>\n",
       "      <th>sex</th>\n",
       "      <th>sibsp</th>\n",
       "      <th>parch</th>\n",
       "      <th>fare</th>\n",
       "      <th>embarked</th>\n",
       "      <th>alone</th>\n",
       "      <th>sex_male</th>\n",
       "      <th>embarked_Q</th>\n",
       "      <th>embarked_S</th>\n",
       "      <th>baseline_prediction</th>\n",
       "    </tr>\n",
       "  </thead>\n",
       "  <tbody>\n",
       "    <tr>\n",
       "      <th>0</th>\n",
       "      <td>0</td>\n",
       "      <td>0</td>\n",
       "      <td>3</td>\n",
       "      <td>male</td>\n",
       "      <td>1</td>\n",
       "      <td>0</td>\n",
       "      <td>7.25</td>\n",
       "      <td>S</td>\n",
       "      <td>0</td>\n",
       "      <td>1</td>\n",
       "      <td>0</td>\n",
       "      <td>1</td>\n",
       "      <td>0</td>\n",
       "    </tr>\n",
       "  </tbody>\n",
       "</table>\n",
       "</div>"
      ],
      "text/plain": [
       "   passenger_id  survived  pclass   sex  sibsp  parch  fare embarked  alone  \\\n",
       "0             0         0       3  male      1      0  7.25        S      0   \n",
       "\n",
       "   sex_male  embarked_Q  embarked_S  baseline_prediction  \n",
       "0         1           0           1                    0  "
      ]
     },
     "execution_count": 8,
     "metadata": {},
     "output_type": "execute_result"
    }
   ],
   "source": [
    "df.head(1)"
   ]
  },
  {
   "cell_type": "markdown",
   "id": "6c331266",
   "metadata": {},
   "source": [
    "## The baseline accuracy:"
   ]
  },
  {
   "cell_type": "code",
   "execution_count": 9,
   "id": "e7b5a29b",
   "metadata": {},
   "outputs": [
    {
     "data": {
      "text/plain": [
       "0.6161616161616161"
      ]
     },
     "execution_count": 9,
     "metadata": {},
     "output_type": "execute_result"
    }
   ],
   "source": [
    "# checking the baseline accuracy\n",
    "baseline_accuracy = (df.survived == df.baseline_prediction).mean()\n",
    "baseline_accuracy"
   ]
  },
  {
   "cell_type": "markdown",
   "id": "9432cc11",
   "metadata": {},
   "source": [
    "<hr style=\"border: 2px solid #000000;\">"
   ]
  },
  {
   "cell_type": "code",
   "execution_count": 10,
   "id": "b6f5cac9",
   "metadata": {
    "scrolled": false
   },
   "outputs": [
    {
     "data": {
      "text/plain": [
       "Index(['passenger_id', 'survived', 'pclass', 'sex', 'sibsp', 'parch', 'fare',\n",
       "       'embarked', 'alone', 'sex_male', 'embarked_Q', 'embarked_S',\n",
       "       'baseline_prediction'],\n",
       "      dtype='object')"
      ]
     },
     "execution_count": 10,
     "metadata": {},
     "output_type": "execute_result"
    }
   ],
   "source": [
    "df.columns"
   ]
  },
  {
   "cell_type": "code",
   "execution_count": 11,
   "id": "cf33cf5f",
   "metadata": {},
   "outputs": [
    {
     "data": {
      "text/plain": [
       "('pclass', 'sex', 'sibsp', 'parch', 'fare', 'alone', 'sex_male')"
      ]
     },
     "execution_count": 11,
     "metadata": {},
     "output_type": "execute_result"
    }
   ],
   "source": [
    "'pclass', 'sex', 'sibsp', 'parch', 'fare', 'alone', 'sex_male', "
   ]
  },
  {
   "cell_type": "code",
   "execution_count": 12,
   "id": "ac293125",
   "metadata": {
    "scrolled": false
   },
   "outputs": [
    {
     "data": {
      "text/plain": [
       "passenger_id             int64\n",
       "survived                 int64\n",
       "pclass                   int64\n",
       "sex                     object\n",
       "sibsp                    int64\n",
       "parch                    int64\n",
       "fare                   float64\n",
       "embarked                object\n",
       "alone                    int64\n",
       "sex_male                 uint8\n",
       "embarked_Q               uint8\n",
       "embarked_S               uint8\n",
       "baseline_prediction      int64\n",
       "dtype: object"
      ]
     },
     "execution_count": 12,
     "metadata": {},
     "output_type": "execute_result"
    }
   ],
   "source": [
    "df.dtypes"
   ]
  },
  {
   "cell_type": "code",
   "execution_count": 13,
   "id": "01fc1493",
   "metadata": {},
   "outputs": [],
   "source": [
    "df['fare'] = df['fare'].astype('float64')"
   ]
  },
  {
   "cell_type": "markdown",
   "id": "5f80a3d9",
   "metadata": {},
   "source": [
    "<hr style=\"border: 2px solid #000000;\">"
   ]
  },
  {
   "cell_type": "code",
   "execution_count": 14,
   "id": "6dbb48b8",
   "metadata": {},
   "outputs": [],
   "source": [
    "# create X & y version of train/validate/test\n",
    "# where X contains the features we want to use and y is a series with just the target variable\n",
    "\n",
    "X_train = train.drop(columns=['passenger_id', 'survived', 'sex', 'embarked', 'embarked_Q', \n",
    "        'embarked_S', 'baseline_prediction'])\n",
    "y_train = train.survived"
   ]
  },
  {
   "cell_type": "code",
   "execution_count": 15,
   "id": "364af291",
   "metadata": {},
   "outputs": [],
   "source": [
    "X_validate = validate.drop(columns=['passenger_id', 'survived', 'sex', 'embarked', 'embarked_Q', \n",
    "        'embarked_S', 'baseline_prediction'])\n",
    "y_validate = validate.survived"
   ]
  },
  {
   "cell_type": "code",
   "execution_count": 16,
   "id": "d2639b47",
   "metadata": {},
   "outputs": [],
   "source": [
    "X_test = test.drop(columns=['passenger_id', 'survived', 'sex', 'embarked', 'embarked_Q', \n",
    "        'embarked_S', 'baseline_prediction'])\n",
    "y_test = test.survived"
   ]
  },
  {
   "cell_type": "markdown",
   "id": "884adde8",
   "metadata": {},
   "source": [
    "<hr style=\"border: 2px solid #000000;\">"
   ]
  },
  {
   "cell_type": "code",
   "execution_count": 17,
   "id": "2c996c63",
   "metadata": {},
   "outputs": [
    {
     "name": "stdout",
     "output_type": "stream",
     "text": [
      "train:\n",
      "['passenger_id', 'survived', 'pclass', 'sex', 'sibsp', 'parch', 'fare', 'embarked', 'alone', 'sex_male', 'embarked_Q', 'embarked_S', 'baseline_prediction'] \n",
      "_____________________________________________\n",
      "X_train:\n",
      "['pclass', 'sibsp', 'parch', 'fare', 'alone', 'sex_male']\n",
      "_____________________________________________\n",
      "X_validate:\n",
      "['pclass', 'sibsp', 'parch', 'fare', 'alone', 'sex_male']\n",
      "\n"
     ]
    }
   ],
   "source": [
    "#Compare df columns\n",
    "\n",
    "print(f\"\"\"train:\n",
    "{train.columns.to_list()} \n",
    "_____________________________________________\n",
    "X_train:\n",
    "{X_train.columns.to_list()}\n",
    "_____________________________________________\n",
    "X_validate:\n",
    "{X_validate.columns.to_list()}\n",
    "\"\"\")"
   ]
  },
  {
   "cell_type": "markdown",
   "id": "385943f4",
   "metadata": {},
   "source": [
    "### 2. Fit the decision tree classifier to your training sample and transform (i.e. make predictions on the training sample)"
   ]
  },
  {
   "cell_type": "code",
   "execution_count": 18,
   "id": "18b98aa5",
   "metadata": {},
   "outputs": [],
   "source": [
    "from sklearn.tree import DecisionTreeClassifier, plot_tree"
   ]
  },
  {
   "cell_type": "code",
   "execution_count": 19,
   "id": "982d7bdb",
   "metadata": {},
   "outputs": [],
   "source": [
    "clf = DecisionTreeClassifier(max_depth=3, random_state=123)"
   ]
  },
  {
   "cell_type": "code",
   "execution_count": 20,
   "id": "6c58effd",
   "metadata": {},
   "outputs": [],
   "source": [
    "# model.fit(X, y)\n",
    "\n",
    "clf = clf.fit(X_train, y_train)"
   ]
  },
  {
   "cell_type": "code",
   "execution_count": 21,
   "id": "9775f679",
   "metadata": {},
   "outputs": [
    {
     "data": {
      "text/plain": [
       "array([0, 1, 0, 0, 0])"
      ]
     },
     "execution_count": 21,
     "metadata": {},
     "output_type": "execute_result"
    }
   ],
   "source": [
    "# make prediction on train obeservations\n",
    "\n",
    "y_pred = clf.predict(X_train)\n",
    "y_pred[0:5]"
   ]
  },
  {
   "cell_type": "code",
   "execution_count": 22,
   "id": "55fe350d",
   "metadata": {
    "scrolled": true
   },
   "outputs": [
    {
     "data": {
      "text/plain": [
       "array([[0.905     , 0.095     ],\n",
       "       [0.01785714, 0.98214286],\n",
       "       [0.69105691, 0.30894309],\n",
       "       [0.69105691, 0.30894309],\n",
       "       [0.905     , 0.095     ]])"
      ]
     },
     "execution_count": 22,
     "metadata": {},
     "output_type": "execute_result"
    }
   ],
   "source": [
    "#estimates probabilty\n",
    "\n",
    "y_proba = clf.predict_proba(X_train)\n",
    "y_proba[0:5]"
   ]
  },
  {
   "cell_type": "code",
   "execution_count": 23,
   "id": "44556639",
   "metadata": {},
   "outputs": [
    {
     "name": "stdout",
     "output_type": "stream",
     "text": [
      "Accuracy of Decision Tree classifier on training set: 0.82\n"
     ]
    }
   ],
   "source": [
    "#compute the accuracy\n",
    "\n",
    "print('Accuracy of Decision Tree classifier on training set: {:.2f}'\n",
    "      .format(clf.score(X_train, y_train)))"
   ]
  },
  {
   "cell_type": "markdown",
   "id": "f6b8cfe9",
   "metadata": {},
   "source": [
    "### 3. Evaluate your in-sample results using the model score, confusion matrix, and classification report."
   ]
  },
  {
   "cell_type": "code",
   "execution_count": 24,
   "id": "59f0cf20",
   "metadata": {},
   "outputs": [],
   "source": [
    "from sklearn.metrics import confusion_matrix\n",
    "from sklearn.metrics import classification_report"
   ]
  },
  {
   "cell_type": "code",
   "execution_count": 25,
   "id": "cc46bc0c",
   "metadata": {},
   "outputs": [
    {
     "data": {
      "text/plain": [
       "0.8183520599250936"
      ]
     },
     "execution_count": 25,
     "metadata": {},
     "output_type": "execute_result"
    }
   ],
   "source": [
    "#get the accuracy score of train set\n",
    "train_score = clf.score(X_train, y_train)\n",
    "train_score\n"
   ]
  },
  {
   "cell_type": "code",
   "execution_count": 26,
   "id": "c4548c6f",
   "metadata": {},
   "outputs": [
    {
     "data": {
      "text/html": [
       "<div>\n",
       "<style scoped>\n",
       "    .dataframe tbody tr th:only-of-type {\n",
       "        vertical-align: middle;\n",
       "    }\n",
       "\n",
       "    .dataframe tbody tr th {\n",
       "        vertical-align: top;\n",
       "    }\n",
       "\n",
       "    .dataframe thead th {\n",
       "        text-align: right;\n",
       "    }\n",
       "</style>\n",
       "<table border=\"1\" class=\"dataframe\">\n",
       "  <thead>\n",
       "    <tr style=\"text-align: right;\">\n",
       "      <th></th>\n",
       "      <th>Pred 0</th>\n",
       "      <th>Pred 1</th>\n",
       "    </tr>\n",
       "  </thead>\n",
       "  <tbody>\n",
       "    <tr>\n",
       "      <th>Actual 0</th>\n",
       "      <td>295</td>\n",
       "      <td>34</td>\n",
       "    </tr>\n",
       "    <tr>\n",
       "      <th>Actual 1</th>\n",
       "      <td>63</td>\n",
       "      <td>142</td>\n",
       "    </tr>\n",
       "  </tbody>\n",
       "</table>\n",
       "</div>"
      ],
      "text/plain": [
       "          Pred 0  Pred 1\n",
       "Actual 0     295      34\n",
       "Actual 1      63     142"
      ]
     },
     "execution_count": 26,
     "metadata": {},
     "output_type": "execute_result"
    }
   ],
   "source": [
    "# confusion matrix\n",
    "\n",
    "\n",
    "cm = confusion_matrix(y_train, y_pred)\n",
    "pd.DataFrame(cm, index=['Actual 0', 'Actual 1'], \n",
    "             columns=['Pred 0', 'Pred 1'])\n"
   ]
  },
  {
   "cell_type": "code",
   "execution_count": 27,
   "id": "f4e4a4f4",
   "metadata": {},
   "outputs": [
    {
     "data": {
      "text/plain": [
       "0    329\n",
       "1    205\n",
       "Name: survived, dtype: int64"
      ]
     },
     "execution_count": 27,
     "metadata": {},
     "output_type": "execute_result"
    }
   ],
   "source": [
    "#target value count\n",
    "\n",
    "y_train.value_counts()"
   ]
  },
  {
   "cell_type": "code",
   "execution_count": 28,
   "id": "ae25e821",
   "metadata": {},
   "outputs": [
    {
     "name": "stdout",
     "output_type": "stream",
     "text": [
      "              precision    recall  f1-score   support\n",
      "\n",
      "           0       0.82      0.90      0.86       329\n",
      "           1       0.81      0.69      0.75       205\n",
      "\n",
      "    accuracy                           0.82       534\n",
      "   macro avg       0.82      0.79      0.80       534\n",
      "weighted avg       0.82      0.82      0.82       534\n",
      "\n"
     ]
    }
   ],
   "source": [
    "print(classification_report(y_train, y_pred))"
   ]
  },
  {
   "cell_type": "markdown",
   "id": "cc824fa1",
   "metadata": {},
   "source": [
    "### 4. Compute: Accuracy, true positive rate, false positive rate, true negative rate, false negative rate, precision, recall, f1-score, and support."
   ]
  },
  {
   "cell_type": "code",
   "execution_count": 29,
   "id": "f5fc6d8a",
   "metadata": {},
   "outputs": [],
   "source": [
    " def print_cm_metrics(cm):    \n",
    "    tn, fp, fn, tp = cm.ravel()\n",
    "\n",
    "    accuracy = (tp + tn)/(tn + fp + fn + tp)\n",
    "\n",
    "    true_positive_rate = tp/(tp + fn)\n",
    "    false_positive_rate = fp/(fp + tn)\n",
    "    true_negative_rate = tn/(tn + fp)\n",
    "    false_negative_rate = fn/(fn + tp)\n",
    "\n",
    "    precision = tp/(tp + fp)\n",
    "    recall = tp/(tp + fn)\n",
    "    f1_score = 2*(precision*recall)/(precision+recall)\n",
    "\n",
    "    support_pos = tp + fn\n",
    "    support_neg = fp + tn\n",
    "\n",
    "    dict = {\n",
    "        'metric' : ['accuracy'\n",
    "                    ,'true_positive_rate'\n",
    "                    ,'false_positive_rate'\n",
    "                    ,'true_negative_rate'\n",
    "                    ,'false_negative_rate'\n",
    "                    ,'precision'\n",
    "                    ,'recall'\n",
    "                    ,'f1_score'\n",
    "                    ,'support_pos'\n",
    "                    ,'support_neg']\n",
    "        ,'score' : [accuracy\n",
    "                    ,true_positive_rate\n",
    "                    ,false_positive_rate\n",
    "                    ,true_negative_rate\n",
    "                    ,false_negative_rate\n",
    "                    ,precision\n",
    "                    ,recall\n",
    "                    ,f1_score\n",
    "                    ,support_pos\n",
    "                    ,support_neg]\n",
    "    }\n",
    "\n",
    "    return pd.DataFrame(dict)"
   ]
  },
  {
   "cell_type": "code",
   "execution_count": 30,
   "id": "985c99c3",
   "metadata": {},
   "outputs": [
    {
     "data": {
      "text/html": [
       "<div>\n",
       "<style scoped>\n",
       "    .dataframe tbody tr th:only-of-type {\n",
       "        vertical-align: middle;\n",
       "    }\n",
       "\n",
       "    .dataframe tbody tr th {\n",
       "        vertical-align: top;\n",
       "    }\n",
       "\n",
       "    .dataframe thead th {\n",
       "        text-align: right;\n",
       "    }\n",
       "</style>\n",
       "<table border=\"1\" class=\"dataframe\">\n",
       "  <thead>\n",
       "    <tr style=\"text-align: right;\">\n",
       "      <th></th>\n",
       "      <th>metric</th>\n",
       "      <th>score</th>\n",
       "    </tr>\n",
       "  </thead>\n",
       "  <tbody>\n",
       "    <tr>\n",
       "      <th>0</th>\n",
       "      <td>accuracy</td>\n",
       "      <td>0.818352</td>\n",
       "    </tr>\n",
       "    <tr>\n",
       "      <th>1</th>\n",
       "      <td>true_positive_rate</td>\n",
       "      <td>0.692683</td>\n",
       "    </tr>\n",
       "    <tr>\n",
       "      <th>2</th>\n",
       "      <td>false_positive_rate</td>\n",
       "      <td>0.103343</td>\n",
       "    </tr>\n",
       "    <tr>\n",
       "      <th>3</th>\n",
       "      <td>true_negative_rate</td>\n",
       "      <td>0.896657</td>\n",
       "    </tr>\n",
       "    <tr>\n",
       "      <th>4</th>\n",
       "      <td>false_negative_rate</td>\n",
       "      <td>0.307317</td>\n",
       "    </tr>\n",
       "    <tr>\n",
       "      <th>5</th>\n",
       "      <td>precision</td>\n",
       "      <td>0.806818</td>\n",
       "    </tr>\n",
       "    <tr>\n",
       "      <th>6</th>\n",
       "      <td>recall</td>\n",
       "      <td>0.692683</td>\n",
       "    </tr>\n",
       "    <tr>\n",
       "      <th>7</th>\n",
       "      <td>f1_score</td>\n",
       "      <td>0.745407</td>\n",
       "    </tr>\n",
       "    <tr>\n",
       "      <th>8</th>\n",
       "      <td>support_pos</td>\n",
       "      <td>205.000000</td>\n",
       "    </tr>\n",
       "    <tr>\n",
       "      <th>9</th>\n",
       "      <td>support_neg</td>\n",
       "      <td>329.000000</td>\n",
       "    </tr>\n",
       "  </tbody>\n",
       "</table>\n",
       "</div>"
      ],
      "text/plain": [
       "                metric       score\n",
       "0             accuracy    0.818352\n",
       "1   true_positive_rate    0.692683\n",
       "2  false_positive_rate    0.103343\n",
       "3   true_negative_rate    0.896657\n",
       "4  false_negative_rate    0.307317\n",
       "5            precision    0.806818\n",
       "6               recall    0.692683\n",
       "7             f1_score    0.745407\n",
       "8          support_pos  205.000000\n",
       "9          support_neg  329.000000"
      ]
     },
     "execution_count": 30,
     "metadata": {},
     "output_type": "execute_result"
    }
   ],
   "source": [
    "print_cm_metrics(cm)"
   ]
  },
  {
   "cell_type": "markdown",
   "id": "64305c09",
   "metadata": {},
   "source": [
    "### 5. Run through steps 2-4 using a different max_depth value."
   ]
  },
  {
   "cell_type": "code",
   "execution_count": 31,
   "id": "b2422ceb",
   "metadata": {},
   "outputs": [],
   "source": [
    "def decision_tree(k, X, y):\n",
    "    \n",
    "    clf = DecisionTreeClassifier(max_depth=k, random_state=123)\n",
    "    clf = clf.fit(X_train, y_train)\n",
    "    \n",
    "    y_train_pred = clf.predict(X_train)\n",
    "    \n",
    "    y_proba = clf.predict_proba(X)\n",
    "    \n",
    "    \n",
    "    return y_pred, y_proba, k, clf\n"
   ]
  },
  {
   "cell_type": "code",
   "execution_count": 32,
   "id": "7be1637a",
   "metadata": {},
   "outputs": [],
   "source": [
    "def decision_metrics(X, y, y_pred):\n",
    "    score = clf.score(X, y)\n",
    "    cm = confusion_matrix(y, y_pred)\n",
    "    \n",
    "    \n",
    "    report = classification_report(y, y_pred)\n",
    "    \n",
    "    return score, cm, report"
   ]
  },
  {
   "cell_type": "code",
   "execution_count": 33,
   "id": "05cbb8d3",
   "metadata": {},
   "outputs": [
    {
     "data": {
      "text/html": [
       "<div>\n",
       "<style scoped>\n",
       "    .dataframe tbody tr th:only-of-type {\n",
       "        vertical-align: middle;\n",
       "    }\n",
       "\n",
       "    .dataframe tbody tr th {\n",
       "        vertical-align: top;\n",
       "    }\n",
       "\n",
       "    .dataframe thead th {\n",
       "        text-align: right;\n",
       "    }\n",
       "</style>\n",
       "<table border=\"1\" class=\"dataframe\">\n",
       "  <thead>\n",
       "    <tr style=\"text-align: right;\">\n",
       "      <th></th>\n",
       "      <th>metric</th>\n",
       "      <th>score</th>\n",
       "    </tr>\n",
       "  </thead>\n",
       "  <tbody>\n",
       "    <tr>\n",
       "      <th>0</th>\n",
       "      <td>accuracy</td>\n",
       "      <td>0.818352</td>\n",
       "    </tr>\n",
       "    <tr>\n",
       "      <th>1</th>\n",
       "      <td>true_positive_rate</td>\n",
       "      <td>0.692683</td>\n",
       "    </tr>\n",
       "    <tr>\n",
       "      <th>2</th>\n",
       "      <td>false_positive_rate</td>\n",
       "      <td>0.103343</td>\n",
       "    </tr>\n",
       "    <tr>\n",
       "      <th>3</th>\n",
       "      <td>true_negative_rate</td>\n",
       "      <td>0.896657</td>\n",
       "    </tr>\n",
       "    <tr>\n",
       "      <th>4</th>\n",
       "      <td>false_negative_rate</td>\n",
       "      <td>0.307317</td>\n",
       "    </tr>\n",
       "    <tr>\n",
       "      <th>5</th>\n",
       "      <td>precision</td>\n",
       "      <td>0.806818</td>\n",
       "    </tr>\n",
       "    <tr>\n",
       "      <th>6</th>\n",
       "      <td>recall</td>\n",
       "      <td>0.692683</td>\n",
       "    </tr>\n",
       "    <tr>\n",
       "      <th>7</th>\n",
       "      <td>f1_score</td>\n",
       "      <td>0.745407</td>\n",
       "    </tr>\n",
       "    <tr>\n",
       "      <th>8</th>\n",
       "      <td>support_pos</td>\n",
       "      <td>205.000000</td>\n",
       "    </tr>\n",
       "    <tr>\n",
       "      <th>9</th>\n",
       "      <td>support_neg</td>\n",
       "      <td>329.000000</td>\n",
       "    </tr>\n",
       "  </tbody>\n",
       "</table>\n",
       "</div>"
      ],
      "text/plain": [
       "                metric       score\n",
       "0             accuracy    0.818352\n",
       "1   true_positive_rate    0.692683\n",
       "2  false_positive_rate    0.103343\n",
       "3   true_negative_rate    0.896657\n",
       "4  false_negative_rate    0.307317\n",
       "5            precision    0.806818\n",
       "6               recall    0.692683\n",
       "7             f1_score    0.745407\n",
       "8          support_pos  205.000000\n",
       "9          support_neg  329.000000"
      ]
     },
     "execution_count": 33,
     "metadata": {},
     "output_type": "execute_result"
    }
   ],
   "source": [
    "print_cm_metrics(cm)"
   ]
  },
  {
   "cell_type": "code",
   "execution_count": 34,
   "id": "90c23241",
   "metadata": {},
   "outputs": [],
   "source": [
    "metric_list1 = decision_metrics(X_train, y_train, y_pred)"
   ]
  },
  {
   "cell_type": "code",
   "execution_count": 35,
   "id": "2630f4b9",
   "metadata": {},
   "outputs": [
    {
     "name": "stdout",
     "output_type": "stream",
     "text": [
      "The train score for the model is:\n",
      "0.8183520599250936\n",
      "--------\n",
      "Confusion Matrix:\n",
      "[[295  34]\n",
      " [ 63 142]]\n",
      "--------\n",
      "Confusion Matrix DataFrame:\n",
      "              precision    recall  f1-score   support\n",
      "\n",
      "           0       0.82      0.90      0.86       329\n",
      "           1       0.81      0.69      0.75       205\n",
      "\n",
      "    accuracy                           0.82       534\n",
      "   macro avg       0.82      0.79      0.80       534\n",
      "weighted avg       0.82      0.82      0.82       534\n",
      "\n",
      "--------\n"
     ]
    }
   ],
   "source": [
    "list = ['The train score for the model is:', 'Confusion Matrix:', 'Confusion Matrix DataFrame:', 'Classification Report:']\n",
    "\n",
    "for i, metric in enumerate(metric_list1): # to add number to a tuple ex.: (o, seq[0]), (1, seq[1])\n",
    "    if i == 2:\n",
    "        print(list[2])\n",
    "        print(metric)\n",
    "        print('--------')\n",
    "    else:\n",
    "        print(list[i])\n",
    "        print(metric)\n",
    "        print('--------')\n"
   ]
  },
  {
   "cell_type": "markdown",
   "id": "42914aa3",
   "metadata": {},
   "source": []
  },
  {
   "cell_type": "markdown",
   "id": "ab766a90",
   "metadata": {},
   "source": [
    "### 6. Which model performs better on your in-sample data?"
   ]
  },
  {
   "cell_type": "markdown",
   "id": "4b0cec7f",
   "metadata": {},
   "source": [
    "# Max Depth 3"
   ]
  },
  {
   "cell_type": "code",
   "execution_count": 36,
   "id": "b7744963",
   "metadata": {},
   "outputs": [],
   "source": [
    "clf3 = decision_tree(3, X_train, y_train)\n",
    "y_pred, y_proba, k, clf = clf3"
   ]
  },
  {
   "cell_type": "code",
   "execution_count": 37,
   "id": "d40765f8",
   "metadata": {},
   "outputs": [],
   "source": [
    "\n",
    "\n",
    "metric_list = decision_metrics(X_train, y_train, y_pred)\n",
    "\n",
    "score, cm, report = metric_list"
   ]
  },
  {
   "cell_type": "code",
   "execution_count": 38,
   "id": "431049aa",
   "metadata": {
    "scrolled": true
   },
   "outputs": [
    {
     "data": {
      "text/html": [
       "<div>\n",
       "<style scoped>\n",
       "    .dataframe tbody tr th:only-of-type {\n",
       "        vertical-align: middle;\n",
       "    }\n",
       "\n",
       "    .dataframe tbody tr th {\n",
       "        vertical-align: top;\n",
       "    }\n",
       "\n",
       "    .dataframe thead th {\n",
       "        text-align: right;\n",
       "    }\n",
       "</style>\n",
       "<table border=\"1\" class=\"dataframe\">\n",
       "  <thead>\n",
       "    <tr style=\"text-align: right;\">\n",
       "      <th></th>\n",
       "      <th>metric</th>\n",
       "      <th>score</th>\n",
       "    </tr>\n",
       "  </thead>\n",
       "  <tbody>\n",
       "    <tr>\n",
       "      <th>0</th>\n",
       "      <td>accuracy</td>\n",
       "      <td>0.818352</td>\n",
       "    </tr>\n",
       "    <tr>\n",
       "      <th>1</th>\n",
       "      <td>true_positive_rate</td>\n",
       "      <td>0.692683</td>\n",
       "    </tr>\n",
       "    <tr>\n",
       "      <th>2</th>\n",
       "      <td>false_positive_rate</td>\n",
       "      <td>0.103343</td>\n",
       "    </tr>\n",
       "    <tr>\n",
       "      <th>3</th>\n",
       "      <td>true_negative_rate</td>\n",
       "      <td>0.896657</td>\n",
       "    </tr>\n",
       "    <tr>\n",
       "      <th>4</th>\n",
       "      <td>false_negative_rate</td>\n",
       "      <td>0.307317</td>\n",
       "    </tr>\n",
       "    <tr>\n",
       "      <th>5</th>\n",
       "      <td>precision</td>\n",
       "      <td>0.806818</td>\n",
       "    </tr>\n",
       "    <tr>\n",
       "      <th>6</th>\n",
       "      <td>recall</td>\n",
       "      <td>0.692683</td>\n",
       "    </tr>\n",
       "    <tr>\n",
       "      <th>7</th>\n",
       "      <td>f1_score</td>\n",
       "      <td>0.745407</td>\n",
       "    </tr>\n",
       "    <tr>\n",
       "      <th>8</th>\n",
       "      <td>support_pos</td>\n",
       "      <td>205.000000</td>\n",
       "    </tr>\n",
       "    <tr>\n",
       "      <th>9</th>\n",
       "      <td>support_neg</td>\n",
       "      <td>329.000000</td>\n",
       "    </tr>\n",
       "  </tbody>\n",
       "</table>\n",
       "</div>"
      ],
      "text/plain": [
       "                metric       score\n",
       "0             accuracy    0.818352\n",
       "1   true_positive_rate    0.692683\n",
       "2  false_positive_rate    0.103343\n",
       "3   true_negative_rate    0.896657\n",
       "4  false_negative_rate    0.307317\n",
       "5            precision    0.806818\n",
       "6               recall    0.692683\n",
       "7             f1_score    0.745407\n",
       "8          support_pos  205.000000\n",
       "9          support_neg  329.000000"
      ]
     },
     "execution_count": 38,
     "metadata": {},
     "output_type": "execute_result"
    }
   ],
   "source": [
    "print_cm_metrics(cm)"
   ]
  },
  {
   "cell_type": "code",
   "execution_count": 39,
   "id": "5fced594",
   "metadata": {},
   "outputs": [
    {
     "name": "stdout",
     "output_type": "stream",
     "text": [
      "Model with Max Depth 3:\n",
      "\n",
      "The train score for the model is:\n",
      "0.8183520599250936\n",
      "--------\n",
      "Confusion Matrix:\n",
      "[[295  34]\n",
      " [ 63 142]]\n",
      "--------\n",
      "Confusion Matrix DataFrame:\n",
      "              precision    recall  f1-score   support\n",
      "\n",
      "           0       0.82      0.90      0.86       329\n",
      "           1       0.81      0.69      0.75       205\n",
      "\n",
      "    accuracy                           0.82       534\n",
      "   macro avg       0.82      0.79      0.80       534\n",
      "weighted avg       0.82      0.82      0.82       534\n",
      "\n",
      "--------\n"
     ]
    }
   ],
   "source": [
    "list = ['The train score for the model is:', 'Confusion Matrix:', 'Confusion Matrix DataFrame:', 'Classification Report:']\n",
    "print(f'Model with Max Depth {k}:')\n",
    "print()\n",
    "for i, metric in enumerate(metric_list): # to add number to a tuple ex.: (o, seq[0]), (1, seq[1])\n",
    "    if i == 2:\n",
    "        print(list[2])\n",
    "        print(metric)\n",
    "        print('--------')\n",
    "    else:\n",
    "        print(list[i])\n",
    "        print(metric)\n",
    "        print('--------')"
   ]
  },
  {
   "cell_type": "markdown",
   "id": "d4742af7",
   "metadata": {},
   "source": [
    "# Max Depth 5\n"
   ]
  },
  {
   "cell_type": "code",
   "execution_count": 40,
   "id": "9e39cfed",
   "metadata": {},
   "outputs": [],
   "source": [
    "clf5 = decision_tree(5, X_train, y_train)\n",
    "y_pred, y_proba, k, clf = clf5"
   ]
  },
  {
   "cell_type": "code",
   "execution_count": 41,
   "id": "c74cbf27",
   "metadata": {},
   "outputs": [],
   "source": [
    "metric_list = decision_metrics(X_train, y_train, y_pred)"
   ]
  },
  {
   "cell_type": "code",
   "execution_count": 42,
   "id": "29298f35",
   "metadata": {},
   "outputs": [
    {
     "data": {
      "text/html": [
       "<div>\n",
       "<style scoped>\n",
       "    .dataframe tbody tr th:only-of-type {\n",
       "        vertical-align: middle;\n",
       "    }\n",
       "\n",
       "    .dataframe tbody tr th {\n",
       "        vertical-align: top;\n",
       "    }\n",
       "\n",
       "    .dataframe thead th {\n",
       "        text-align: right;\n",
       "    }\n",
       "</style>\n",
       "<table border=\"1\" class=\"dataframe\">\n",
       "  <thead>\n",
       "    <tr style=\"text-align: right;\">\n",
       "      <th></th>\n",
       "      <th>metric</th>\n",
       "      <th>score</th>\n",
       "    </tr>\n",
       "  </thead>\n",
       "  <tbody>\n",
       "    <tr>\n",
       "      <th>0</th>\n",
       "      <td>accuracy</td>\n",
       "      <td>0.818352</td>\n",
       "    </tr>\n",
       "    <tr>\n",
       "      <th>1</th>\n",
       "      <td>true_positive_rate</td>\n",
       "      <td>0.692683</td>\n",
       "    </tr>\n",
       "    <tr>\n",
       "      <th>2</th>\n",
       "      <td>false_positive_rate</td>\n",
       "      <td>0.103343</td>\n",
       "    </tr>\n",
       "    <tr>\n",
       "      <th>3</th>\n",
       "      <td>true_negative_rate</td>\n",
       "      <td>0.896657</td>\n",
       "    </tr>\n",
       "    <tr>\n",
       "      <th>4</th>\n",
       "      <td>false_negative_rate</td>\n",
       "      <td>0.307317</td>\n",
       "    </tr>\n",
       "    <tr>\n",
       "      <th>5</th>\n",
       "      <td>precision</td>\n",
       "      <td>0.806818</td>\n",
       "    </tr>\n",
       "    <tr>\n",
       "      <th>6</th>\n",
       "      <td>recall</td>\n",
       "      <td>0.692683</td>\n",
       "    </tr>\n",
       "    <tr>\n",
       "      <th>7</th>\n",
       "      <td>f1_score</td>\n",
       "      <td>0.745407</td>\n",
       "    </tr>\n",
       "    <tr>\n",
       "      <th>8</th>\n",
       "      <td>support_pos</td>\n",
       "      <td>205.000000</td>\n",
       "    </tr>\n",
       "    <tr>\n",
       "      <th>9</th>\n",
       "      <td>support_neg</td>\n",
       "      <td>329.000000</td>\n",
       "    </tr>\n",
       "  </tbody>\n",
       "</table>\n",
       "</div>"
      ],
      "text/plain": [
       "                metric       score\n",
       "0             accuracy    0.818352\n",
       "1   true_positive_rate    0.692683\n",
       "2  false_positive_rate    0.103343\n",
       "3   true_negative_rate    0.896657\n",
       "4  false_negative_rate    0.307317\n",
       "5            precision    0.806818\n",
       "6               recall    0.692683\n",
       "7             f1_score    0.745407\n",
       "8          support_pos  205.000000\n",
       "9          support_neg  329.000000"
      ]
     },
     "execution_count": 42,
     "metadata": {},
     "output_type": "execute_result"
    }
   ],
   "source": [
    "print_cm_metrics(metric_list[1])"
   ]
  },
  {
   "cell_type": "code",
   "execution_count": 43,
   "id": "2daac13c",
   "metadata": {},
   "outputs": [
    {
     "data": {
      "text/plain": [
       "0.8408239700374532"
      ]
     },
     "execution_count": 43,
     "metadata": {},
     "output_type": "execute_result"
    }
   ],
   "source": [
    "metric_list[0]"
   ]
  },
  {
   "cell_type": "code",
   "execution_count": 44,
   "id": "28176240",
   "metadata": {
    "scrolled": false
   },
   "outputs": [
    {
     "name": "stdout",
     "output_type": "stream",
     "text": [
      "Model with Max Depth 5:\n",
      "\n",
      "The train score for the model is:\n",
      "0.8408239700374532\n",
      "---------------------------------------\n",
      "Confusion Matrix:\n",
      "[[295  34]\n",
      " [ 63 142]]\n",
      "---------------------------------------\n",
      "Confusion Matrix DataFrame:\n",
      "              precision    recall  f1-score   support\n",
      "\n",
      "           0       0.82      0.90      0.86       329\n",
      "           1       0.81      0.69      0.75       205\n",
      "\n",
      "    accuracy                           0.82       534\n",
      "   macro avg       0.82      0.79      0.80       534\n",
      "weighted avg       0.82      0.82      0.82       534\n",
      "\n",
      "\n",
      "---------------------------------------\n"
     ]
    }
   ],
   "source": [
    "max_list = []\n",
    "list1 = ['The train score for the model is:', 'Confusion Matrix:', 'Confusion Matrix DataFrame:', 'Classification Report:']\n",
    "print(f'Model with Max Depth {k}:')\n",
    "print()\n",
    "for i, metric in enumerate(metric_list): # to add number to a tuple ex.: (o, seq[0]), (1, seq[1])\n",
    "    max_list.append(metric)\n",
    "    if i == 2:\n",
    "        print(list1[i])\n",
    "        print(metric)\n",
    "        print()\n",
    "        print('---------------------------------------')\n",
    "\n",
    "    else:\n",
    "        print(list[i])\n",
    "        print(metric)\n",
    "        print('---------------------------------------')\n",
    "        \n",
    "        "
   ]
  },
  {
   "cell_type": "code",
   "execution_count": 45,
   "id": "618ac788",
   "metadata": {},
   "outputs": [],
   "source": [
    "max5_list = max_list"
   ]
  },
  {
   "cell_type": "markdown",
   "id": "51af2c36",
   "metadata": {},
   "source": [
    "# Max Depth 3"
   ]
  },
  {
   "cell_type": "code",
   "execution_count": 46,
   "id": "c3cbcd1e",
   "metadata": {},
   "outputs": [],
   "source": [
    "clf3 = decision_tree(3, X_train, y_train)\n",
    "y_pred, y_proba, k, clf = clf3"
   ]
  },
  {
   "cell_type": "code",
   "execution_count": 47,
   "id": "a56c7ff7",
   "metadata": {},
   "outputs": [],
   "source": [
    "metric_list = decision_metrics(X_train, y_train, y_pred)"
   ]
  },
  {
   "cell_type": "code",
   "execution_count": 48,
   "id": "16906e70",
   "metadata": {},
   "outputs": [
    {
     "data": {
      "text/html": [
       "<div>\n",
       "<style scoped>\n",
       "    .dataframe tbody tr th:only-of-type {\n",
       "        vertical-align: middle;\n",
       "    }\n",
       "\n",
       "    .dataframe tbody tr th {\n",
       "        vertical-align: top;\n",
       "    }\n",
       "\n",
       "    .dataframe thead th {\n",
       "        text-align: right;\n",
       "    }\n",
       "</style>\n",
       "<table border=\"1\" class=\"dataframe\">\n",
       "  <thead>\n",
       "    <tr style=\"text-align: right;\">\n",
       "      <th></th>\n",
       "      <th>metric</th>\n",
       "      <th>score</th>\n",
       "    </tr>\n",
       "  </thead>\n",
       "  <tbody>\n",
       "    <tr>\n",
       "      <th>0</th>\n",
       "      <td>accuracy</td>\n",
       "      <td>0.818352</td>\n",
       "    </tr>\n",
       "    <tr>\n",
       "      <th>1</th>\n",
       "      <td>true_positive_rate</td>\n",
       "      <td>0.692683</td>\n",
       "    </tr>\n",
       "    <tr>\n",
       "      <th>2</th>\n",
       "      <td>false_positive_rate</td>\n",
       "      <td>0.103343</td>\n",
       "    </tr>\n",
       "    <tr>\n",
       "      <th>3</th>\n",
       "      <td>true_negative_rate</td>\n",
       "      <td>0.896657</td>\n",
       "    </tr>\n",
       "    <tr>\n",
       "      <th>4</th>\n",
       "      <td>false_negative_rate</td>\n",
       "      <td>0.307317</td>\n",
       "    </tr>\n",
       "    <tr>\n",
       "      <th>5</th>\n",
       "      <td>precision</td>\n",
       "      <td>0.806818</td>\n",
       "    </tr>\n",
       "    <tr>\n",
       "      <th>6</th>\n",
       "      <td>recall</td>\n",
       "      <td>0.692683</td>\n",
       "    </tr>\n",
       "    <tr>\n",
       "      <th>7</th>\n",
       "      <td>f1_score</td>\n",
       "      <td>0.745407</td>\n",
       "    </tr>\n",
       "    <tr>\n",
       "      <th>8</th>\n",
       "      <td>support_pos</td>\n",
       "      <td>205.000000</td>\n",
       "    </tr>\n",
       "    <tr>\n",
       "      <th>9</th>\n",
       "      <td>support_neg</td>\n",
       "      <td>329.000000</td>\n",
       "    </tr>\n",
       "  </tbody>\n",
       "</table>\n",
       "</div>"
      ],
      "text/plain": [
       "                metric       score\n",
       "0             accuracy    0.818352\n",
       "1   true_positive_rate    0.692683\n",
       "2  false_positive_rate    0.103343\n",
       "3   true_negative_rate    0.896657\n",
       "4  false_negative_rate    0.307317\n",
       "5            precision    0.806818\n",
       "6               recall    0.692683\n",
       "7             f1_score    0.745407\n",
       "8          support_pos  205.000000\n",
       "9          support_neg  329.000000"
      ]
     },
     "execution_count": 48,
     "metadata": {},
     "output_type": "execute_result"
    }
   ],
   "source": [
    "print_cm_metrics(cm)"
   ]
  },
  {
   "cell_type": "code",
   "execution_count": 49,
   "id": "7cc99e20",
   "metadata": {},
   "outputs": [
    {
     "name": "stdout",
     "output_type": "stream",
     "text": [
      "Model with Max Depth 3:\n",
      "\n",
      "The train score for the model is:\n",
      "0.8183520599250936\n",
      "---------------------------------------\n",
      "Confusion Matrix:\n",
      "[[295  34]\n",
      " [ 63 142]]\n",
      "---------------------------------------\n",
      "Confusion Matrix DataFrame:\n",
      "              precision    recall  f1-score   support\n",
      "\n",
      "           0       0.82      0.90      0.86       329\n",
      "           1       0.81      0.69      0.75       205\n",
      "\n",
      "    accuracy                           0.82       534\n",
      "   macro avg       0.82      0.79      0.80       534\n",
      "weighted avg       0.82      0.82      0.82       534\n",
      "\n",
      "\n",
      "---------------------------------------\n"
     ]
    }
   ],
   "source": [
    "max_list = []\n",
    "list1 = ['The train score for the model is:', 'Confusion Matrix:', 'Confusion Matrix DataFrame:', 'Classification Report:']\n",
    "print(f'Model with Max Depth {k}:')\n",
    "print()\n",
    "for i, metric in enumerate(metric_list): # to add number to a tuple ex.: (o, seq[0]), (1, seq[1])\n",
    "    max_list.append(metric)\n",
    "    if i == 2:\n",
    "        print(list1[i])\n",
    "        print(metric)\n",
    "        print()\n",
    "        print('---------------------------------------')\n",
    "\n",
    "     \n",
    "    else:\n",
    "        print(list1[i])\n",
    "        print(metric)\n",
    "        print('---------------------------------------')\n",
    "    "
   ]
  },
  {
   "cell_type": "code",
   "execution_count": 50,
   "id": "7cabaf71",
   "metadata": {},
   "outputs": [],
   "source": [
    "max3_list = max_list\n"
   ]
  },
  {
   "cell_type": "markdown",
   "id": "8eb7ba73",
   "metadata": {},
   "source": [
    "# Comaprison"
   ]
  },
  {
   "cell_type": "code",
   "execution_count": 51,
   "id": "12a474b6",
   "metadata": {
    "scrolled": true
   },
   "outputs": [
    {
     "name": "stdout",
     "output_type": "stream",
     "text": [
      "              precision    recall  f1-score   support\n",
      "\n",
      "           0       0.82      0.90      0.86       329\n",
      "           1       0.81      0.69      0.75       205\n",
      "\n",
      "    accuracy                           0.82       534\n",
      "   macro avg       0.82      0.79      0.80       534\n",
      "weighted avg       0.82      0.82      0.82       534\n",
      "\n"
     ]
    }
   ],
   "source": [
    "print(max3_list[2])"
   ]
  },
  {
   "cell_type": "code",
   "execution_count": 52,
   "id": "bf857adb",
   "metadata": {
    "scrolled": true
   },
   "outputs": [
    {
     "name": "stdout",
     "output_type": "stream",
     "text": [
      "              precision    recall  f1-score   support\n",
      "\n",
      "           0       0.82      0.90      0.86       329\n",
      "           1       0.81      0.69      0.75       205\n",
      "\n",
      "    accuracy                           0.82       534\n",
      "   macro avg       0.82      0.79      0.80       534\n",
      "weighted avg       0.82      0.82      0.82       534\n",
      "\n"
     ]
    }
   ],
   "source": [
    "print(max5_list[2])"
   ]
  },
  {
   "cell_type": "code",
   "execution_count": 53,
   "id": "e86d9fd3",
   "metadata": {},
   "outputs": [
    {
     "data": {
      "text/plain": [
       "0.8183520599250936"
      ]
     },
     "execution_count": 53,
     "metadata": {},
     "output_type": "execute_result"
    }
   ],
   "source": [
    "# accuracy for max depth 3\n",
    "max3_list[0]"
   ]
  },
  {
   "cell_type": "code",
   "execution_count": 54,
   "id": "7a85f6a0",
   "metadata": {},
   "outputs": [
    {
     "data": {
      "text/plain": [
       "0.6161616161616161"
      ]
     },
     "execution_count": 54,
     "metadata": {},
     "output_type": "execute_result"
    }
   ],
   "source": [
    "# baseline\n",
    "baseline_accuracy"
   ]
  },
  {
   "cell_type": "code",
   "execution_count": 55,
   "id": "9b679709",
   "metadata": {},
   "outputs": [
    {
     "name": "stdout",
     "output_type": "stream",
     "text": [
      "***********Comparison***********\n",
      "\n",
      "Model with Max Depth 3:\n",
      "\n",
      "Accuracy: 0.8183520599250936\n",
      "\n",
      "Baseline Comparison: 0.2022\n",
      "\n",
      "\n",
      "            VS\n",
      "\n",
      "\n",
      "Model with Max Depth 5:\n",
      "\n",
      "Accuracy: 0.8408239700374532\n",
      "\n",
      "Baseline Comparison: 0.2247\n",
      "     \n"
     ]
    }
   ],
   "source": [
    "print(f'''***********Comparison***********\n",
    "\n",
    "Model with Max Depth 3:\n",
    "\n",
    "Accuracy: {max3_list[0]}\n",
    "\n",
    "Baseline Comparison: {round(max3_list[0] - baseline_accuracy,4)}\n",
    "\n",
    "\n",
    "            VS\n",
    "\n",
    "\n",
    "Model with Max Depth 5:\n",
    "\n",
    "Accuracy: {max5_list[0]}\n",
    "\n",
    "Baseline Comparison: {round(max5_list[0] - baseline_accuracy,4)}\n",
    "     ''')"
   ]
  },
  {
   "cell_type": "markdown",
   "id": "8397c55e",
   "metadata": {},
   "source": [
    "# 7. Which model performs best on your out-of-sample data, the validate set?"
   ]
  },
  {
   "cell_type": "markdown",
   "id": "f194e78a",
   "metadata": {},
   "source": [
    "# Validation Comparison"
   ]
  },
  {
   "cell_type": "code",
   "execution_count": 69,
   "id": "43310ea4",
   "metadata": {
    "scrolled": true
   },
   "outputs": [
    {
     "name": "stdout",
     "output_type": "stream",
     "text": [
      "Training Dataset Model with Max Depth of 3,\n",
      "Model's Accuracy: 0.8183520599250936\n",
      "Difference between Model and Basleine Accuracy: 0.2021904437634775\n",
      "Train Classification Report\n",
      "              precision    recall  f1-score   support\n",
      "\n",
      "           0       0.82      0.90      0.86       329\n",
      "           1       0.81      0.69      0.75       205\n",
      "\n",
      "    accuracy                           0.82       534\n",
      "   macro avg       0.82      0.79      0.80       534\n",
      "weighted avg       0.82      0.82      0.82       534\n",
      "\n",
      "\n",
      "           VS             \n",
      "\n",
      "Validation Dataset Model with Max Depth of 3,\n",
      "Model's Accuracy: 0.7921348314606742\n",
      "Difference between Model and Basleine Accuracy: 0.17597321529905807\n",
      "Validate Classification Report\n",
      "              precision    recall  f1-score   support\n",
      "\n",
      "           0       0.81      0.86      0.84       110\n",
      "           1       0.75      0.68      0.71        68\n",
      "\n",
      "    accuracy                           0.79       178\n",
      "   macro avg       0.78      0.77      0.78       178\n",
      "weighted avg       0.79      0.79      0.79       178\n",
      "\n",
      "\n",
      "Difference bewtween Training and Validate:0.02621722846441943\n",
      "\n",
      "----------------------------------------------------\n",
      "\n",
      "Training Dataset Model with Max Depth of 5,\n",
      "Model's Accuracy: 0.8408239700374532\n",
      "Difference between Model and Basleine Accuracy: 0.2246623538758371\n",
      "Train Classification Report\n",
      "              precision    recall  f1-score   support\n",
      "\n",
      "           0       0.82      0.90      0.86       329\n",
      "           1       0.81      0.69      0.75       205\n",
      "\n",
      "    accuracy                           0.82       534\n",
      "   macro avg       0.82      0.79      0.80       534\n",
      "weighted avg       0.82      0.82      0.82       534\n",
      "\n",
      "\n",
      "           VS             \n",
      "\n",
      "Validation Dataset Model with Max Depth of 5,\n",
      "Model's Accuracy: 0.7584269662921348\n",
      "Difference between Model and Basleine Accuracy: 0.14226535013051866\n",
      "Validate Classification Report\n",
      "              precision    recall  f1-score   support\n",
      "\n",
      "           0       0.78      0.85      0.81       110\n",
      "           1       0.71      0.62      0.66        68\n",
      "\n",
      "    accuracy                           0.76       178\n",
      "   macro avg       0.75      0.73      0.74       178\n",
      "weighted avg       0.75      0.76      0.75       178\n",
      "\n",
      "\n",
      "Difference bewtween Training and Validate:0.08239700374531844\n",
      "\n",
      "----------------------------------------------------\n",
      "\n",
      "\n",
      "Top Model #1\n",
      "*************FINAL ANALYSIS*************\n",
      "\n",
      "Top performing Training Model:\n",
      "        Max Depth:3\n",
      "        Accuracy:0.8408239700374532\n",
      "        \n",
      "Top performing Validation Model:\n",
      "\n",
      "        Max Depth:3\n",
      "        Accuracy:0.7921348314606742\n",
      "        Difference:0.02621722846441943\n"
     ]
    }
   ],
   "source": [
    "i = [3, 5]\n",
    "\n",
    "\n",
    "# storing my values to use them to create dictiojnaries containg \n",
    "# all the collected data for head to head comaprison\n",
    "train_depth = []\n",
    "train_score_list = [] \n",
    "val_score_list = []\n",
    "trn_report_list = []\n",
    "val_report_list = []\n",
    "diff_list = []\n",
    "\n",
    "\n",
    "for i in i:\n",
    "    y_pred, y_proba, k, clf = decision_tree(i, X_train, y_train)\n",
    "\n",
    "    # Compute score\n",
    "    trn_score = clf.score(X_train, y_train)\n",
    "    val_score = clf.score(X_validate, y_validate)\n",
    "    trn_report = classification_report(y_train, y_pred)\n",
    "    y_val_pred = clf.predict(X_validate)\n",
    "    val_report = classification_report(y_validate, y_val_pred)\n",
    "    val_report_list.append(val_report)\n",
    "    train_score_list.append(trn_score)\n",
    "    val_score_list.append(val_score)\n",
    "    train_depth.append(i)\n",
    "\n",
    "\n",
    "    print(f'Training Dataset Model with Max Depth of {i},')\n",
    "\n",
    "    # Print the model's accuracy and other information\n",
    "    print(f\"Model's Accuracy: {trn_score}\")\n",
    "    print(f\"Difference between Model and Basleine Accuracy: {trn_score - baseline_accuracy}\")\n",
    "    print('Train Classification Report')\n",
    "    print(trn_report)\n",
    "    print()\n",
    "    print('           VS             ')\n",
    "    print()\n",
    "    print(f'Validation Dataset Model with Max Depth of {i},')\n",
    "\n",
    "    print(f\"Model's Accuracy: {val_score}\")\n",
    "    print(f\"Difference between Model and Basleine Accuracy: {val_score - baseline_accuracy}\")\n",
    "    print('Validate Classification Report')\n",
    "    print(val_report)\n",
    "    print()\n",
    "    print(f'Difference bewtween Training and Validate:{trn_score-val_score}')\n",
    "    #print(val_report)\n",
    "    print()\n",
    "    print('----------------------------------------------------')\n",
    "    print()\n",
    "\n",
    "    # Increment 'i' and 'j' for the next iteration\n",
    "    i += 1\n",
    "\n",
    "    diff = trn_score-val_score\n",
    "    diff_list.append(diff)\n",
    "\n",
    "# create dictionaries for my data collection\n",
    "train_dict = {x: y for x, y in zip(train_depth, train_score_list)}\n",
    "val_dict = {x: y for x, y in zip(train_depth, val_score_list)}\n",
    "diff_dict = {x: y for x, y in zip(train_depth, diff_list)}\n",
    "\n",
    "\n",
    "model_number = 1\n",
    "for key, value in diff_dict.items():\n",
    "    if value == min(diff_dict.values()):\n",
    "        print()\n",
    "        print(f'Top Model #{model_number}')\n",
    "        print('*************FINAL ANALYSIS*************')\n",
    "        print()\n",
    "        print(f'''Top performing Training Model:\n",
    "        Max Depth:{key}\n",
    "        Accuracy:{max(train_dict.values())}\n",
    "        \n",
    "Top performing Validation Model:\n",
    "\n",
    "        Max Depth:{key}\n",
    "        Accuracy:{max(val_dict.values())}\n",
    "        Difference:{min(diff_dict.values())}''')\n",
    "        model_number+=1"
   ]
  },
  {
   "cell_type": "code",
   "execution_count": 70,
   "id": "436b0b5d",
   "metadata": {},
   "outputs": [
    {
     "data": {
      "text/plain": [
       "{3: 0.02621722846441943, 5: 0.08239700374531844}"
      ]
     },
     "execution_count": 70,
     "metadata": {},
     "output_type": "execute_result"
    }
   ],
   "source": [
    "diff_dict"
   ]
  },
  {
   "cell_type": "code",
   "execution_count": 71,
   "id": "31c247ba",
   "metadata": {},
   "outputs": [
    {
     "data": {
      "text/plain": [
       "{3: 0.7921348314606742, 5: 0.7584269662921348}"
      ]
     },
     "execution_count": 71,
     "metadata": {},
     "output_type": "execute_result"
    }
   ],
   "source": [
    "val_dict"
   ]
  },
  {
   "cell_type": "code",
   "execution_count": 72,
   "id": "656e931f",
   "metadata": {},
   "outputs": [
    {
     "data": {
      "text/plain": [
       "{3: 0.8183520599250936, 5: 0.8408239700374532}"
      ]
     },
     "execution_count": 72,
     "metadata": {},
     "output_type": "execute_result"
    }
   ],
   "source": [
    "train_dict"
   ]
  },
  {
   "cell_type": "markdown",
   "id": "a505e348",
   "metadata": {},
   "source": [
    "# Comparison"
   ]
  },
  {
   "cell_type": "markdown",
   "id": "b1b0087d",
   "metadata": {},
   "source": [
    "# Running a range of 1-10 and Comapring the results"
   ]
  },
  {
   "cell_type": "code",
   "execution_count": 88,
   "id": "2bc0e6d4",
   "metadata": {},
   "outputs": [
    {
     "name": "stdout",
     "output_type": "stream",
     "text": [
      "Training Dataset Model with Max Depth of 1,\n",
      "Model's Accuracy: 0.7921348314606742\n",
      "Difference between Model and Basleine Accuracy: 0.17597321529905807\n",
      "Train Classification Report\n",
      "              precision    recall  f1-score   support\n",
      "\n",
      "           0       0.82      0.90      0.86       329\n",
      "           1       0.81      0.69      0.75       205\n",
      "\n",
      "    accuracy                           0.82       534\n",
      "   macro avg       0.82      0.79      0.80       534\n",
      "weighted avg       0.82      0.82      0.82       534\n",
      "\n",
      "\n",
      "           VS             \n",
      "\n",
      "Validation Dataset Model with Max Depth of 1,\n",
      "Model's Accuracy: 0.7752808988764045\n",
      "Difference between Model and Basleine Accuracy: 0.15911928271478837\n",
      "Validate Classification Report\n",
      "              precision    recall  f1-score   support\n",
      "\n",
      "           0       0.81      0.83      0.82       110\n",
      "           1       0.71      0.69      0.70        68\n",
      "\n",
      "    accuracy                           0.78       178\n",
      "   macro avg       0.76      0.76      0.76       178\n",
      "weighted avg       0.77      0.78      0.77       178\n",
      "\n",
      "\n",
      "Difference bewtween Training and Validate:0.016853932584269704\n",
      "\n",
      "----------------------------------------------------\n",
      "\n",
      "Training Dataset Model with Max Depth of 2,\n",
      "Model's Accuracy: 0.7921348314606742\n",
      "Difference between Model and Basleine Accuracy: 0.17597321529905807\n",
      "Train Classification Report\n",
      "              precision    recall  f1-score   support\n",
      "\n",
      "           0       0.82      0.90      0.86       329\n",
      "           1       0.81      0.69      0.75       205\n",
      "\n",
      "    accuracy                           0.82       534\n",
      "   macro avg       0.82      0.79      0.80       534\n",
      "weighted avg       0.82      0.82      0.82       534\n",
      "\n",
      "\n",
      "           VS             \n",
      "\n",
      "Validation Dataset Model with Max Depth of 2,\n",
      "Model's Accuracy: 0.7752808988764045\n",
      "Difference between Model and Basleine Accuracy: 0.15911928271478837\n",
      "Validate Classification Report\n",
      "              precision    recall  f1-score   support\n",
      "\n",
      "           0       0.81      0.83      0.82       110\n",
      "           1       0.71      0.69      0.70        68\n",
      "\n",
      "    accuracy                           0.78       178\n",
      "   macro avg       0.76      0.76      0.76       178\n",
      "weighted avg       0.77      0.78      0.77       178\n",
      "\n",
      "\n",
      "Difference bewtween Training and Validate:0.016853932584269704\n",
      "\n",
      "----------------------------------------------------\n",
      "\n",
      "Training Dataset Model with Max Depth of 3,\n",
      "Model's Accuracy: 0.8183520599250936\n",
      "Difference between Model and Basleine Accuracy: 0.2021904437634775\n",
      "Train Classification Report\n",
      "              precision    recall  f1-score   support\n",
      "\n",
      "           0       0.82      0.90      0.86       329\n",
      "           1       0.81      0.69      0.75       205\n",
      "\n",
      "    accuracy                           0.82       534\n",
      "   macro avg       0.82      0.79      0.80       534\n",
      "weighted avg       0.82      0.82      0.82       534\n",
      "\n",
      "\n",
      "           VS             \n",
      "\n",
      "Validation Dataset Model with Max Depth of 3,\n",
      "Model's Accuracy: 0.7921348314606742\n",
      "Difference between Model and Basleine Accuracy: 0.17597321529905807\n",
      "Validate Classification Report\n",
      "              precision    recall  f1-score   support\n",
      "\n",
      "           0       0.81      0.86      0.84       110\n",
      "           1       0.75      0.68      0.71        68\n",
      "\n",
      "    accuracy                           0.79       178\n",
      "   macro avg       0.78      0.77      0.78       178\n",
      "weighted avg       0.79      0.79      0.79       178\n",
      "\n",
      "\n",
      "Difference bewtween Training and Validate:0.02621722846441943\n",
      "\n",
      "----------------------------------------------------\n",
      "\n",
      "Training Dataset Model with Max Depth of 4,\n",
      "Model's Accuracy: 0.8202247191011236\n",
      "Difference between Model and Basleine Accuracy: 0.20406310293950747\n",
      "Train Classification Report\n",
      "              precision    recall  f1-score   support\n",
      "\n",
      "           0       0.82      0.90      0.86       329\n",
      "           1       0.81      0.69      0.75       205\n",
      "\n",
      "    accuracy                           0.82       534\n",
      "   macro avg       0.82      0.79      0.80       534\n",
      "weighted avg       0.82      0.82      0.82       534\n",
      "\n",
      "\n",
      "           VS             \n",
      "\n",
      "Validation Dataset Model with Max Depth of 4,\n",
      "Model's Accuracy: 0.7921348314606742\n",
      "Difference between Model and Basleine Accuracy: 0.17597321529905807\n",
      "Validate Classification Report\n",
      "              precision    recall  f1-score   support\n",
      "\n",
      "           0       0.81      0.86      0.84       110\n",
      "           1       0.75      0.68      0.71        68\n",
      "\n",
      "    accuracy                           0.79       178\n",
      "   macro avg       0.78      0.77      0.78       178\n",
      "weighted avg       0.79      0.79      0.79       178\n",
      "\n",
      "\n",
      "Difference bewtween Training and Validate:0.028089887640449396\n",
      "\n",
      "----------------------------------------------------\n",
      "\n",
      "Training Dataset Model with Max Depth of 5,\n",
      "Model's Accuracy: 0.8408239700374532\n",
      "Difference between Model and Basleine Accuracy: 0.2246623538758371\n",
      "Train Classification Report\n",
      "              precision    recall  f1-score   support\n",
      "\n",
      "           0       0.82      0.90      0.86       329\n",
      "           1       0.81      0.69      0.75       205\n",
      "\n",
      "    accuracy                           0.82       534\n",
      "   macro avg       0.82      0.79      0.80       534\n",
      "weighted avg       0.82      0.82      0.82       534\n",
      "\n",
      "\n",
      "           VS             \n",
      "\n",
      "Validation Dataset Model with Max Depth of 5,\n",
      "Model's Accuracy: 0.7584269662921348\n",
      "Difference between Model and Basleine Accuracy: 0.14226535013051866\n",
      "Validate Classification Report\n",
      "              precision    recall  f1-score   support\n",
      "\n",
      "           0       0.78      0.85      0.81       110\n",
      "           1       0.71      0.62      0.66        68\n",
      "\n",
      "    accuracy                           0.76       178\n",
      "   macro avg       0.75      0.73      0.74       178\n",
      "weighted avg       0.75      0.76      0.75       178\n",
      "\n",
      "\n",
      "Difference bewtween Training and Validate:0.08239700374531844\n",
      "\n",
      "----------------------------------------------------\n",
      "\n",
      "Training Dataset Model with Max Depth of 6,\n",
      "Model's Accuracy: 0.8576779026217228\n",
      "Difference between Model and Basleine Accuracy: 0.2415162864601067\n",
      "Train Classification Report\n",
      "              precision    recall  f1-score   support\n",
      "\n",
      "           0       0.82      0.90      0.86       329\n",
      "           1       0.81      0.69      0.75       205\n",
      "\n",
      "    accuracy                           0.82       534\n",
      "   macro avg       0.82      0.79      0.80       534\n",
      "weighted avg       0.82      0.82      0.82       534\n",
      "\n",
      "\n",
      "           VS             \n",
      "\n",
      "Validation Dataset Model with Max Depth of 6,\n",
      "Model's Accuracy: 0.7752808988764045\n",
      "Difference between Model and Basleine Accuracy: 0.15911928271478837\n",
      "Validate Classification Report\n",
      "              precision    recall  f1-score   support\n",
      "\n",
      "           0       0.79      0.87      0.83       110\n",
      "           1       0.75      0.62      0.68        68\n",
      "\n",
      "    accuracy                           0.78       178\n",
      "   macro avg       0.77      0.75      0.75       178\n",
      "weighted avg       0.77      0.78      0.77       178\n",
      "\n",
      "\n",
      "Difference bewtween Training and Validate:0.08239700374531833\n",
      "\n",
      "----------------------------------------------------\n",
      "\n",
      "Training Dataset Model with Max Depth of 7,\n",
      "Model's Accuracy: 0.8726591760299626\n",
      "Difference between Model and Basleine Accuracy: 0.25649755986834644\n",
      "Train Classification Report\n",
      "              precision    recall  f1-score   support\n",
      "\n",
      "           0       0.82      0.90      0.86       329\n",
      "           1       0.81      0.69      0.75       205\n",
      "\n",
      "    accuracy                           0.82       534\n",
      "   macro avg       0.82      0.79      0.80       534\n",
      "weighted avg       0.82      0.82      0.82       534\n",
      "\n",
      "\n",
      "           VS             \n",
      "\n",
      "Validation Dataset Model with Max Depth of 7,\n",
      "Model's Accuracy: 0.7752808988764045\n",
      "Difference between Model and Basleine Accuracy: 0.15911928271478837\n",
      "Validate Classification Report\n",
      "              precision    recall  f1-score   support\n",
      "\n",
      "           0       0.80      0.85      0.82       110\n",
      "           1       0.73      0.65      0.69        68\n",
      "\n",
      "    accuracy                           0.78       178\n",
      "   macro avg       0.76      0.75      0.76       178\n",
      "weighted avg       0.77      0.78      0.77       178\n",
      "\n",
      "\n",
      "Difference bewtween Training and Validate:0.09737827715355807\n",
      "\n",
      "----------------------------------------------------\n",
      "\n",
      "Training Dataset Model with Max Depth of 8,\n",
      "Model's Accuracy: 0.9044943820224719\n",
      "Difference between Model and Basleine Accuracy: 0.28833276586085577\n",
      "Train Classification Report\n",
      "              precision    recall  f1-score   support\n",
      "\n",
      "           0       0.82      0.90      0.86       329\n",
      "           1       0.81      0.69      0.75       205\n",
      "\n",
      "    accuracy                           0.82       534\n",
      "   macro avg       0.82      0.79      0.80       534\n",
      "weighted avg       0.82      0.82      0.82       534\n",
      "\n",
      "\n",
      "           VS             \n",
      "\n",
      "Validation Dataset Model with Max Depth of 8,\n",
      "Model's Accuracy: 0.7752808988764045\n",
      "Difference between Model and Basleine Accuracy: 0.15911928271478837\n",
      "Validate Classification Report\n",
      "              precision    recall  f1-score   support\n",
      "\n",
      "           0       0.81      0.83      0.82       110\n",
      "           1       0.71      0.69      0.70        68\n",
      "\n",
      "    accuracy                           0.78       178\n",
      "   macro avg       0.76      0.76      0.76       178\n",
      "weighted avg       0.77      0.78      0.77       178\n",
      "\n",
      "\n",
      "Difference bewtween Training and Validate:0.1292134831460674\n",
      "\n",
      "----------------------------------------------------\n",
      "\n",
      "Training Dataset Model with Max Depth of 9,\n",
      "Model's Accuracy: 0.9082397003745318\n",
      "Difference between Model and Basleine Accuracy: 0.2920780842129157\n",
      "Train Classification Report\n",
      "              precision    recall  f1-score   support\n",
      "\n",
      "           0       0.82      0.90      0.86       329\n",
      "           1       0.81      0.69      0.75       205\n",
      "\n",
      "    accuracy                           0.82       534\n",
      "   macro avg       0.82      0.79      0.80       534\n",
      "weighted avg       0.82      0.82      0.82       534\n",
      "\n",
      "\n",
      "           VS             \n",
      "\n",
      "Validation Dataset Model with Max Depth of 9,\n",
      "Model's Accuracy: 0.7640449438202247\n",
      "Difference between Model and Basleine Accuracy: 0.14788332765860857\n",
      "Validate Classification Report\n",
      "              precision    recall  f1-score   support\n",
      "\n",
      "           0       0.79      0.84      0.81       110\n",
      "           1       0.71      0.65      0.68        68\n",
      "\n",
      "    accuracy                           0.76       178\n",
      "   macro avg       0.75      0.74      0.75       178\n",
      "weighted avg       0.76      0.76      0.76       178\n",
      "\n",
      "\n",
      "Difference bewtween Training and Validate:0.14419475655430714\n",
      "\n",
      "----------------------------------------------------\n",
      "\n",
      "Training Dataset Model with Max Depth of 10,\n",
      "Model's Accuracy: 0.9194756554307116\n",
      "Difference between Model and Basleine Accuracy: 0.3033140392690955\n",
      "Train Classification Report\n",
      "              precision    recall  f1-score   support\n",
      "\n",
      "           0       0.82      0.90      0.86       329\n",
      "           1       0.81      0.69      0.75       205\n",
      "\n",
      "    accuracy                           0.82       534\n",
      "   macro avg       0.82      0.79      0.80       534\n",
      "weighted avg       0.82      0.82      0.82       534\n",
      "\n",
      "\n",
      "           VS             \n",
      "\n",
      "Validation Dataset Model with Max Depth of 10,\n",
      "Model's Accuracy: 0.7528089887640449\n",
      "Difference between Model and Basleine Accuracy: 0.13664737260242876\n",
      "Validate Classification Report\n",
      "              precision    recall  f1-score   support\n",
      "\n",
      "           0       0.78      0.83      0.81       110\n",
      "           1       0.69      0.63      0.66        68\n",
      "\n",
      "    accuracy                           0.75       178\n",
      "   macro avg       0.74      0.73      0.73       178\n",
      "weighted avg       0.75      0.75      0.75       178\n",
      "\n",
      "\n",
      "Difference bewtween Training and Validate:0.16666666666666674\n",
      "\n",
      "----------------------------------------------------\n",
      "\n",
      "*************FINAL ANALYSIS*************\n",
      "\n",
      "Top Model #1\n",
      "\n",
      "Top performing Training Model:\n",
      "        \n",
      "Max Depth:1\n",
      "Accuracy:0.9194756554307116\n",
      "        \n",
      "Top performing Validation Model:\n",
      "\n",
      "Max Depth:1\n",
      "Accuracy:0.7921348314606742\n",
      "Difference:0.016853932584269704\n",
      "---------------------------------\n",
      "\n",
      "Top Model #2\n",
      "\n",
      "Top performing Training Model:\n",
      "        \n",
      "Max Depth:2\n",
      "Accuracy:0.9194756554307116\n",
      "        \n",
      "Top performing Validation Model:\n",
      "\n",
      "Max Depth:2\n",
      "Accuracy:0.7921348314606742\n",
      "Difference:0.016853932584269704\n",
      "---------------------------------\n"
     ]
    }
   ],
   "source": [
    "i = 1\n",
    "\n",
    "\n",
    "# storing my values to use them to create dictiojnaries containg \n",
    "# all the collected data for head to head comaprison\n",
    "train_depth = []\n",
    "train_score_list = [] \n",
    "val_score_list = []\n",
    "trn_report_list = []\n",
    "val_report_list = []\n",
    "diff_list = []\n",
    "\n",
    "\n",
    "while i < 11:\n",
    "    y_pred, y_proba, k, clf = decision_tree(i, X_train, y_train)\n",
    "\n",
    "    # Compute score\n",
    "    trn_score = clf.score(X_train, y_train)\n",
    "    val_score = clf.score(X_validate, y_validate)\n",
    "    trn_report = classification_report(y_train, y_pred)\n",
    "    y_val_pred = clf.predict(X_validate)\n",
    "    val_report = classification_report(y_validate, y_val_pred)\n",
    "    val_report_list.append(val_report)\n",
    "    train_score_list.append(trn_score)\n",
    "    val_score_list.append(val_score)\n",
    "    train_depth.append(i)\n",
    "\n",
    "\n",
    "    print(f'Training Dataset Model with Max Depth of {i},')\n",
    "\n",
    "    # Print the model's accuracy and other information\n",
    "    print(f\"Model's Accuracy: {trn_score}\")\n",
    "    print(f\"Difference between Model and Basleine Accuracy: {trn_score - baseline_accuracy}\")\n",
    "    print('Train Classification Report')\n",
    "    print(trn_report)\n",
    "    print()\n",
    "    print('           VS             ')\n",
    "    print()\n",
    "    print(f'Validation Dataset Model with Max Depth of {i},')\n",
    "\n",
    "    print(f\"Model's Accuracy: {val_score}\")\n",
    "    print(f\"Difference between Model and Basleine Accuracy: {val_score - baseline_accuracy}\")\n",
    "    print('Validate Classification Report')\n",
    "    print(val_report)\n",
    "    print()\n",
    "    print(f'Difference bewtween Training and Validate:{trn_score-val_score}')\n",
    "    #print(val_report)\n",
    "    print()\n",
    "    print('----------------------------------------------------')\n",
    "    print()\n",
    "\n",
    "    # Increment 'i' and 'j' for the next iteration\n",
    "    i += 1\n",
    "\n",
    "    diff = trn_score-val_score\n",
    "    diff_list.append(diff)\n",
    "\n",
    "# create dictionaries for my data collection\n",
    "train_dict = {x: y for x, y in zip(train_depth, train_score_list)}\n",
    "val_dict = {x: y for x, y in zip(train_depth, val_score_list)}\n",
    "diff_dict = {x: y for x, y in zip(train_depth, diff_list)}\n",
    "\n",
    "print('*************FINAL ANALYSIS*************')\n",
    "model_number = 1\n",
    "for key, value in diff_dict.items():\n",
    "    if value == min(diff_dict.values()):\n",
    "        print()\n",
    "        print(f'Top Model #{model_number}')\n",
    "        \n",
    "        print()\n",
    "        print(f'''Top performing Training Model:\n",
    "        \n",
    "Max Depth:{key}\n",
    "Accuracy:{max(train_dict.values())}\n",
    "        \n",
    "Top performing Validation Model:\n",
    "\n",
    "Max Depth:{key}\n",
    "Accuracy:{max(val_dict.values())}\n",
    "Difference:{min(diff_dict.values())}''')\n",
    "        model_number+=1\n",
    "        print('---------------------------------')"
   ]
  },
  {
   "cell_type": "code",
   "execution_count": 76,
   "id": "2c193a5b",
   "metadata": {},
   "outputs": [],
   "source": [
    "key_values = []\n",
    "for key, value in diff_dict.items():\n",
    "    key_values.append(key)"
   ]
  },
  {
   "cell_type": "code",
   "execution_count": 77,
   "id": "c81ccc5e",
   "metadata": {},
   "outputs": [],
   "source": [
    "train_values = train_dict.values()"
   ]
  },
  {
   "cell_type": "code",
   "execution_count": 78,
   "id": "cc36c0d3",
   "metadata": {},
   "outputs": [],
   "source": [
    "validate_values = val_dict.values()"
   ]
  },
  {
   "cell_type": "code",
   "execution_count": 79,
   "id": "ab709e5a",
   "metadata": {},
   "outputs": [],
   "source": [
    "diff_values = diff_dict.values()"
   ]
  },
  {
   "cell_type": "code",
   "execution_count": 80,
   "id": "7b97aa52",
   "metadata": {},
   "outputs": [],
   "source": [
    "df = pd.DataFrame({'depth':key_values, 'train_acc':train_values, 'validate_acc':validate_values, 'difference':diff_values})\n"
   ]
  },
  {
   "cell_type": "code",
   "execution_count": 81,
   "id": "0d29deda",
   "metadata": {},
   "outputs": [
    {
     "data": {
      "image/png": "[encoded data removed]",
      "text/plain": [
       "<Figure size 1600x900 with 1 Axes>"
      ]
     },
     "metadata": {},
     "output_type": "display_data"
    }
   ],
   "source": [
    "df.set_index('depth').plot(figsize = (16,9))\n",
    "plt.ylabel('Accuracy')\n",
    "plt.xticks(np.arange(0,10,1))\n",
    "plt.grid()"
   ]
  },
  {
   "cell_type": "code",
   "execution_count": null,
   "id": "1f11aa18",
   "metadata": {},
   "outputs": [],
   "source": []
  }
 ],
 "metadata": {
  "kernelspec": {
   "display_name": "Python 3 (ipykernel)",
   "language": "python",
   "name": "python3"
  },
  "language_info": {
   "codemirror_mode": {
    "name": "ipython",
    "version": 3
   },
   "file_extension": ".py",
   "mimetype": "text/x-python",
   "name": "python",
   "nbconvert_exporter": "python",
   "pygments_lexer": "ipython3",
   "version": "3.10.9"
  }
 },
 "nbformat": 4,
 "nbformat_minor": 5
}
